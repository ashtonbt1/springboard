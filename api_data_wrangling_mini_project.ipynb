{
 "cells": [
  {
   "cell_type": "markdown",
   "source": [
    "This exercise will require you to pull some data from the Qunadl API. Qaundl is currently the most widely used aggregator of financial market data."
   ],
   "metadata": {}
  },
  {
   "cell_type": "markdown",
   "source": [
    "As a first step, you will need to register a free account on the http://www.quandl.com website."
   ],
   "metadata": {}
  },
  {
   "cell_type": "markdown",
   "source": [
    "After you register, you will be provided with a unique API key, that you should store:"
   ],
   "metadata": {}
  },
  {
   "cell_type": "code",
   "execution_count": 1,
   "source": [
    "# Store the API key as a string - according to PEP8, constants are always named in all upper case\n",
    "API_KEY = 'LxC7H9m2oPCaULoENqdp'"
   ],
   "outputs": [],
   "metadata": {
    "collapsed": true,
    "jupyter": {
     "outputs_hidden": true
    }
   }
  },
  {
   "cell_type": "markdown",
   "source": [
    "Qaundl has a large number of data sources, but, unfortunately, most of them require a Premium subscription. Still, there are also a good number of free datasets."
   ],
   "metadata": {}
  },
  {
   "cell_type": "markdown",
   "source": [
    "For this mini project, we will focus on equities data from the Frankfurt Stock Exhange (FSE), which is available for free. We'll try and analyze the stock prices of a company called Carl Zeiss Meditec, which manufactures tools for eye examinations, as well as medical lasers for laser eye surgery: https://www.zeiss.com/meditec/int/home.html. The company is listed under the stock ticker AFX_X."
   ],
   "metadata": {}
  },
  {
   "cell_type": "markdown",
   "source": [
    "You can find the detailed Quandl API instructions here: https://docs.quandl.com/docs/time-series"
   ],
   "metadata": {}
  },
  {
   "cell_type": "markdown",
   "source": [
    "While there is a dedicated Python package for connecting to the Quandl API, we would prefer that you use the *requests* package, which can be easily downloaded using *pip* or *conda*. You can find the documentation for the package here: http://docs.python-requests.org/en/master/ "
   ],
   "metadata": {}
  },
  {
   "cell_type": "markdown",
   "source": [
    "Finally, apart from the *requests* package, you are encouraged to not use any third party Python packages, such as *pandas*, and instead focus on what's available in the Python Standard Library (the *collections* module might come in handy: https://pymotw.com/3/collections/ ).\n",
    "Also, since you won't have access to DataFrames, you are encouraged to us Python's native data structures - preferably dictionaries, though some questions can also be answered using lists.\n",
    "You can read more on these data structures here: https://docs.python.org/3/tutorial/datastructures.html"
   ],
   "metadata": {}
  },
  {
   "cell_type": "markdown",
   "source": [
    "Keep in mind that the JSON responses you will be getting from the API map almost one-to-one to Python's dictionaries. Unfortunately, they can be very nested, so make sure you read up on indexing dictionaries in the documentation provided above."
   ],
   "metadata": {}
  },
  {
   "cell_type": "code",
   "execution_count": 2,
   "source": [
    "# First, import the relevant modules\n",
    "import requests\n",
    "import json\n",
    "from collections import namedtuple\n",
    "from pathlib import Path"
   ],
   "outputs": [],
   "metadata": {
    "collapsed": true,
    "jupyter": {
     "outputs_hidden": true
    }
   }
  },
  {
   "cell_type": "markdown",
   "source": [
    "Note: API's can change a bit with each version, for this exercise it is reccomended to use the \"V3\" quandl api at `https://www.quandl.com/api/v3/`"
   ],
   "metadata": {}
  },
  {
   "cell_type": "code",
   "execution_count": 3,
   "source": [
    "# Now, call the Quandl API and pull out a small sample of the data (only one day) to get a glimpse\n",
    "# into the JSON structure that will be returned\n",
    "res = requests.get(f\"https://quandl.com/api/v3/datasets/FSE/AFX_X/data.json?api_key={API_KEY}&start_date=2020-05-20&end_date=2020-05-20\")\n",
    "print(res.text)"
   ],
   "outputs": [
    {
     "output_type": "stream",
     "name": "stdout",
     "text": [
      "{\"dataset_data\":{\"limit\":null,\"transform\":null,\"column_index\":null,\"column_names\":[\"Date\",\"Open\",\"High\",\"Low\",\"Close\",\"Change\",\"Traded Volume\",\"Turnover\",\"Last Price of the Day\",\"Daily Traded Units\",\"Daily Turnover\"],\"start_date\":\"2020-05-20\",\"end_date\":\"2020-05-20\",\"frequency\":\"daily\",\"data\":[[\"2020-05-20\",92.5,93.3,91.3,91.8,null,169820.0,15657134.85,null,null,null]],\"collapse\":null,\"order\":null}}\n"
     ]
    }
   ],
   "metadata": {
    "collapsed": true,
    "jupyter": {
     "outputs_hidden": true
    }
   }
  },
  {
   "cell_type": "code",
   "execution_count": 4,
   "source": [
    "# Inspect the JSON structure of the object you created, and take note of how nested it is,\n",
    "# as well as the overall structure\n",
    "json.loads(res.text)"
   ],
   "outputs": [
    {
     "output_type": "execute_result",
     "data": {
      "text/plain": [
       "{'dataset_data': {'limit': None,\n",
       "  'transform': None,\n",
       "  'column_index': None,\n",
       "  'column_names': ['Date',\n",
       "   'Open',\n",
       "   'High',\n",
       "   'Low',\n",
       "   'Close',\n",
       "   'Change',\n",
       "   'Traded Volume',\n",
       "   'Turnover',\n",
       "   'Last Price of the Day',\n",
       "   'Daily Traded Units',\n",
       "   'Daily Turnover'],\n",
       "  'start_date': '2020-05-20',\n",
       "  'end_date': '2020-05-20',\n",
       "  'frequency': 'daily',\n",
       "  'data': [['2020-05-20',\n",
       "    92.5,\n",
       "    93.3,\n",
       "    91.3,\n",
       "    91.8,\n",
       "    None,\n",
       "    169820.0,\n",
       "    15657134.85,\n",
       "    None,\n",
       "    None,\n",
       "    None]],\n",
       "  'collapse': None,\n",
       "  'order': None}}"
      ]
     },
     "metadata": {},
     "execution_count": 4
    }
   ],
   "metadata": {
    "collapsed": true,
    "jupyter": {
     "outputs_hidden": true
    }
   }
  },
  {
   "cell_type": "markdown",
   "source": [
    "These are your tasks for this mini project:\n",
    "\n",
    "1. Collect data from the Franfurt Stock Exchange, for the ticker AFX_X, for the whole year 2017 (keep in mind that the date format is YYYY-MM-DD).\n",
    "2. Convert the returned JSON object into a Python dictionary.\n",
    "3. Calculate what the highest and lowest opening prices were for the stock in this period.\n",
    "4. What was the largest change in any one day (based on High and Low price)?\n",
    "5. What was the largest change between any two days (based on Closing Price)?\n",
    "6. What was the average daily trading volume during this year?\n",
    "7. (Optional) What was the median trading volume during this year. (Note: you may need to implement your own function for calculating the median.)"
   ],
   "metadata": {}
  },
  {
   "cell_type": "code",
   "execution_count": 5,
   "source": [
    "def get_quandl_data(api_key, data_source, ticker, start_date, end_date, use_cache=None):\n",
    "    \"\"\"\n",
    "    Retrieves daily stock data from Quandl API (v3).\n",
    "\n",
    "    Parameters\n",
    "    ----------\n",
    "    api_key: str\n",
    "        Provided key from Quandl after registering for an account\n",
    "    data_source: str\n",
    "        Indicates which stock exchange the data should be returned from\n",
    "    ticker: str\n",
    "        The company ticker for the data_source provided\n",
    "    start_date: str\n",
    "        The first date (inclusive) in the date range requested. This\n",
    "        should be formatted as 'YYYY-MM-DD'.\n",
    "    end_date: str\n",
    "        The last date (inclusive) in the date range requested. This\n",
    "        should be formatted as 'YYYY-MM-DD'.\n",
    "    use_cache: str\n",
    "        Path to a locally saved copy in case API calls are running low.\n",
    "        Must be a properly formatted local path.\n",
    "    \n",
    "    Returns\n",
    "    -------\n",
    "    str\n",
    "        A string with a properly formatted JSON payload featuring,\n",
    "        among other things, an array called 'column_names' and an\n",
    "        object called 'data' with a nested array for each date in\n",
    "        the provided range.\n",
    "    \"\"\"\n",
    "    if use_cache:\n",
    "        try:\n",
    "            with open(use_cache, 'r') as infile:\n",
    "                return json.load(infile)\n",
    "        except:\n",
    "            print(\"File does not exist\")\n",
    "            return None\n",
    "    BASE_URL = f\"https://quandl.com/api/v3/datasets/{data_source}/{ticker}/data.json\"\n",
    "    res = requests.get(f\"{BASE_URL}?api_key={api_key}&start_date={start_date}&end_date={end_date}\")\n",
    "    return json.loads(res.text)\n",
    "    \n",
    "\n",
    "def create_daily_dict(data):\n",
    "    \"\"\"\n",
    "    Takes a dictionary from a JSON payload in a set format as returned by\n",
    "    Quandl (now NASDAQ Data) and turns it into a dictionary with dates as\n",
    "    the key and the daily metrics as a named tuple.\n",
    "    \n",
    "    Parameters\n",
    "    ----------\n",
    "    data: dict\n",
    "        Properly formatted dictionary matching the Quandl JSON payload.\n",
    "        The function assumes that this dict is formatted as expected,\n",
    "        the function will throw an error if not.\n",
    "    \n",
    "    Returns\n",
    "    -------\n",
    "    dict\n",
    "        Dictionary with each date as the key (YYYY-MM-DD) and a\n",
    "        named tuple as the value using the column_names returned\n",
    "        in the JSON payload.\n",
    "    \"\"\"\n",
    "    cols = [x.replace(' ', '_').lower() for x in data['dataset_data']['column_names'][1:]]\n",
    "    FSE_Date = namedtuple('FSE_Date', cols)\n",
    "    daily_dict = {x[0]: FSE_Date(*x[1:]) for x in data['dataset_data']['data']}\n",
    "    return {k: daily_dict[k] for k in sorted(daily_dict)}\n"
   ],
   "outputs": [],
   "metadata": {
    "collapsed": true,
    "jupyter": {
     "outputs_hidden": true
    }
   }
  },
  {
   "cell_type": "code",
   "execution_count": 6,
   "source": [
    "# Request for FSE ticker AFX_X for the entire year of 2017\n",
    "res = get_quandl_data(API_KEY, 'FSE', 'AFX_X', '2017-01-01', '2017-12-31')\n",
    "dd = create_daily_dict(res)\n",
    "# Well shoot. No weekends means that I won't be able to just use date as\n",
    "# an index like I was planning. But that makes sense since the exchange\n",
    "# is closed."
   ],
   "outputs": [],
   "metadata": {}
  },
  {
   "cell_type": "code",
   "execution_count": 7,
   "source": [
    "# Calculate what the highest and lowest opening prices were for the stock in this period.\n",
    "# A bit tricky, there are Nones for three open prices, 4/14, 4/17, and 5/1.\n",
    "open_prices = [x.open for x in dd.values() if x.open is not None]\n",
    "print(f\"The highest opening price is {max(open_prices)}.\")\n",
    "print(f\"The lowest opening price is {min(open_prices)}.\")"
   ],
   "outputs": [
    {
     "output_type": "stream",
     "name": "stdout",
     "text": [
      "The highest opening price is 53.11.\n",
      "The lowest opening price is 34.0.\n"
     ]
    }
   ],
   "metadata": {}
  },
  {
   "cell_type": "code",
   "execution_count": 8,
   "source": [
    "# What was the largest change in any one day (based on High and Low price)?\n",
    "changes = [x.high - x.low for x in dd.values() if x.high is not None and x.low is not None]\n",
    "print(f\"The largest one-day change is {round(max(changes), 2)}.\")"
   ],
   "outputs": [
    {
     "output_type": "stream",
     "name": "stdout",
     "text": [
      "The largest one-day change is 2.81.\n"
     ]
    }
   ],
   "metadata": {}
  },
  {
   "cell_type": "code",
   "execution_count": 9,
   "source": [
    "# What was the largest change between any two days (based on Closing Price)?\n",
    "close_deltas = [(tuple(dd.values())[i].close, tuple(dd.values())[i+1].close) for i in range(len(dd)-1)]\n",
    "# print([i for i in range(5)])\n",
    "print(f\"The largest change between close dates is {round(max([d[1] - d[0] for d in close_deltas]),2)}\")"
   ],
   "outputs": [
    {
     "output_type": "stream",
     "name": "stdout",
     "text": [
      "The largest change between close dates is 1.72\n"
     ]
    }
   ],
   "metadata": {}
  },
  {
   "cell_type": "code",
   "execution_count": 10,
   "source": [
    "# What was the average daily trading volume during this year?\n",
    "trade_vols = [x.traded_volume for x in dd.values()]\n",
    "print(f\"The average daily trading volume is {round(sum(trade_vols)/len(trade_vols),2)}\")"
   ],
   "outputs": [
    {
     "output_type": "stream",
     "name": "stdout",
     "text": [
      "The average daily trading volume is 89124.34\n"
     ]
    }
   ],
   "metadata": {}
  },
  {
   "cell_type": "code",
   "execution_count": 11,
   "source": [
    "# What was the median trading volume during this year?\n",
    "def median(nums):\n",
    "    srt_nums = sorted(nums)\n",
    "    len_nums = len(nums)\n",
    "    if len(srt_nums) % 2 == 0:\n",
    "        mid_point = int((len_nums / 2) - 1)\n",
    "        return sum(srt_nums[mid_point:mid_point+2])/2\n",
    "    elif len(srt_nums) > 0:\n",
    "        return srt_nums[int((len_nums-1)/2)]\n",
    "    else:\n",
    "        return None\n",
    "\n",
    "print(f\"The median daily trading volume is {median(trade_vols)}.\")"
   ],
   "outputs": [
    {
     "output_type": "stream",
     "name": "stdout",
     "text": [
      "The median daily trading volume is 76286.0.\n"
     ]
    }
   ],
   "metadata": {}
  }
 ],
 "metadata": {
  "kernelspec": {
   "name": "python3",
   "display_name": "Python 3.8.8 64-bit ('base': conda)"
  },
  "language_info": {
   "codemirror_mode": {
    "name": "ipython",
    "version": 3
   },
   "file_extension": ".py",
   "mimetype": "text/x-python",
   "name": "python",
   "nbconvert_exporter": "python",
   "pygments_lexer": "ipython3",
   "version": "3.8.8"
  },
  "interpreter": {
   "hash": "dd659fe070a3178317b6f9ce10859e575b9ba889aca3e1b47277b5330d025227"
  }
 },
 "nbformat": 4,
 "nbformat_minor": 4
}