{
 "cells": [
  {
   "cell_type": "markdown",
   "source": [
    "# Springboard Data Science Career Track Unit 4 Challenge - Tier 3 Complete\n",
    "\n",
    "## Objectives\n",
    "Hey! Great job getting through those challenging DataCamp courses. You're learning a lot in a short span of time. \n",
    "\n",
    "In this notebook, you're going to apply the skills you've been learning, bridging the gap between the controlled environment of DataCamp and the *slightly* messier work that data scientists do with actual datasets!\n",
    "\n",
    "Here’s the mystery we’re going to solve: ***which boroughs of London have seen the greatest increase in housing prices, on average, over the last two decades?***\n",
    "\n",
    "\n",
    "A borough is just a fancy word for district. You may be familiar with the five boroughs of New York… well, there are 32 boroughs within Greater London [(here's some info for the curious)](https://en.wikipedia.org/wiki/London_boroughs). Some of them are more desirable areas to live in, and the data will reflect that with a greater rise in housing prices.\n",
    "\n",
    "***This is the Tier 3 notebook, which means it's not filled in at all: we'll just give you the skeleton of a project, the brief and the data. It's up to you to play around with it and see what you can find out! Good luck! If you struggle, feel free to look at easier tiers for help; but try to dip in and out of them, as the more independent work you do, the better it is for your learning!***\n",
    "\n",
    "This challenge will make use of only what you learned in the following DataCamp courses: \n",
    "- Prework courses (Introduction to Python for Data Science, Intermediate Python for Data Science)\n",
    "- Data Types for Data Science\n",
    "- Python Data Science Toolbox (Part One) \n",
    "- pandas Foundations\n",
    "- Manipulating DataFrames with pandas\n",
    "- Merging DataFrames with pandas\n",
    "\n",
    "Of the tools, techniques and concepts in the above DataCamp courses, this challenge should require the application of the following: \n",
    "- **pandas**\n",
    "    - **data ingestion and inspection** (pandas Foundations, Module One) \n",
    "    - **exploratory data analysis** (pandas Foundations, Module Two)\n",
    "    - **tidying and cleaning** (Manipulating DataFrames with pandas, Module Three) \n",
    "    - **transforming DataFrames** (Manipulating DataFrames with pandas, Module One)\n",
    "    - **subsetting DataFrames with lists** (Manipulating DataFrames with pandas, Module One) \n",
    "    - **filtering DataFrames** (Manipulating DataFrames with pandas, Module One) \n",
    "    - **grouping data** (Manipulating DataFrames with pandas, Module Four) \n",
    "    - **melting data** (Manipulating DataFrames with pandas, Module Three) \n",
    "    - **advanced indexing** (Manipulating DataFrames with pandas, Module Four) \n",
    "- **matplotlib** (Intermediate Python for Data Science, Module One)\n",
    "- **fundamental data types** (Data Types for Data Science, Module One) \n",
    "- **dictionaries** (Intermediate Python for Data Science, Module Two)\n",
    "- **handling dates and times** (Data Types for Data Science, Module Four)\n",
    "- **function definition** (Python Data Science Toolbox - Part One, Module One)\n",
    "- **default arguments, variable length, and scope** (Python Data Science Toolbox - Part One, Module Two) \n",
    "- **lambda functions and error handling** (Python Data Science Toolbox - Part One, Module Four) "
   ],
   "metadata": {
    "colab_type": "text",
    "id": "Tia3MP1SJpgj"
   }
  },
  {
   "cell_type": "markdown",
   "source": [
    "## The Data Science Pipeline\n",
    "\n",
    "This is Tier Three, so we'll get you started. But after that, it's all in your hands! When you feel done with your investigations, look back over what you've accomplished, and prepare a quick presentation of your findings for the next mentor meeting. \n",
    "\n",
    "Data Science is magical. In this case study, you'll get to apply some complex machine learning algorithms. But as  [David Spiegelhalter](https://www.youtube.com/watch?v=oUs1uvsz0Ok) reminds us, there is no substitute for simply **taking a really, really good look at the data.** Sometimes, this is all we need to answer our question.\n",
    "\n",
    "Data Science projects generally adhere to the four stages of Data Science Pipeline:\n",
    "1. Sourcing and loading \n",
    "2. Cleaning, transforming, and visualizing \n",
    "3. Modeling \n",
    "4. Evaluating and concluding \n"
   ],
   "metadata": {
    "colab_type": "text",
    "id": "Ipgd2nV8Jpgl"
   }
  },
  {
   "cell_type": "markdown",
   "source": [
    "### 1. Sourcing and Loading \n",
    "\n",
    "Any Data Science project kicks off by importing  ***pandas***. The documentation of this wonderful library can be found [here](https://pandas.pydata.org/). As you've seen, pandas is conveniently connected to the [Numpy](http://www.numpy.org/) and [Matplotlib](https://matplotlib.org/) libraries. \n",
    "\n",
    "***Hint:*** This part of the data science pipeline will test those skills you acquired in the pandas Foundations course, Module One. "
   ],
   "metadata": {
    "colab_type": "text",
    "id": "zswDqbefJpgm"
   }
  },
  {
   "cell_type": "markdown",
   "source": [
    "#### 1.1. Importing Libraries"
   ],
   "metadata": {
    "colab_type": "text",
    "id": "aEau5nEvJpgm"
   }
  },
  {
   "cell_type": "code",
   "execution_count": 81,
   "source": [
    "# Let's import the pandas, numpy libraries as pd, and np respectively. \n",
    "import pandas as pd\n",
    "import numpy as np\n",
    "\n",
    "# Load the pyplot collection of functions from matplotlib, as plt \n",
    "import matplotlib.pyplot as plt\n",
    "\n",
    "# Import IPython's display module\n",
    "from IPython.display import display"
   ],
   "outputs": [],
   "metadata": {
    "colab": {},
    "colab_type": "code",
    "id": "7Bt_Q_oPJpgn"
   }
  },
  {
   "cell_type": "markdown",
   "source": [
    "#### 1.2.  Loading the data\n",
    "Your data comes from the [London Datastore](https://data.london.gov.uk/): a free, open-source data-sharing portal for London-oriented datasets. "
   ],
   "metadata": {
    "colab_type": "text",
    "id": "koUrawxsJpgq"
   }
  },
  {
   "cell_type": "code",
   "execution_count": 82,
   "source": [
    "# First, make a variable called url_LondonHousePrices, and assign it the following link, enclosed in quotation-marks as a string:\n",
    "# https://data.london.gov.uk/download/uk-house-price-index/70ac0766-8902-4eb5-aab5-01951aaed773/UK%20House%20price%20index.xls\n",
    "\n",
    "url_LondonHousePrices = \"https://data.london.gov.uk/download/uk-house-price-index/70ac0766-8902-4eb5-aab5-01951aaed773/UK%20House%20price%20index.xls\"\n",
    "\n",
    "# The dataset we're interested in contains the Average prices of the houses, and is actually on a particular sheet of the Excel file. \n",
    "# As a result, we need to specify the sheet name in the read_excel() method.\n",
    "# Put this data into a variable called properties.  \n",
    "properties = pd.read_excel(url_LondonHousePrices, sheet_name='Average price', index_col= None)"
   ],
   "outputs": [],
   "metadata": {
    "colab": {},
    "colab_type": "code",
    "id": "AiLiD4v3Jpgr"
   }
  },
  {
   "cell_type": "markdown",
   "source": [
    "### 2. Cleaning, transforming, and visualizing\n",
    "This second stage is arguably the most important part of any Data Science project. The first thing to do is take a proper look at the data. Cleaning forms the majority of this stage, and can be done both before or after Transformation.\n",
    "\n",
    "The end goal of data cleaning is to have tidy data. When data is tidy: \n",
    "\n",
    "1. Each variable has a column.\n",
    "2. Each observation forms a row.\n",
    "\n",
    "Keep the end goal in mind as you move through this process, every step will take you closer. \n",
    "\n",
    "\n",
    "\n",
    "***Hint:*** This part of the data science pipeline should test those skills you acquired in: \n",
    "- Intermediate Python for data science, all modules.\n",
    "- pandas Foundations, all modules. \n",
    "- Manipulating DataFrames with pandas, all modules.\n",
    "- Data Types for Data Science, Module Four.\n",
    "- Python Data Science Toolbox - Part One, all modules"
   ],
   "metadata": {
    "colab_type": "text",
    "id": "POukEJXgJpgu"
   }
  },
  {
   "cell_type": "markdown",
   "source": [
    "**2.1. Exploring your data** \n",
    "\n",
    "Think about your pandas functions for checking out a dataframe. "
   ],
   "metadata": {
    "colab_type": "text",
    "id": "Te0Q548tnzZa"
   }
  },
  {
   "cell_type": "code",
   "execution_count": 83,
   "source": [
    "display(properties.head())\n",
    "display(properties.shape)\n",
    "display(properties.columns)\n",
    "display(properties.info())"
   ],
   "outputs": [
    {
     "output_type": "display_data",
     "data": {
      "text/html": [
       "<div>\n",
       "<style scoped>\n",
       "    .dataframe tbody tr th:only-of-type {\n",
       "        vertical-align: middle;\n",
       "    }\n",
       "\n",
       "    .dataframe tbody tr th {\n",
       "        vertical-align: top;\n",
       "    }\n",
       "\n",
       "    .dataframe thead th {\n",
       "        text-align: right;\n",
       "    }\n",
       "</style>\n",
       "<table border=\"1\" class=\"dataframe\">\n",
       "  <thead>\n",
       "    <tr style=\"text-align: right;\">\n",
       "      <th></th>\n",
       "      <th>Unnamed: 0</th>\n",
       "      <th>City of London</th>\n",
       "      <th>Barking &amp; Dagenham</th>\n",
       "      <th>Barnet</th>\n",
       "      <th>Bexley</th>\n",
       "      <th>Brent</th>\n",
       "      <th>Bromley</th>\n",
       "      <th>Camden</th>\n",
       "      <th>Croydon</th>\n",
       "      <th>Ealing</th>\n",
       "      <th>...</th>\n",
       "      <th>NORTH WEST</th>\n",
       "      <th>YORKS &amp; THE HUMBER</th>\n",
       "      <th>EAST MIDLANDS</th>\n",
       "      <th>WEST MIDLANDS</th>\n",
       "      <th>EAST OF ENGLAND</th>\n",
       "      <th>LONDON</th>\n",
       "      <th>SOUTH EAST</th>\n",
       "      <th>SOUTH WEST</th>\n",
       "      <th>Unnamed: 47</th>\n",
       "      <th>England</th>\n",
       "    </tr>\n",
       "  </thead>\n",
       "  <tbody>\n",
       "    <tr>\n",
       "      <th>0</th>\n",
       "      <td>NaT</td>\n",
       "      <td>E09000001</td>\n",
       "      <td>E09000002</td>\n",
       "      <td>E09000003</td>\n",
       "      <td>E09000004</td>\n",
       "      <td>E09000005</td>\n",
       "      <td>E09000006</td>\n",
       "      <td>E09000007</td>\n",
       "      <td>E09000008</td>\n",
       "      <td>E09000009</td>\n",
       "      <td>...</td>\n",
       "      <td>E12000002</td>\n",
       "      <td>E12000003</td>\n",
       "      <td>E12000004</td>\n",
       "      <td>E12000005</td>\n",
       "      <td>E12000006</td>\n",
       "      <td>E12000007</td>\n",
       "      <td>E12000008</td>\n",
       "      <td>E12000009</td>\n",
       "      <td>NaN</td>\n",
       "      <td>E92000001</td>\n",
       "    </tr>\n",
       "    <tr>\n",
       "      <th>1</th>\n",
       "      <td>1995-01-01</td>\n",
       "      <td>91448.98487</td>\n",
       "      <td>50460.2266</td>\n",
       "      <td>93284.51832</td>\n",
       "      <td>64958.09036</td>\n",
       "      <td>71306.56698</td>\n",
       "      <td>81671.47692</td>\n",
       "      <td>120932.8881</td>\n",
       "      <td>69158.16225</td>\n",
       "      <td>79885.89069</td>\n",
       "      <td>...</td>\n",
       "      <td>43958.48001</td>\n",
       "      <td>44803.42878</td>\n",
       "      <td>45544.52227</td>\n",
       "      <td>48527.52339</td>\n",
       "      <td>56701.5961</td>\n",
       "      <td>74435.76052</td>\n",
       "      <td>64018.87894</td>\n",
       "      <td>54705.1579</td>\n",
       "      <td>NaN</td>\n",
       "      <td>53202.77128</td>\n",
       "    </tr>\n",
       "    <tr>\n",
       "      <th>2</th>\n",
       "      <td>1995-02-01</td>\n",
       "      <td>82202.77314</td>\n",
       "      <td>51085.77983</td>\n",
       "      <td>93190.16963</td>\n",
       "      <td>64787.92069</td>\n",
       "      <td>72022.26197</td>\n",
       "      <td>81657.55944</td>\n",
       "      <td>119508.8622</td>\n",
       "      <td>68951.09542</td>\n",
       "      <td>80897.06551</td>\n",
       "      <td>...</td>\n",
       "      <td>43925.42289</td>\n",
       "      <td>44528.80721</td>\n",
       "      <td>46051.57066</td>\n",
       "      <td>49341.29029</td>\n",
       "      <td>56593.59475</td>\n",
       "      <td>72777.93709</td>\n",
       "      <td>63715.02399</td>\n",
       "      <td>54356.14843</td>\n",
       "      <td>NaN</td>\n",
       "      <td>53096.1549</td>\n",
       "    </tr>\n",
       "    <tr>\n",
       "      <th>3</th>\n",
       "      <td>1995-03-01</td>\n",
       "      <td>79120.70256</td>\n",
       "      <td>51268.96956</td>\n",
       "      <td>92247.52435</td>\n",
       "      <td>64367.49344</td>\n",
       "      <td>72015.76274</td>\n",
       "      <td>81449.31143</td>\n",
       "      <td>120282.2131</td>\n",
       "      <td>68712.44341</td>\n",
       "      <td>81379.86288</td>\n",
       "      <td>...</td>\n",
       "      <td>44434.8681</td>\n",
       "      <td>45200.46775</td>\n",
       "      <td>45383.82395</td>\n",
       "      <td>49442.17973</td>\n",
       "      <td>56171.18278</td>\n",
       "      <td>73896.84204</td>\n",
       "      <td>64113.60858</td>\n",
       "      <td>53583.07667</td>\n",
       "      <td>NaN</td>\n",
       "      <td>53201.2843</td>\n",
       "    </tr>\n",
       "    <tr>\n",
       "      <th>4</th>\n",
       "      <td>1995-04-01</td>\n",
       "      <td>77101.20804</td>\n",
       "      <td>53133.50526</td>\n",
       "      <td>90762.87492</td>\n",
       "      <td>64277.66881</td>\n",
       "      <td>72965.63094</td>\n",
       "      <td>81124.41227</td>\n",
       "      <td>120097.899</td>\n",
       "      <td>68610.04641</td>\n",
       "      <td>82188.90498</td>\n",
       "      <td>...</td>\n",
       "      <td>44267.7796</td>\n",
       "      <td>45614.34341</td>\n",
       "      <td>46124.23045</td>\n",
       "      <td>49455.93299</td>\n",
       "      <td>56567.89582</td>\n",
       "      <td>74455.28754</td>\n",
       "      <td>64623.22395</td>\n",
       "      <td>54786.01938</td>\n",
       "      <td>NaN</td>\n",
       "      <td>53590.8548</td>\n",
       "    </tr>\n",
       "  </tbody>\n",
       "</table>\n",
       "<p>5 rows × 49 columns</p>\n",
       "</div>"
      ],
      "text/plain": [
       "  Unnamed: 0 City of London Barking & Dagenham       Barnet       Bexley  \\\n",
       "0        NaT      E09000001          E09000002    E09000003    E09000004   \n",
       "1 1995-01-01    91448.98487         50460.2266  93284.51832  64958.09036   \n",
       "2 1995-02-01    82202.77314        51085.77983  93190.16963  64787.92069   \n",
       "3 1995-03-01    79120.70256        51268.96956  92247.52435  64367.49344   \n",
       "4 1995-04-01    77101.20804        53133.50526  90762.87492  64277.66881   \n",
       "\n",
       "         Brent      Bromley       Camden      Croydon       Ealing  ...  \\\n",
       "0    E09000005    E09000006    E09000007    E09000008    E09000009  ...   \n",
       "1  71306.56698  81671.47692  120932.8881  69158.16225  79885.89069  ...   \n",
       "2  72022.26197  81657.55944  119508.8622  68951.09542  80897.06551  ...   \n",
       "3  72015.76274  81449.31143  120282.2131  68712.44341  81379.86288  ...   \n",
       "4  72965.63094  81124.41227   120097.899  68610.04641  82188.90498  ...   \n",
       "\n",
       "    NORTH WEST YORKS & THE HUMBER EAST MIDLANDS WEST MIDLANDS EAST OF ENGLAND  \\\n",
       "0    E12000002          E12000003     E12000004     E12000005       E12000006   \n",
       "1  43958.48001        44803.42878   45544.52227   48527.52339      56701.5961   \n",
       "2  43925.42289        44528.80721   46051.57066   49341.29029     56593.59475   \n",
       "3   44434.8681        45200.46775   45383.82395   49442.17973     56171.18278   \n",
       "4   44267.7796        45614.34341   46124.23045   49455.93299     56567.89582   \n",
       "\n",
       "        LONDON   SOUTH EAST   SOUTH WEST Unnamed: 47      England  \n",
       "0    E12000007    E12000008    E12000009         NaN    E92000001  \n",
       "1  74435.76052  64018.87894   54705.1579         NaN  53202.77128  \n",
       "2  72777.93709  63715.02399  54356.14843         NaN   53096.1549  \n",
       "3  73896.84204  64113.60858  53583.07667         NaN   53201.2843  \n",
       "4  74455.28754  64623.22395  54786.01938         NaN   53590.8548  \n",
       "\n",
       "[5 rows x 49 columns]"
      ]
     },
     "metadata": {}
    },
    {
     "output_type": "display_data",
     "data": {
      "text/plain": [
       "(319, 49)"
      ]
     },
     "metadata": {}
    },
    {
     "output_type": "display_data",
     "data": {
      "text/plain": [
       "Index(['Unnamed: 0', 'City of London', 'Barking & Dagenham', 'Barnet',\n",
       "       'Bexley', 'Brent', 'Bromley', 'Camden', 'Croydon', 'Ealing', 'Enfield',\n",
       "       'Greenwich', 'Hackney', 'Hammersmith & Fulham', 'Haringey', 'Harrow',\n",
       "       'Havering', 'Hillingdon', 'Hounslow', 'Islington',\n",
       "       'Kensington & Chelsea', 'Kingston upon Thames', 'Lambeth', 'Lewisham',\n",
       "       'Merton', 'Newham', 'Redbridge', 'Richmond upon Thames', 'Southwark',\n",
       "       'Sutton', 'Tower Hamlets', 'Waltham Forest', 'Wandsworth',\n",
       "       'Westminster', 'Unnamed: 34', 'Inner London', 'Outer London',\n",
       "       'Unnamed: 37', 'NORTH EAST', 'NORTH WEST', 'YORKS & THE HUMBER',\n",
       "       'EAST MIDLANDS', 'WEST MIDLANDS', 'EAST OF ENGLAND', 'LONDON',\n",
       "       'SOUTH EAST', 'SOUTH WEST', 'Unnamed: 47', 'England'],\n",
       "      dtype='object')"
      ]
     },
     "metadata": {}
    },
    {
     "output_type": "stream",
     "name": "stdout",
     "text": [
      "<class 'pandas.core.frame.DataFrame'>\n",
      "RangeIndex: 319 entries, 0 to 318\n",
      "Data columns (total 49 columns):\n",
      " #   Column                Non-Null Count  Dtype         \n",
      "---  ------                --------------  -----         \n",
      " 0   Unnamed: 0            318 non-null    datetime64[ns]\n",
      " 1   City of London        319 non-null    object        \n",
      " 2   Barking & Dagenham    319 non-null    object        \n",
      " 3   Barnet                319 non-null    object        \n",
      " 4   Bexley                319 non-null    object        \n",
      " 5   Brent                 319 non-null    object        \n",
      " 6   Bromley               319 non-null    object        \n",
      " 7   Camden                319 non-null    object        \n",
      " 8   Croydon               319 non-null    object        \n",
      " 9   Ealing                319 non-null    object        \n",
      " 10  Enfield               319 non-null    object        \n",
      " 11  Greenwich             319 non-null    object        \n",
      " 12  Hackney               319 non-null    object        \n",
      " 13  Hammersmith & Fulham  319 non-null    object        \n",
      " 14  Haringey              319 non-null    object        \n",
      " 15  Harrow                319 non-null    object        \n",
      " 16  Havering              319 non-null    object        \n",
      " 17  Hillingdon            319 non-null    object        \n",
      " 18  Hounslow              319 non-null    object        \n",
      " 19  Islington             319 non-null    object        \n",
      " 20  Kensington & Chelsea  319 non-null    object        \n",
      " 21  Kingston upon Thames  319 non-null    object        \n",
      " 22  Lambeth               319 non-null    object        \n",
      " 23  Lewisham              319 non-null    object        \n",
      " 24  Merton                319 non-null    object        \n",
      " 25  Newham                319 non-null    object        \n",
      " 26  Redbridge             319 non-null    object        \n",
      " 27  Richmond upon Thames  319 non-null    object        \n",
      " 28  Southwark             319 non-null    object        \n",
      " 29  Sutton                319 non-null    object        \n",
      " 30  Tower Hamlets         319 non-null    object        \n",
      " 31  Waltham Forest        319 non-null    object        \n",
      " 32  Wandsworth            319 non-null    object        \n",
      " 33  Westminster           319 non-null    object        \n",
      " 34  Unnamed: 34           0 non-null      float64       \n",
      " 35  Inner London          319 non-null    object        \n",
      " 36  Outer London          319 non-null    object        \n",
      " 37  Unnamed: 37           0 non-null      float64       \n",
      " 38  NORTH EAST            319 non-null    object        \n",
      " 39  NORTH WEST            319 non-null    object        \n",
      " 40  YORKS & THE HUMBER    319 non-null    object        \n",
      " 41  EAST MIDLANDS         319 non-null    object        \n",
      " 42  WEST MIDLANDS         319 non-null    object        \n",
      " 43  EAST OF ENGLAND       319 non-null    object        \n",
      " 44  LONDON                319 non-null    object        \n",
      " 45  SOUTH EAST            319 non-null    object        \n",
      " 46  SOUTH WEST            319 non-null    object        \n",
      " 47  Unnamed: 47           0 non-null      float64       \n",
      " 48  England               319 non-null    object        \n",
      "dtypes: datetime64[ns](1), float64(3), object(45)\n",
      "memory usage: 122.2+ KB\n"
     ]
    },
    {
     "output_type": "display_data",
     "data": {
      "text/plain": [
       "None"
      ]
     },
     "metadata": {}
    }
   ],
   "metadata": {
    "colab": {},
    "colab_type": "code",
    "id": "Rxirxw_qoAJa"
   }
  },
  {
   "cell_type": "markdown",
   "source": [
    "**2.2. Cleaning the data**\n",
    "\n",
    "You might find you need to transpose your dataframe, check out what its row indexes are, and reset the index. You  also might find you need to assign the values of the first row to your column headings  . (Hint: recall the .columns feature of DataFrames, as well as the iloc[] method).\n",
    "\n",
    "Don't be afraid to use StackOverflow for help  with this."
   ],
   "metadata": {
    "colab_type": "text",
    "id": "tE9Sqt9-oAta"
   }
  },
  {
   "cell_type": "code",
   "execution_count": 84,
   "source": [
    "props_df = (properties\n",
    "    .transpose()\n",
    "    .reset_index()\n",
    ")\n",
    "\n",
    "# I can't get the chaining to work with iloc/renaming... Bummer, I'll try to figure that out later.\n",
    "props_df = (props_df\n",
    "    .rename(columns=props_df.iloc[0])\n",
    "    .drop(0)\n",
    ")\n",
    "\n",
    "props_df.head()"
   ],
   "outputs": [
    {
     "output_type": "execute_result",
     "data": {
      "text/html": [
       "<div>\n",
       "<style scoped>\n",
       "    .dataframe tbody tr th:only-of-type {\n",
       "        vertical-align: middle;\n",
       "    }\n",
       "\n",
       "    .dataframe tbody tr th {\n",
       "        vertical-align: top;\n",
       "    }\n",
       "\n",
       "    .dataframe thead th {\n",
       "        text-align: right;\n",
       "    }\n",
       "</style>\n",
       "<table border=\"1\" class=\"dataframe\">\n",
       "  <thead>\n",
       "    <tr style=\"text-align: right;\">\n",
       "      <th></th>\n",
       "      <th>Unnamed: 0</th>\n",
       "      <th>NaN</th>\n",
       "      <th>1995-01-01 00:00:00</th>\n",
       "      <th>1995-02-01 00:00:00</th>\n",
       "      <th>1995-03-01 00:00:00</th>\n",
       "      <th>1995-04-01 00:00:00</th>\n",
       "      <th>1995-05-01 00:00:00</th>\n",
       "      <th>1995-06-01 00:00:00</th>\n",
       "      <th>1995-07-01 00:00:00</th>\n",
       "      <th>1995-08-01 00:00:00</th>\n",
       "      <th>...</th>\n",
       "      <th>2020-09-01 00:00:00</th>\n",
       "      <th>2020-10-01 00:00:00</th>\n",
       "      <th>2020-11-01 00:00:00</th>\n",
       "      <th>2020-12-01 00:00:00</th>\n",
       "      <th>2021-01-01 00:00:00</th>\n",
       "      <th>2021-02-01 00:00:00</th>\n",
       "      <th>2021-03-01 00:00:00</th>\n",
       "      <th>2021-04-01 00:00:00</th>\n",
       "      <th>2021-05-01 00:00:00</th>\n",
       "      <th>2021-06-01 00:00:00</th>\n",
       "    </tr>\n",
       "  </thead>\n",
       "  <tbody>\n",
       "    <tr>\n",
       "      <th>1</th>\n",
       "      <td>City of London</td>\n",
       "      <td>E09000001</td>\n",
       "      <td>91448.98487</td>\n",
       "      <td>82202.77314</td>\n",
       "      <td>79120.70256</td>\n",
       "      <td>77101.20804</td>\n",
       "      <td>84409.14932</td>\n",
       "      <td>94900.51244</td>\n",
       "      <td>110128.0423</td>\n",
       "      <td>112329.4376</td>\n",
       "      <td>...</td>\n",
       "      <td>798499.1646</td>\n",
       "      <td>836807.0518</td>\n",
       "      <td>769391.7847</td>\n",
       "      <td>801999.0466</td>\n",
       "      <td>760383.824</td>\n",
       "      <td>730222.3496</td>\n",
       "      <td>726743.0772</td>\n",
       "      <td>739454.4285</td>\n",
       "      <td>767715.6627</td>\n",
       "      <td>756163.9647</td>\n",
       "    </tr>\n",
       "    <tr>\n",
       "      <th>2</th>\n",
       "      <td>Barking &amp; Dagenham</td>\n",
       "      <td>E09000002</td>\n",
       "      <td>50460.2266</td>\n",
       "      <td>51085.77983</td>\n",
       "      <td>51268.96956</td>\n",
       "      <td>53133.50526</td>\n",
       "      <td>53042.24852</td>\n",
       "      <td>53700.34831</td>\n",
       "      <td>52113.12157</td>\n",
       "      <td>52232.19868</td>\n",
       "      <td>...</td>\n",
       "      <td>301702.4656</td>\n",
       "      <td>304852.1338</td>\n",
       "      <td>305012.3291</td>\n",
       "      <td>309560.1023</td>\n",
       "      <td>311684.9905</td>\n",
       "      <td>315391.0211</td>\n",
       "      <td>314172.1341</td>\n",
       "      <td>313280.4834</td>\n",
       "      <td>310713.7151</td>\n",
       "      <td>319220.4702</td>\n",
       "    </tr>\n",
       "    <tr>\n",
       "      <th>3</th>\n",
       "      <td>Barnet</td>\n",
       "      <td>E09000003</td>\n",
       "      <td>93284.51832</td>\n",
       "      <td>93190.16963</td>\n",
       "      <td>92247.52435</td>\n",
       "      <td>90762.87492</td>\n",
       "      <td>90258.00033</td>\n",
       "      <td>90107.23471</td>\n",
       "      <td>91441.24768</td>\n",
       "      <td>92361.31512</td>\n",
       "      <td>...</td>\n",
       "      <td>533619.23</td>\n",
       "      <td>530353.5205</td>\n",
       "      <td>528816.4928</td>\n",
       "      <td>532528.0926</td>\n",
       "      <td>538413.261</td>\n",
       "      <td>538537.8796</td>\n",
       "      <td>542794.6969</td>\n",
       "      <td>538530.3551</td>\n",
       "      <td>540475.0074</td>\n",
       "      <td>548442.3483</td>\n",
       "    </tr>\n",
       "    <tr>\n",
       "      <th>4</th>\n",
       "      <td>Bexley</td>\n",
       "      <td>E09000004</td>\n",
       "      <td>64958.09036</td>\n",
       "      <td>64787.92069</td>\n",
       "      <td>64367.49344</td>\n",
       "      <td>64277.66881</td>\n",
       "      <td>63997.13588</td>\n",
       "      <td>64252.32335</td>\n",
       "      <td>63722.70055</td>\n",
       "      <td>64432.60005</td>\n",
       "      <td>...</td>\n",
       "      <td>345061.4945</td>\n",
       "      <td>345404.9836</td>\n",
       "      <td>346252.9145</td>\n",
       "      <td>352260.8385</td>\n",
       "      <td>356024.477</td>\n",
       "      <td>359368.9877</td>\n",
       "      <td>362227.5335</td>\n",
       "      <td>364947.2557</td>\n",
       "      <td>364266.9832</td>\n",
       "      <td>364502.0488</td>\n",
       "    </tr>\n",
       "    <tr>\n",
       "      <th>5</th>\n",
       "      <td>Brent</td>\n",
       "      <td>E09000005</td>\n",
       "      <td>71306.56698</td>\n",
       "      <td>72022.26197</td>\n",
       "      <td>72015.76274</td>\n",
       "      <td>72965.63094</td>\n",
       "      <td>73704.04743</td>\n",
       "      <td>74310.48167</td>\n",
       "      <td>74127.03788</td>\n",
       "      <td>73547.0411</td>\n",
       "      <td>...</td>\n",
       "      <td>519561.8277</td>\n",
       "      <td>522239.3216</td>\n",
       "      <td>513100.814</td>\n",
       "      <td>495066.6459</td>\n",
       "      <td>511140.6703</td>\n",
       "      <td>514749.4597</td>\n",
       "      <td>520522.7668</td>\n",
       "      <td>503031.9842</td>\n",
       "      <td>501559.7541</td>\n",
       "      <td>512645.4978</td>\n",
       "    </tr>\n",
       "  </tbody>\n",
       "</table>\n",
       "<p>5 rows × 320 columns</p>\n",
       "</div>"
      ],
      "text/plain": [
       "           Unnamed: 0        NaN 1995-01-01 00:00:00 1995-02-01 00:00:00  \\\n",
       "1      City of London  E09000001         91448.98487         82202.77314   \n",
       "2  Barking & Dagenham  E09000002          50460.2266         51085.77983   \n",
       "3              Barnet  E09000003         93284.51832         93190.16963   \n",
       "4              Bexley  E09000004         64958.09036         64787.92069   \n",
       "5               Brent  E09000005         71306.56698         72022.26197   \n",
       "\n",
       "  1995-03-01 00:00:00 1995-04-01 00:00:00 1995-05-01 00:00:00  \\\n",
       "1         79120.70256         77101.20804         84409.14932   \n",
       "2         51268.96956         53133.50526         53042.24852   \n",
       "3         92247.52435         90762.87492         90258.00033   \n",
       "4         64367.49344         64277.66881         63997.13588   \n",
       "5         72015.76274         72965.63094         73704.04743   \n",
       "\n",
       "  1995-06-01 00:00:00 1995-07-01 00:00:00 1995-08-01 00:00:00  ...  \\\n",
       "1         94900.51244         110128.0423         112329.4376  ...   \n",
       "2         53700.34831         52113.12157         52232.19868  ...   \n",
       "3         90107.23471         91441.24768         92361.31512  ...   \n",
       "4         64252.32335         63722.70055         64432.60005  ...   \n",
       "5         74310.48167         74127.03788          73547.0411  ...   \n",
       "\n",
       "  2020-09-01 00:00:00 2020-10-01 00:00:00 2020-11-01 00:00:00  \\\n",
       "1         798499.1646         836807.0518         769391.7847   \n",
       "2         301702.4656         304852.1338         305012.3291   \n",
       "3           533619.23         530353.5205         528816.4928   \n",
       "4         345061.4945         345404.9836         346252.9145   \n",
       "5         519561.8277         522239.3216          513100.814   \n",
       "\n",
       "  2020-12-01 00:00:00 2021-01-01 00:00:00 2021-02-01 00:00:00  \\\n",
       "1         801999.0466          760383.824         730222.3496   \n",
       "2         309560.1023         311684.9905         315391.0211   \n",
       "3         532528.0926          538413.261         538537.8796   \n",
       "4         352260.8385          356024.477         359368.9877   \n",
       "5         495066.6459         511140.6703         514749.4597   \n",
       "\n",
       "  2021-03-01 00:00:00 2021-04-01 00:00:00 2021-05-01 00:00:00  \\\n",
       "1         726743.0772         739454.4285         767715.6627   \n",
       "2         314172.1341         313280.4834         310713.7151   \n",
       "3         542794.6969         538530.3551         540475.0074   \n",
       "4         362227.5335         364947.2557         364266.9832   \n",
       "5         520522.7668         503031.9842         501559.7541   \n",
       "\n",
       "  2021-06-01 00:00:00  \n",
       "1         756163.9647  \n",
       "2         319220.4702  \n",
       "3         548442.3483  \n",
       "4         364502.0488  \n",
       "5         512645.4978  \n",
       "\n",
       "[5 rows x 320 columns]"
      ]
     },
     "metadata": {},
     "execution_count": 84
    }
   ],
   "metadata": {
    "colab": {},
    "colab_type": "code",
    "id": "cdAu1A3YoH_r"
   }
  },
  {
   "cell_type": "markdown",
   "source": [
    "**2.3. Cleaning the data (part 2)**\n",
    "\n",
    "You might we have to **rename** a couple columns. How do you do this? The clue's pretty bold..."
   ],
   "metadata": {
    "colab_type": "text",
    "id": "o1uLbJAsoIjK"
   }
  },
  {
   "cell_type": "code",
   "execution_count": 85,
   "source": [
    "props_df = (props_df\n",
    "    .rename(columns=str)\n",
    "    .rename(columns={'Unnamed: 0': 'borough', 'NaT': 'b_id'})\n",
    ")\n",
    "\n",
    "props_df.head()"
   ],
   "outputs": [
    {
     "output_type": "execute_result",
     "data": {
      "text/html": [
       "<div>\n",
       "<style scoped>\n",
       "    .dataframe tbody tr th:only-of-type {\n",
       "        vertical-align: middle;\n",
       "    }\n",
       "\n",
       "    .dataframe tbody tr th {\n",
       "        vertical-align: top;\n",
       "    }\n",
       "\n",
       "    .dataframe thead th {\n",
       "        text-align: right;\n",
       "    }\n",
       "</style>\n",
       "<table border=\"1\" class=\"dataframe\">\n",
       "  <thead>\n",
       "    <tr style=\"text-align: right;\">\n",
       "      <th></th>\n",
       "      <th>borough</th>\n",
       "      <th>b_id</th>\n",
       "      <th>1995-01-01 00:00:00</th>\n",
       "      <th>1995-02-01 00:00:00</th>\n",
       "      <th>1995-03-01 00:00:00</th>\n",
       "      <th>1995-04-01 00:00:00</th>\n",
       "      <th>1995-05-01 00:00:00</th>\n",
       "      <th>1995-06-01 00:00:00</th>\n",
       "      <th>1995-07-01 00:00:00</th>\n",
       "      <th>1995-08-01 00:00:00</th>\n",
       "      <th>...</th>\n",
       "      <th>2020-09-01 00:00:00</th>\n",
       "      <th>2020-10-01 00:00:00</th>\n",
       "      <th>2020-11-01 00:00:00</th>\n",
       "      <th>2020-12-01 00:00:00</th>\n",
       "      <th>2021-01-01 00:00:00</th>\n",
       "      <th>2021-02-01 00:00:00</th>\n",
       "      <th>2021-03-01 00:00:00</th>\n",
       "      <th>2021-04-01 00:00:00</th>\n",
       "      <th>2021-05-01 00:00:00</th>\n",
       "      <th>2021-06-01 00:00:00</th>\n",
       "    </tr>\n",
       "  </thead>\n",
       "  <tbody>\n",
       "    <tr>\n",
       "      <th>1</th>\n",
       "      <td>City of London</td>\n",
       "      <td>E09000001</td>\n",
       "      <td>91448.98487</td>\n",
       "      <td>82202.77314</td>\n",
       "      <td>79120.70256</td>\n",
       "      <td>77101.20804</td>\n",
       "      <td>84409.14932</td>\n",
       "      <td>94900.51244</td>\n",
       "      <td>110128.0423</td>\n",
       "      <td>112329.4376</td>\n",
       "      <td>...</td>\n",
       "      <td>798499.1646</td>\n",
       "      <td>836807.0518</td>\n",
       "      <td>769391.7847</td>\n",
       "      <td>801999.0466</td>\n",
       "      <td>760383.824</td>\n",
       "      <td>730222.3496</td>\n",
       "      <td>726743.0772</td>\n",
       "      <td>739454.4285</td>\n",
       "      <td>767715.6627</td>\n",
       "      <td>756163.9647</td>\n",
       "    </tr>\n",
       "    <tr>\n",
       "      <th>2</th>\n",
       "      <td>Barking &amp; Dagenham</td>\n",
       "      <td>E09000002</td>\n",
       "      <td>50460.2266</td>\n",
       "      <td>51085.77983</td>\n",
       "      <td>51268.96956</td>\n",
       "      <td>53133.50526</td>\n",
       "      <td>53042.24852</td>\n",
       "      <td>53700.34831</td>\n",
       "      <td>52113.12157</td>\n",
       "      <td>52232.19868</td>\n",
       "      <td>...</td>\n",
       "      <td>301702.4656</td>\n",
       "      <td>304852.1338</td>\n",
       "      <td>305012.3291</td>\n",
       "      <td>309560.1023</td>\n",
       "      <td>311684.9905</td>\n",
       "      <td>315391.0211</td>\n",
       "      <td>314172.1341</td>\n",
       "      <td>313280.4834</td>\n",
       "      <td>310713.7151</td>\n",
       "      <td>319220.4702</td>\n",
       "    </tr>\n",
       "    <tr>\n",
       "      <th>3</th>\n",
       "      <td>Barnet</td>\n",
       "      <td>E09000003</td>\n",
       "      <td>93284.51832</td>\n",
       "      <td>93190.16963</td>\n",
       "      <td>92247.52435</td>\n",
       "      <td>90762.87492</td>\n",
       "      <td>90258.00033</td>\n",
       "      <td>90107.23471</td>\n",
       "      <td>91441.24768</td>\n",
       "      <td>92361.31512</td>\n",
       "      <td>...</td>\n",
       "      <td>533619.23</td>\n",
       "      <td>530353.5205</td>\n",
       "      <td>528816.4928</td>\n",
       "      <td>532528.0926</td>\n",
       "      <td>538413.261</td>\n",
       "      <td>538537.8796</td>\n",
       "      <td>542794.6969</td>\n",
       "      <td>538530.3551</td>\n",
       "      <td>540475.0074</td>\n",
       "      <td>548442.3483</td>\n",
       "    </tr>\n",
       "    <tr>\n",
       "      <th>4</th>\n",
       "      <td>Bexley</td>\n",
       "      <td>E09000004</td>\n",
       "      <td>64958.09036</td>\n",
       "      <td>64787.92069</td>\n",
       "      <td>64367.49344</td>\n",
       "      <td>64277.66881</td>\n",
       "      <td>63997.13588</td>\n",
       "      <td>64252.32335</td>\n",
       "      <td>63722.70055</td>\n",
       "      <td>64432.60005</td>\n",
       "      <td>...</td>\n",
       "      <td>345061.4945</td>\n",
       "      <td>345404.9836</td>\n",
       "      <td>346252.9145</td>\n",
       "      <td>352260.8385</td>\n",
       "      <td>356024.477</td>\n",
       "      <td>359368.9877</td>\n",
       "      <td>362227.5335</td>\n",
       "      <td>364947.2557</td>\n",
       "      <td>364266.9832</td>\n",
       "      <td>364502.0488</td>\n",
       "    </tr>\n",
       "    <tr>\n",
       "      <th>5</th>\n",
       "      <td>Brent</td>\n",
       "      <td>E09000005</td>\n",
       "      <td>71306.56698</td>\n",
       "      <td>72022.26197</td>\n",
       "      <td>72015.76274</td>\n",
       "      <td>72965.63094</td>\n",
       "      <td>73704.04743</td>\n",
       "      <td>74310.48167</td>\n",
       "      <td>74127.03788</td>\n",
       "      <td>73547.0411</td>\n",
       "      <td>...</td>\n",
       "      <td>519561.8277</td>\n",
       "      <td>522239.3216</td>\n",
       "      <td>513100.814</td>\n",
       "      <td>495066.6459</td>\n",
       "      <td>511140.6703</td>\n",
       "      <td>514749.4597</td>\n",
       "      <td>520522.7668</td>\n",
       "      <td>503031.9842</td>\n",
       "      <td>501559.7541</td>\n",
       "      <td>512645.4978</td>\n",
       "    </tr>\n",
       "  </tbody>\n",
       "</table>\n",
       "<p>5 rows × 320 columns</p>\n",
       "</div>"
      ],
      "text/plain": [
       "              borough       b_id 1995-01-01 00:00:00 1995-02-01 00:00:00  \\\n",
       "1      City of London  E09000001         91448.98487         82202.77314   \n",
       "2  Barking & Dagenham  E09000002          50460.2266         51085.77983   \n",
       "3              Barnet  E09000003         93284.51832         93190.16963   \n",
       "4              Bexley  E09000004         64958.09036         64787.92069   \n",
       "5               Brent  E09000005         71306.56698         72022.26197   \n",
       "\n",
       "  1995-03-01 00:00:00 1995-04-01 00:00:00 1995-05-01 00:00:00  \\\n",
       "1         79120.70256         77101.20804         84409.14932   \n",
       "2         51268.96956         53133.50526         53042.24852   \n",
       "3         92247.52435         90762.87492         90258.00033   \n",
       "4         64367.49344         64277.66881         63997.13588   \n",
       "5         72015.76274         72965.63094         73704.04743   \n",
       "\n",
       "  1995-06-01 00:00:00 1995-07-01 00:00:00 1995-08-01 00:00:00  ...  \\\n",
       "1         94900.51244         110128.0423         112329.4376  ...   \n",
       "2         53700.34831         52113.12157         52232.19868  ...   \n",
       "3         90107.23471         91441.24768         92361.31512  ...   \n",
       "4         64252.32335         63722.70055         64432.60005  ...   \n",
       "5         74310.48167         74127.03788          73547.0411  ...   \n",
       "\n",
       "  2020-09-01 00:00:00 2020-10-01 00:00:00 2020-11-01 00:00:00  \\\n",
       "1         798499.1646         836807.0518         769391.7847   \n",
       "2         301702.4656         304852.1338         305012.3291   \n",
       "3           533619.23         530353.5205         528816.4928   \n",
       "4         345061.4945         345404.9836         346252.9145   \n",
       "5         519561.8277         522239.3216          513100.814   \n",
       "\n",
       "  2020-12-01 00:00:00 2021-01-01 00:00:00 2021-02-01 00:00:00  \\\n",
       "1         801999.0466          760383.824         730222.3496   \n",
       "2         309560.1023         311684.9905         315391.0211   \n",
       "3         532528.0926          538413.261         538537.8796   \n",
       "4         352260.8385          356024.477         359368.9877   \n",
       "5         495066.6459         511140.6703         514749.4597   \n",
       "\n",
       "  2021-03-01 00:00:00 2021-04-01 00:00:00 2021-05-01 00:00:00  \\\n",
       "1         726743.0772         739454.4285         767715.6627   \n",
       "2         314172.1341         313280.4834         310713.7151   \n",
       "3         542794.6969         538530.3551         540475.0074   \n",
       "4         362227.5335         364947.2557         364266.9832   \n",
       "5         520522.7668         503031.9842         501559.7541   \n",
       "\n",
       "  2021-06-01 00:00:00  \n",
       "1         756163.9647  \n",
       "2         319220.4702  \n",
       "3         548442.3483  \n",
       "4         364502.0488  \n",
       "5         512645.4978  \n",
       "\n",
       "[5 rows x 320 columns]"
      ]
     },
     "metadata": {},
     "execution_count": 85
    }
   ],
   "metadata": {
    "colab": {},
    "colab_type": "code",
    "id": "GKkmn1AnoVZS"
   }
  },
  {
   "cell_type": "markdown",
   "source": [
    "**2.4.Transforming the data**\n",
    "\n",
    "Remember what Wes McKinney said about tidy data? \n",
    "\n",
    "You might need to **melt** your DataFrame here. "
   ],
   "metadata": {
    "colab_type": "text",
    "id": "jy8BzXHmoWEw"
   }
  },
  {
   "cell_type": "code",
   "execution_count": 86,
   "source": [
    "p_df = pd.melt(props_df, id_vars=['borough', 'b_id'],\n",
    "                        value_vars=props_df.columns.values[2:],\n",
    "                        var_name='date', value_name='price')\n",
    "display(p_df.head())\n",
    "display(p_df.shape)\n",
    "display(p_df.describe())\n",
    "display(p_df.info())\n"
   ],
   "outputs": [
    {
     "output_type": "display_data",
     "data": {
      "text/html": [
       "<div>\n",
       "<style scoped>\n",
       "    .dataframe tbody tr th:only-of-type {\n",
       "        vertical-align: middle;\n",
       "    }\n",
       "\n",
       "    .dataframe tbody tr th {\n",
       "        vertical-align: top;\n",
       "    }\n",
       "\n",
       "    .dataframe thead th {\n",
       "        text-align: right;\n",
       "    }\n",
       "</style>\n",
       "<table border=\"1\" class=\"dataframe\">\n",
       "  <thead>\n",
       "    <tr style=\"text-align: right;\">\n",
       "      <th></th>\n",
       "      <th>borough</th>\n",
       "      <th>b_id</th>\n",
       "      <th>date</th>\n",
       "      <th>price</th>\n",
       "    </tr>\n",
       "  </thead>\n",
       "  <tbody>\n",
       "    <tr>\n",
       "      <th>0</th>\n",
       "      <td>City of London</td>\n",
       "      <td>E09000001</td>\n",
       "      <td>1995-01-01 00:00:00</td>\n",
       "      <td>91448.98487</td>\n",
       "    </tr>\n",
       "    <tr>\n",
       "      <th>1</th>\n",
       "      <td>Barking &amp; Dagenham</td>\n",
       "      <td>E09000002</td>\n",
       "      <td>1995-01-01 00:00:00</td>\n",
       "      <td>50460.2266</td>\n",
       "    </tr>\n",
       "    <tr>\n",
       "      <th>2</th>\n",
       "      <td>Barnet</td>\n",
       "      <td>E09000003</td>\n",
       "      <td>1995-01-01 00:00:00</td>\n",
       "      <td>93284.51832</td>\n",
       "    </tr>\n",
       "    <tr>\n",
       "      <th>3</th>\n",
       "      <td>Bexley</td>\n",
       "      <td>E09000004</td>\n",
       "      <td>1995-01-01 00:00:00</td>\n",
       "      <td>64958.09036</td>\n",
       "    </tr>\n",
       "    <tr>\n",
       "      <th>4</th>\n",
       "      <td>Brent</td>\n",
       "      <td>E09000005</td>\n",
       "      <td>1995-01-01 00:00:00</td>\n",
       "      <td>71306.56698</td>\n",
       "    </tr>\n",
       "  </tbody>\n",
       "</table>\n",
       "</div>"
      ],
      "text/plain": [
       "              borough       b_id                 date        price\n",
       "0      City of London  E09000001  1995-01-01 00:00:00  91448.98487\n",
       "1  Barking & Dagenham  E09000002  1995-01-01 00:00:00   50460.2266\n",
       "2              Barnet  E09000003  1995-01-01 00:00:00  93284.51832\n",
       "3              Bexley  E09000004  1995-01-01 00:00:00  64958.09036\n",
       "4               Brent  E09000005  1995-01-01 00:00:00  71306.56698"
      ]
     },
     "metadata": {}
    },
    {
     "output_type": "display_data",
     "data": {
      "text/plain": [
       "(15264, 4)"
      ]
     },
     "metadata": {}
    },
    {
     "output_type": "display_data",
     "data": {
      "text/html": [
       "<div>\n",
       "<style scoped>\n",
       "    .dataframe tbody tr th:only-of-type {\n",
       "        vertical-align: middle;\n",
       "    }\n",
       "\n",
       "    .dataframe tbody tr th {\n",
       "        vertical-align: top;\n",
       "    }\n",
       "\n",
       "    .dataframe thead th {\n",
       "        text-align: right;\n",
       "    }\n",
       "</style>\n",
       "<table border=\"1\" class=\"dataframe\">\n",
       "  <thead>\n",
       "    <tr style=\"text-align: right;\">\n",
       "      <th></th>\n",
       "      <th>borough</th>\n",
       "      <th>b_id</th>\n",
       "      <th>date</th>\n",
       "      <th>price</th>\n",
       "    </tr>\n",
       "  </thead>\n",
       "  <tbody>\n",
       "    <tr>\n",
       "      <th>count</th>\n",
       "      <td>15264</td>\n",
       "      <td>14310</td>\n",
       "      <td>15264</td>\n",
       "      <td>14310.0000</td>\n",
       "    </tr>\n",
       "    <tr>\n",
       "      <th>unique</th>\n",
       "      <td>48</td>\n",
       "      <td>45</td>\n",
       "      <td>318</td>\n",
       "      <td>14310.0000</td>\n",
       "    </tr>\n",
       "    <tr>\n",
       "      <th>top</th>\n",
       "      <td>City of London</td>\n",
       "      <td>E12000002</td>\n",
       "      <td>1996-02-01 00:00:00</td>\n",
       "      <td>131074.4707</td>\n",
       "    </tr>\n",
       "    <tr>\n",
       "      <th>freq</th>\n",
       "      <td>318</td>\n",
       "      <td>318</td>\n",
       "      <td>48</td>\n",
       "      <td>1.0000</td>\n",
       "    </tr>\n",
       "  </tbody>\n",
       "</table>\n",
       "</div>"
      ],
      "text/plain": [
       "               borough       b_id                 date        price\n",
       "count            15264      14310                15264   14310.0000\n",
       "unique              48         45                  318   14310.0000\n",
       "top     City of London  E12000002  1996-02-01 00:00:00  131074.4707\n",
       "freq               318        318                   48       1.0000"
      ]
     },
     "metadata": {}
    },
    {
     "output_type": "stream",
     "name": "stdout",
     "text": [
      "<class 'pandas.core.frame.DataFrame'>\n",
      "RangeIndex: 15264 entries, 0 to 15263\n",
      "Data columns (total 4 columns):\n",
      " #   Column   Non-Null Count  Dtype \n",
      "---  ------   --------------  ----- \n",
      " 0   borough  15264 non-null  object\n",
      " 1   b_id     14310 non-null  object\n",
      " 2   date     15264 non-null  object\n",
      " 3   price    14310 non-null  object\n",
      "dtypes: object(4)\n",
      "memory usage: 477.1+ KB\n"
     ]
    },
    {
     "output_type": "display_data",
     "data": {
      "text/plain": [
       "None"
      ]
     },
     "metadata": {}
    }
   ],
   "metadata": {
    "colab": {},
    "colab_type": "code",
    "id": "S2wM0qLuo2Zt"
   }
  },
  {
   "cell_type": "markdown",
   "source": [
    "Remember to make sure your column data types are all correct. Average prices, for example, should be floating point numbers... "
   ],
   "metadata": {
    "colab_type": "text",
    "id": "7kIsgAo7o3mf"
   }
  },
  {
   "cell_type": "code",
   "execution_count": 87,
   "source": [
    "p_df = (p_df\n",
    "    .assign(date=pd.to_datetime(p_df['date']))\n",
    "    .assign(price=p_df['price'].astype(float))\n",
    ")\n",
    "display(p_df.head())\n",
    "display(p_df.shape)\n",
    "display(p_df.describe())\n",
    "display(p_df.info())"
   ],
   "outputs": [
    {
     "output_type": "display_data",
     "data": {
      "text/html": [
       "<div>\n",
       "<style scoped>\n",
       "    .dataframe tbody tr th:only-of-type {\n",
       "        vertical-align: middle;\n",
       "    }\n",
       "\n",
       "    .dataframe tbody tr th {\n",
       "        vertical-align: top;\n",
       "    }\n",
       "\n",
       "    .dataframe thead th {\n",
       "        text-align: right;\n",
       "    }\n",
       "</style>\n",
       "<table border=\"1\" class=\"dataframe\">\n",
       "  <thead>\n",
       "    <tr style=\"text-align: right;\">\n",
       "      <th></th>\n",
       "      <th>borough</th>\n",
       "      <th>b_id</th>\n",
       "      <th>date</th>\n",
       "      <th>price</th>\n",
       "    </tr>\n",
       "  </thead>\n",
       "  <tbody>\n",
       "    <tr>\n",
       "      <th>0</th>\n",
       "      <td>City of London</td>\n",
       "      <td>E09000001</td>\n",
       "      <td>1995-01-01</td>\n",
       "      <td>91448.98487</td>\n",
       "    </tr>\n",
       "    <tr>\n",
       "      <th>1</th>\n",
       "      <td>Barking &amp; Dagenham</td>\n",
       "      <td>E09000002</td>\n",
       "      <td>1995-01-01</td>\n",
       "      <td>50460.22660</td>\n",
       "    </tr>\n",
       "    <tr>\n",
       "      <th>2</th>\n",
       "      <td>Barnet</td>\n",
       "      <td>E09000003</td>\n",
       "      <td>1995-01-01</td>\n",
       "      <td>93284.51832</td>\n",
       "    </tr>\n",
       "    <tr>\n",
       "      <th>3</th>\n",
       "      <td>Bexley</td>\n",
       "      <td>E09000004</td>\n",
       "      <td>1995-01-01</td>\n",
       "      <td>64958.09036</td>\n",
       "    </tr>\n",
       "    <tr>\n",
       "      <th>4</th>\n",
       "      <td>Brent</td>\n",
       "      <td>E09000005</td>\n",
       "      <td>1995-01-01</td>\n",
       "      <td>71306.56698</td>\n",
       "    </tr>\n",
       "  </tbody>\n",
       "</table>\n",
       "</div>"
      ],
      "text/plain": [
       "              borough       b_id       date        price\n",
       "0      City of London  E09000001 1995-01-01  91448.98487\n",
       "1  Barking & Dagenham  E09000002 1995-01-01  50460.22660\n",
       "2              Barnet  E09000003 1995-01-01  93284.51832\n",
       "3              Bexley  E09000004 1995-01-01  64958.09036\n",
       "4               Brent  E09000005 1995-01-01  71306.56698"
      ]
     },
     "metadata": {}
    },
    {
     "output_type": "display_data",
     "data": {
      "text/plain": [
       "(15264, 4)"
      ]
     },
     "metadata": {}
    },
    {
     "output_type": "display_data",
     "data": {
      "text/html": [
       "<div>\n",
       "<style scoped>\n",
       "    .dataframe tbody tr th:only-of-type {\n",
       "        vertical-align: middle;\n",
       "    }\n",
       "\n",
       "    .dataframe tbody tr th {\n",
       "        vertical-align: top;\n",
       "    }\n",
       "\n",
       "    .dataframe thead th {\n",
       "        text-align: right;\n",
       "    }\n",
       "</style>\n",
       "<table border=\"1\" class=\"dataframe\">\n",
       "  <thead>\n",
       "    <tr style=\"text-align: right;\">\n",
       "      <th></th>\n",
       "      <th>price</th>\n",
       "    </tr>\n",
       "  </thead>\n",
       "  <tbody>\n",
       "    <tr>\n",
       "      <th>count</th>\n",
       "      <td>1.431000e+04</td>\n",
       "    </tr>\n",
       "    <tr>\n",
       "      <th>mean</th>\n",
       "      <td>2.749528e+05</td>\n",
       "    </tr>\n",
       "    <tr>\n",
       "      <th>std</th>\n",
       "      <td>1.950611e+05</td>\n",
       "    </tr>\n",
       "    <tr>\n",
       "      <th>min</th>\n",
       "      <td>4.072242e+04</td>\n",
       "    </tr>\n",
       "    <tr>\n",
       "      <th>25%</th>\n",
       "      <td>1.371259e+05</td>\n",
       "    </tr>\n",
       "    <tr>\n",
       "      <th>50%</th>\n",
       "      <td>2.286231e+05</td>\n",
       "    </tr>\n",
       "    <tr>\n",
       "      <th>75%</th>\n",
       "      <td>3.622654e+05</td>\n",
       "    </tr>\n",
       "    <tr>\n",
       "      <th>max</th>\n",
       "      <td>1.463378e+06</td>\n",
       "    </tr>\n",
       "  </tbody>\n",
       "</table>\n",
       "</div>"
      ],
      "text/plain": [
       "              price\n",
       "count  1.431000e+04\n",
       "mean   2.749528e+05\n",
       "std    1.950611e+05\n",
       "min    4.072242e+04\n",
       "25%    1.371259e+05\n",
       "50%    2.286231e+05\n",
       "75%    3.622654e+05\n",
       "max    1.463378e+06"
      ]
     },
     "metadata": {}
    },
    {
     "output_type": "stream",
     "name": "stdout",
     "text": [
      "<class 'pandas.core.frame.DataFrame'>\n",
      "RangeIndex: 15264 entries, 0 to 15263\n",
      "Data columns (total 4 columns):\n",
      " #   Column   Non-Null Count  Dtype         \n",
      "---  ------   --------------  -----         \n",
      " 0   borough  15264 non-null  object        \n",
      " 1   b_id     14310 non-null  object        \n",
      " 2   date     15264 non-null  datetime64[ns]\n",
      " 3   price    14310 non-null  float64       \n",
      "dtypes: datetime64[ns](1), float64(1), object(2)\n",
      "memory usage: 477.1+ KB\n"
     ]
    },
    {
     "output_type": "display_data",
     "data": {
      "text/plain": [
       "None"
      ]
     },
     "metadata": {}
    }
   ],
   "metadata": {
    "colab": {},
    "colab_type": "code",
    "id": "ZcR4IHbcpOaq"
   }
  },
  {
   "cell_type": "markdown",
   "source": [
    "**2.5. Cleaning the data (part 3)**\n",
    "\n",
    "Do we have an equal number of observations in the ID, Average Price, Month, and London Borough columns? Remember that there are only 32 London Boroughs. How many entries do you have in that column? \n",
    "\n",
    "Check out the contents of the London Borough column, and if you find null values, get rid of them however you see fit. "
   ],
   "metadata": {
    "colab_type": "text",
    "id": "knLUXHLypOtw"
   }
  },
  {
   "cell_type": "code",
   "execution_count": 88,
   "source": [
    "# There are 3 different types of values for the London boroughs.\n",
    "# # 35 Title-cased values\n",
    "# # 3 Unnamed values\n",
    "# # 9 ALL CAPS values\n",
    "# My first thought was to dive in and figure out why there are \"Unnamed\" values and summary values and then what those\n",
    "# extra 3 title-cased values are, but I think the more reliable solution is to get the list of boroughs and filter the dataset on that.\n",
    "# I sourced this list of boroughs from https://en.wikipedia.org/wiki/London_boroughs\n",
    "# The trick is to clean up the list to match the exact formatting and values of the dataset.\n",
    "borough_list = ['Camden', 'Greenwich', 'Hackney', 'Hammersmith & Fulham', 'Islington', 'Kensington & Chelsea',\n",
    "                'Lambeth', 'Lewisham', 'Southwark', 'Tower Hamlets', 'Wandsworth', 'Westminster', 'Barking & Dagenham',\n",
    "                'Barnet', 'Bexley', 'Brent', 'Bromley', 'Croydon', 'Ealing', 'Enfield', 'Haringey', 'Harrow',\n",
    "                'Havering', 'Hillingdon', 'Hounslow', 'Kingston upon Thames', 'Merton', 'Newham', 'Redbridge',\n",
    "                'Richmond upon Thames', 'Sutton', 'Waltham Forest']\n",
    "display(len(borough_list))\n",
    "display('List of boroughs prior to cleaning')\n",
    "display(p_df['borough'].unique())\n",
    "\n",
    "p_df = (p_df\n",
    "    .loc[p_df['borough'].isin(borough_list)]\n",
    ")\n",
    "display('List of boroughs after cleaning')\n",
    "display(p_df['borough'].unique())\n"
   ],
   "outputs": [
    {
     "output_type": "display_data",
     "data": {
      "text/plain": [
       "32"
      ]
     },
     "metadata": {}
    },
    {
     "output_type": "display_data",
     "data": {
      "text/plain": [
       "'List of boroughs prior to cleaning'"
      ]
     },
     "metadata": {}
    },
    {
     "output_type": "display_data",
     "data": {
      "text/plain": [
       "array(['City of London', 'Barking & Dagenham', 'Barnet', 'Bexley',\n",
       "       'Brent', 'Bromley', 'Camden', 'Croydon', 'Ealing', 'Enfield',\n",
       "       'Greenwich', 'Hackney', 'Hammersmith & Fulham', 'Haringey',\n",
       "       'Harrow', 'Havering', 'Hillingdon', 'Hounslow', 'Islington',\n",
       "       'Kensington & Chelsea', 'Kingston upon Thames', 'Lambeth',\n",
       "       'Lewisham', 'Merton', 'Newham', 'Redbridge',\n",
       "       'Richmond upon Thames', 'Southwark', 'Sutton', 'Tower Hamlets',\n",
       "       'Waltham Forest', 'Wandsworth', 'Westminster', 'Unnamed: 34',\n",
       "       'Inner London', 'Outer London', 'Unnamed: 37', 'NORTH EAST',\n",
       "       'NORTH WEST', 'YORKS & THE HUMBER', 'EAST MIDLANDS',\n",
       "       'WEST MIDLANDS', 'EAST OF ENGLAND', 'LONDON', 'SOUTH EAST',\n",
       "       'SOUTH WEST', 'Unnamed: 47', 'England'], dtype=object)"
      ]
     },
     "metadata": {}
    },
    {
     "output_type": "display_data",
     "data": {
      "text/plain": [
       "'List of boroughs after cleaning'"
      ]
     },
     "metadata": {}
    },
    {
     "output_type": "display_data",
     "data": {
      "text/plain": [
       "array(['Barking & Dagenham', 'Barnet', 'Bexley', 'Brent', 'Bromley',\n",
       "       'Camden', 'Croydon', 'Ealing', 'Enfield', 'Greenwich', 'Hackney',\n",
       "       'Hammersmith & Fulham', 'Haringey', 'Harrow', 'Havering',\n",
       "       'Hillingdon', 'Hounslow', 'Islington', 'Kensington & Chelsea',\n",
       "       'Kingston upon Thames', 'Lambeth', 'Lewisham', 'Merton', 'Newham',\n",
       "       'Redbridge', 'Richmond upon Thames', 'Southwark', 'Sutton',\n",
       "       'Tower Hamlets', 'Waltham Forest', 'Wandsworth', 'Westminster'],\n",
       "      dtype=object)"
      ]
     },
     "metadata": {}
    }
   ],
   "metadata": {
    "colab": {},
    "colab_type": "code",
    "id": "BnvTW5a3p0fC"
   }
  },
  {
   "cell_type": "markdown",
   "source": [
    "**2.6. Visualizing the data**\n",
    "\n",
    "To visualize the data, why not subset on a particular London Borough? Maybe do a line plot of Month against Average Price?"
   ],
   "metadata": {
    "colab_type": "text",
    "id": "PGEx6mJsp6dG"
   }
  },
  {
   "cell_type": "code",
   "execution_count": 89,
   "source": [
    "plot_borough = 'Hackney'\n",
    "(p_df\n",
    "    .loc[p_df['borough'] == plot_borough, :]\n",
    "    .plot(x='date', y='price')\n",
    ")\n",
    "plt.title(f\"Avg Housing Price by Month: Borough = {plot_borough}\")\n",
    "plt.xlabel(\"Date\")\n",
    "plt.ylabel(\"Avg price in pounds\")"
   ],
   "outputs": [
    {
     "output_type": "execute_result",
     "data": {
      "text/plain": [
       "Text(0, 0.5, 'Avg price in pounds')"
      ]
     },
     "metadata": {},
     "execution_count": 89
    },
    {
     "output_type": "display_data",
     "data": {
      "image/png": "[encoded data removed]",
      "image/svg+xml": "<?xml version=\"1.0\" encoding=\"utf-8\" standalone=\"no\"?>\n<!DOCTYPE svg PUBLIC \"-//W3C//DTD SVG 1.1//EN\"\n  \"http://www.w3.org/Graphics/SVG/1.1/DTD/svg11.dtd\">\n<!-- Created with matplotlib (https://matplotlib.org/) -->\n<svg height=\"277.314375pt\" version=\"1.1\" viewBox=\"0 0 408.053125 277.314375\" width=\"408.053125pt\" xmlns=\"http://www.w3.org/2000/svg\" xmlns:xlink=\"http://www.w3.org/1999/xlink\">\n <metadata>\n  <rdf:RDF xmlns:cc=\"http://creativecommons.org/ns#\" xmlns:dc=\"http://purl.org/dc/elements/1.1/\" xmlns:rdf=\"http://www.w3.org/1999/02/22-rdf-syntax-ns#\">\n   <cc:Work>\n    <dc:type rdf:resource=\"http://purl.org/dc/dcmitype/StillImage\"/>\n    <dc:date>2021-09-03T13:06:49.608869</dc:date>\n    <dc:format>image/svg+xml</dc:format>\n    <dc:creator>\n     <cc:Agent>\n      <dc:title>Matplotlib v3.3.4, https://matplotlib.org/</dc:title>\n     </cc:Agent>\n    </dc:creator>\n   </cc:Work>\n  </rdf:RDF>\n </metadata>\n <defs>\n  <style type=\"text/css\">*{stroke-linecap:butt;stroke-linejoin:round;}</style>\n </defs>\n <g id=\"figure_1\">\n  <g id=\"patch_1\">\n   <path d=\"M 0 277.314375 \nL 408.053125 277.314375 \nL 408.053125 0 \nL 0 0 \nz\n\" style=\"fill:none;\"/>\n  </g>\n  <g id=\"axes_1\">\n   <g id=\"patch_2\">\n    <path d=\"M 66.053125 239.758125 \nL 400.853125 239.758125 \nL 400.853125 22.318125 \nL 66.053125 22.318125 \nz\n\" style=\"fill:#ffffff;\"/>\n   </g>\n   <g id=\"matplotlib.axis_1\">\n    <g id=\"xtick_1\">\n     <g id=\"line2d_1\">\n      <defs>\n       <path d=\"M 0 0 \nL 0 3.5 \n\" id=\"m3b4a610e99\" style=\"stroke:#000000;stroke-width:0.8;\"/>\n      </defs>\n      <g>\n       <use style=\"stroke:#000000;stroke-width:0.8;\" x=\"116.748393\" xlink:href=\"#m3b4a610e99\" y=\"239.758125\"/>\n      </g>\n     </g>\n     <g id=\"text_1\">\n      <!-- 1999 -->\n      <g transform=\"translate(104.023393 254.356562)scale(0.1 -0.1)\">\n       <defs>\n        <path d=\"M 12.40625 8.296875 \nL 28.515625 8.296875 \nL 28.515625 63.921875 \nL 10.984375 60.40625 \nL 10.984375 69.390625 \nL 28.421875 72.90625 \nL 38.28125 72.90625 \nL 38.28125 8.296875 \nL 54.390625 8.296875 \nL 54.390625 0 \nL 12.40625 0 \nz\n\" id=\"DejaVuSans-49\"/>\n        <path d=\"M 10.984375 1.515625 \nL 10.984375 10.5 \nQ 14.703125 8.734375 18.5 7.8125 \nQ 22.3125 6.890625 25.984375 6.890625 \nQ 35.75 6.890625 40.890625 13.453125 \nQ 46.046875 20.015625 46.78125 33.40625 \nQ 43.953125 29.203125 39.59375 26.953125 \nQ 35.25 24.703125 29.984375 24.703125 \nQ 19.046875 24.703125 12.671875 31.3125 \nQ 6.296875 37.9375 6.296875 49.421875 \nQ 6.296875 60.640625 12.9375 67.421875 \nQ 19.578125 74.21875 30.609375 74.21875 \nQ 43.265625 74.21875 49.921875 64.515625 \nQ 56.59375 54.828125 56.59375 36.375 \nQ 56.59375 19.140625 48.40625 8.859375 \nQ 40.234375 -1.421875 26.421875 -1.421875 \nQ 22.703125 -1.421875 18.890625 -0.6875 \nQ 15.09375 0.046875 10.984375 1.515625 \nz\nM 30.609375 32.421875 \nQ 37.25 32.421875 41.125 36.953125 \nQ 45.015625 41.5 45.015625 49.421875 \nQ 45.015625 57.28125 41.125 61.84375 \nQ 37.25 66.40625 30.609375 66.40625 \nQ 23.96875 66.40625 20.09375 61.84375 \nQ 16.21875 57.28125 16.21875 49.421875 \nQ 16.21875 41.5 20.09375 36.953125 \nQ 23.96875 32.421875 30.609375 32.421875 \nz\n\" id=\"DejaVuSans-57\"/>\n       </defs>\n       <use xlink:href=\"#DejaVuSans-49\"/>\n       <use x=\"63.623047\" xlink:href=\"#DejaVuSans-57\"/>\n       <use x=\"127.246094\" xlink:href=\"#DejaVuSans-57\"/>\n       <use x=\"190.869141\" xlink:href=\"#DejaVuSans-57\"/>\n      </g>\n     </g>\n    </g>\n    <g id=\"xtick_2\">\n     <g id=\"line2d_2\">\n      <g>\n       <use style=\"stroke:#000000;stroke-width:0.8;\" x=\"180.117478\" xlink:href=\"#m3b4a610e99\" y=\"239.758125\"/>\n      </g>\n     </g>\n     <g id=\"text_2\">\n      <!-- 2004 -->\n      <g transform=\"translate(167.392478 254.356562)scale(0.1 -0.1)\">\n       <defs>\n        <path d=\"M 19.1875 8.296875 \nL 53.609375 8.296875 \nL 53.609375 0 \nL 7.328125 0 \nL 7.328125 8.296875 \nQ 12.9375 14.109375 22.625 23.890625 \nQ 32.328125 33.6875 34.8125 36.53125 \nQ 39.546875 41.84375 41.421875 45.53125 \nQ 43.3125 49.21875 43.3125 52.78125 \nQ 43.3125 58.59375 39.234375 62.25 \nQ 35.15625 65.921875 28.609375 65.921875 \nQ 23.96875 65.921875 18.8125 64.3125 \nQ 13.671875 62.703125 7.8125 59.421875 \nL 7.8125 69.390625 \nQ 13.765625 71.78125 18.9375 73 \nQ 24.125 74.21875 28.421875 74.21875 \nQ 39.75 74.21875 46.484375 68.546875 \nQ 53.21875 62.890625 53.21875 53.421875 \nQ 53.21875 48.921875 51.53125 44.890625 \nQ 49.859375 40.875 45.40625 35.40625 \nQ 44.1875 33.984375 37.640625 27.21875 \nQ 31.109375 20.453125 19.1875 8.296875 \nz\n\" id=\"DejaVuSans-50\"/>\n        <path d=\"M 31.78125 66.40625 \nQ 24.171875 66.40625 20.328125 58.90625 \nQ 16.5 51.421875 16.5 36.375 \nQ 16.5 21.390625 20.328125 13.890625 \nQ 24.171875 6.390625 31.78125 6.390625 \nQ 39.453125 6.390625 43.28125 13.890625 \nQ 47.125 21.390625 47.125 36.375 \nQ 47.125 51.421875 43.28125 58.90625 \nQ 39.453125 66.40625 31.78125 66.40625 \nz\nM 31.78125 74.21875 \nQ 44.046875 74.21875 50.515625 64.515625 \nQ 56.984375 54.828125 56.984375 36.375 \nQ 56.984375 17.96875 50.515625 8.265625 \nQ 44.046875 -1.421875 31.78125 -1.421875 \nQ 19.53125 -1.421875 13.0625 8.265625 \nQ 6.59375 17.96875 6.59375 36.375 \nQ 6.59375 54.828125 13.0625 64.515625 \nQ 19.53125 74.21875 31.78125 74.21875 \nz\n\" id=\"DejaVuSans-48\"/>\n        <path d=\"M 37.796875 64.3125 \nL 12.890625 25.390625 \nL 37.796875 25.390625 \nz\nM 35.203125 72.90625 \nL 47.609375 72.90625 \nL 47.609375 25.390625 \nL 58.015625 25.390625 \nL 58.015625 17.1875 \nL 47.609375 17.1875 \nL 47.609375 0 \nL 37.796875 0 \nL 37.796875 17.1875 \nL 4.890625 17.1875 \nL 4.890625 26.703125 \nz\n\" id=\"DejaVuSans-52\"/>\n       </defs>\n       <use xlink:href=\"#DejaVuSans-50\"/>\n       <use x=\"63.623047\" xlink:href=\"#DejaVuSans-48\"/>\n       <use x=\"127.246094\" xlink:href=\"#DejaVuSans-48\"/>\n       <use x=\"190.869141\" xlink:href=\"#DejaVuSans-52\"/>\n      </g>\n     </g>\n    </g>\n    <g id=\"xtick_3\">\n     <g id=\"line2d_3\">\n      <g>\n       <use style=\"stroke:#000000;stroke-width:0.8;\" x=\"243.486563\" xlink:href=\"#m3b4a610e99\" y=\"239.758125\"/>\n      </g>\n     </g>\n     <g id=\"text_3\">\n      <!-- 2009 -->\n      <g transform=\"translate(230.761563 254.356562)scale(0.1 -0.1)\">\n       <use xlink:href=\"#DejaVuSans-50\"/>\n       <use x=\"63.623047\" xlink:href=\"#DejaVuSans-48\"/>\n       <use x=\"127.246094\" xlink:href=\"#DejaVuSans-48\"/>\n       <use x=\"190.869141\" xlink:href=\"#DejaVuSans-57\"/>\n      </g>\n     </g>\n    </g>\n    <g id=\"xtick_4\">\n     <g id=\"line2d_4\">\n      <g>\n       <use style=\"stroke:#000000;stroke-width:0.8;\" x=\"306.855649\" xlink:href=\"#m3b4a610e99\" y=\"239.758125\"/>\n      </g>\n     </g>\n     <g id=\"text_4\">\n      <!-- 2014 -->\n      <g transform=\"translate(294.130649 254.356562)scale(0.1 -0.1)\">\n       <use xlink:href=\"#DejaVuSans-50\"/>\n       <use x=\"63.623047\" xlink:href=\"#DejaVuSans-48\"/>\n       <use x=\"127.246094\" xlink:href=\"#DejaVuSans-49\"/>\n       <use x=\"190.869141\" xlink:href=\"#DejaVuSans-52\"/>\n      </g>\n     </g>\n    </g>\n    <g id=\"xtick_5\">\n     <g id=\"line2d_5\">\n      <g>\n       <use style=\"stroke:#000000;stroke-width:0.8;\" x=\"370.224734\" xlink:href=\"#m3b4a610e99\" y=\"239.758125\"/>\n      </g>\n     </g>\n     <g id=\"text_5\">\n      <!-- 2019 -->\n      <g transform=\"translate(357.499734 254.356562)scale(0.1 -0.1)\">\n       <use xlink:href=\"#DejaVuSans-50\"/>\n       <use x=\"63.623047\" xlink:href=\"#DejaVuSans-48\"/>\n       <use x=\"127.246094\" xlink:href=\"#DejaVuSans-49\"/>\n       <use x=\"190.869141\" xlink:href=\"#DejaVuSans-57\"/>\n      </g>\n     </g>\n    </g>\n    <g id=\"xtick_6\">\n     <g id=\"line2d_6\">\n      <defs>\n       <path d=\"M 0 0 \nL 0 2 \n\" id=\"m9940feba84\" style=\"stroke:#000000;stroke-width:0.6;\"/>\n      </defs>\n      <g>\n       <use style=\"stroke:#000000;stroke-width:0.6;\" x=\"66.053125\" xlink:href=\"#m9940feba84\" y=\"239.758125\"/>\n      </g>\n     </g>\n    </g>\n    <g id=\"xtick_7\">\n     <g id=\"line2d_7\">\n      <g>\n       <use style=\"stroke:#000000;stroke-width:0.6;\" x=\"78.726942\" xlink:href=\"#m9940feba84\" y=\"239.758125\"/>\n      </g>\n     </g>\n    </g>\n    <g id=\"xtick_8\">\n     <g id=\"line2d_8\">\n      <g>\n       <use style=\"stroke:#000000;stroke-width:0.6;\" x=\"91.400759\" xlink:href=\"#m9940feba84\" y=\"239.758125\"/>\n      </g>\n     </g>\n    </g>\n    <g id=\"xtick_9\">\n     <g id=\"line2d_9\">\n      <g>\n       <use style=\"stroke:#000000;stroke-width:0.6;\" x=\"104.074576\" xlink:href=\"#m9940feba84\" y=\"239.758125\"/>\n      </g>\n     </g>\n    </g>\n    <g id=\"xtick_10\">\n     <g id=\"line2d_10\">\n      <g>\n       <use style=\"stroke:#000000;stroke-width:0.6;\" x=\"129.42221\" xlink:href=\"#m9940feba84\" y=\"239.758125\"/>\n      </g>\n     </g>\n    </g>\n    <g id=\"xtick_11\">\n     <g id=\"line2d_11\">\n      <g>\n       <use style=\"stroke:#000000;stroke-width:0.6;\" x=\"142.096027\" xlink:href=\"#m9940feba84\" y=\"239.758125\"/>\n      </g>\n     </g>\n    </g>\n    <g id=\"xtick_12\">\n     <g id=\"line2d_12\">\n      <g>\n       <use style=\"stroke:#000000;stroke-width:0.6;\" x=\"154.769844\" xlink:href=\"#m9940feba84\" y=\"239.758125\"/>\n      </g>\n     </g>\n    </g>\n    <g id=\"xtick_13\">\n     <g id=\"line2d_13\">\n      <g>\n       <use style=\"stroke:#000000;stroke-width:0.6;\" x=\"167.443661\" xlink:href=\"#m9940feba84\" y=\"239.758125\"/>\n      </g>\n     </g>\n    </g>\n    <g id=\"xtick_14\">\n     <g id=\"line2d_14\">\n      <g>\n       <use style=\"stroke:#000000;stroke-width:0.6;\" x=\"192.791295\" xlink:href=\"#m9940feba84\" y=\"239.758125\"/>\n      </g>\n     </g>\n    </g>\n    <g id=\"xtick_15\">\n     <g id=\"line2d_15\">\n      <g>\n       <use style=\"stroke:#000000;stroke-width:0.6;\" x=\"205.465112\" xlink:href=\"#m9940feba84\" y=\"239.758125\"/>\n      </g>\n     </g>\n    </g>\n    <g id=\"xtick_16\">\n     <g id=\"line2d_16\">\n      <g>\n       <use style=\"stroke:#000000;stroke-width:0.6;\" x=\"218.138929\" xlink:href=\"#m9940feba84\" y=\"239.758125\"/>\n      </g>\n     </g>\n    </g>\n    <g id=\"xtick_17\">\n     <g id=\"line2d_17\">\n      <g>\n       <use style=\"stroke:#000000;stroke-width:0.6;\" x=\"230.812746\" xlink:href=\"#m9940feba84\" y=\"239.758125\"/>\n      </g>\n     </g>\n    </g>\n    <g id=\"xtick_18\">\n     <g id=\"line2d_18\">\n      <g>\n       <use style=\"stroke:#000000;stroke-width:0.6;\" x=\"256.160381\" xlink:href=\"#m9940feba84\" y=\"239.758125\"/>\n      </g>\n     </g>\n    </g>\n    <g id=\"xtick_19\">\n     <g id=\"line2d_19\">\n      <g>\n       <use style=\"stroke:#000000;stroke-width:0.6;\" x=\"268.834198\" xlink:href=\"#m9940feba84\" y=\"239.758125\"/>\n      </g>\n     </g>\n    </g>\n    <g id=\"xtick_20\">\n     <g id=\"line2d_20\">\n      <g>\n       <use style=\"stroke:#000000;stroke-width:0.6;\" x=\"281.508015\" xlink:href=\"#m9940feba84\" y=\"239.758125\"/>\n      </g>\n     </g>\n    </g>\n    <g id=\"xtick_21\">\n     <g id=\"line2d_21\">\n      <g>\n       <use style=\"stroke:#000000;stroke-width:0.6;\" x=\"294.181832\" xlink:href=\"#m9940feba84\" y=\"239.758125\"/>\n      </g>\n     </g>\n    </g>\n    <g id=\"xtick_22\">\n     <g id=\"line2d_22\">\n      <g>\n       <use style=\"stroke:#000000;stroke-width:0.6;\" x=\"319.529466\" xlink:href=\"#m9940feba84\" y=\"239.758125\"/>\n      </g>\n     </g>\n    </g>\n    <g id=\"xtick_23\">\n     <g id=\"line2d_23\">\n      <g>\n       <use style=\"stroke:#000000;stroke-width:0.6;\" x=\"332.203283\" xlink:href=\"#m9940feba84\" y=\"239.758125\"/>\n      </g>\n     </g>\n    </g>\n    <g id=\"xtick_24\">\n     <g id=\"line2d_24\">\n      <g>\n       <use style=\"stroke:#000000;stroke-width:0.6;\" x=\"344.8771\" xlink:href=\"#m9940feba84\" y=\"239.758125\"/>\n      </g>\n     </g>\n    </g>\n    <g id=\"xtick_25\">\n     <g id=\"line2d_25\">\n      <g>\n       <use style=\"stroke:#000000;stroke-width:0.6;\" x=\"357.550917\" xlink:href=\"#m9940feba84\" y=\"239.758125\"/>\n      </g>\n     </g>\n    </g>\n    <g id=\"xtick_26\">\n     <g id=\"line2d_26\">\n      <g>\n       <use style=\"stroke:#000000;stroke-width:0.6;\" x=\"382.898551\" xlink:href=\"#m9940feba84\" y=\"239.758125\"/>\n      </g>\n     </g>\n    </g>\n    <g id=\"xtick_27\">\n     <g id=\"line2d_27\">\n      <g>\n       <use style=\"stroke:#000000;stroke-width:0.6;\" x=\"395.572368\" xlink:href=\"#m9940feba84\" y=\"239.758125\"/>\n      </g>\n     </g>\n    </g>\n    <g id=\"text_6\">\n     <!-- Date -->\n     <g transform=\"translate(221.502344 268.034687)scale(0.1 -0.1)\">\n      <defs>\n       <path d=\"M 19.671875 64.796875 \nL 19.671875 8.109375 \nL 31.59375 8.109375 \nQ 46.6875 8.109375 53.6875 14.9375 \nQ 60.6875 21.78125 60.6875 36.53125 \nQ 60.6875 51.171875 53.6875 57.984375 \nQ 46.6875 64.796875 31.59375 64.796875 \nz\nM 9.8125 72.90625 \nL 30.078125 72.90625 \nQ 51.265625 72.90625 61.171875 64.09375 \nQ 71.09375 55.28125 71.09375 36.53125 \nQ 71.09375 17.671875 61.125 8.828125 \nQ 51.171875 0 30.078125 0 \nL 9.8125 0 \nz\n\" id=\"DejaVuSans-68\"/>\n       <path d=\"M 34.28125 27.484375 \nQ 23.390625 27.484375 19.1875 25 \nQ 14.984375 22.515625 14.984375 16.5 \nQ 14.984375 11.71875 18.140625 8.90625 \nQ 21.296875 6.109375 26.703125 6.109375 \nQ 34.1875 6.109375 38.703125 11.40625 \nQ 43.21875 16.703125 43.21875 25.484375 \nL 43.21875 27.484375 \nz\nM 52.203125 31.203125 \nL 52.203125 0 \nL 43.21875 0 \nL 43.21875 8.296875 \nQ 40.140625 3.328125 35.546875 0.953125 \nQ 30.953125 -1.421875 24.3125 -1.421875 \nQ 15.921875 -1.421875 10.953125 3.296875 \nQ 6 8.015625 6 15.921875 \nQ 6 25.140625 12.171875 29.828125 \nQ 18.359375 34.515625 30.609375 34.515625 \nL 43.21875 34.515625 \nL 43.21875 35.40625 \nQ 43.21875 41.609375 39.140625 45 \nQ 35.0625 48.390625 27.6875 48.390625 \nQ 23 48.390625 18.546875 47.265625 \nQ 14.109375 46.140625 10.015625 43.890625 \nL 10.015625 52.203125 \nQ 14.9375 54.109375 19.578125 55.046875 \nQ 24.21875 56 28.609375 56 \nQ 40.484375 56 46.34375 49.84375 \nQ 52.203125 43.703125 52.203125 31.203125 \nz\n\" id=\"DejaVuSans-97\"/>\n       <path d=\"M 18.3125 70.21875 \nL 18.3125 54.6875 \nL 36.8125 54.6875 \nL 36.8125 47.703125 \nL 18.3125 47.703125 \nL 18.3125 18.015625 \nQ 18.3125 11.328125 20.140625 9.421875 \nQ 21.96875 7.515625 27.59375 7.515625 \nL 36.8125 7.515625 \nL 36.8125 0 \nL 27.59375 0 \nQ 17.1875 0 13.234375 3.875 \nQ 9.28125 7.765625 9.28125 18.015625 \nL 9.28125 47.703125 \nL 2.6875 47.703125 \nL 2.6875 54.6875 \nL 9.28125 54.6875 \nL 9.28125 70.21875 \nz\n\" id=\"DejaVuSans-116\"/>\n       <path d=\"M 56.203125 29.59375 \nL 56.203125 25.203125 \nL 14.890625 25.203125 \nQ 15.484375 15.921875 20.484375 11.0625 \nQ 25.484375 6.203125 34.421875 6.203125 \nQ 39.59375 6.203125 44.453125 7.46875 \nQ 49.3125 8.734375 54.109375 11.28125 \nL 54.109375 2.78125 \nQ 49.265625 0.734375 44.1875 -0.34375 \nQ 39.109375 -1.421875 33.890625 -1.421875 \nQ 20.796875 -1.421875 13.15625 6.1875 \nQ 5.515625 13.8125 5.515625 26.8125 \nQ 5.515625 40.234375 12.765625 48.109375 \nQ 20.015625 56 32.328125 56 \nQ 43.359375 56 49.78125 48.890625 \nQ 56.203125 41.796875 56.203125 29.59375 \nz\nM 47.21875 32.234375 \nQ 47.125 39.59375 43.09375 43.984375 \nQ 39.0625 48.390625 32.421875 48.390625 \nQ 24.90625 48.390625 20.390625 44.140625 \nQ 15.875 39.890625 15.1875 32.171875 \nz\n\" id=\"DejaVuSans-101\"/>\n      </defs>\n      <use xlink:href=\"#DejaVuSans-68\"/>\n      <use x=\"77.001953\" xlink:href=\"#DejaVuSans-97\"/>\n      <use x=\"138.28125\" xlink:href=\"#DejaVuSans-116\"/>\n      <use x=\"177.490234\" xlink:href=\"#DejaVuSans-101\"/>\n     </g>\n    </g>\n   </g>\n   <g id=\"matplotlib.axis_2\">\n    <g id=\"ytick_1\">\n     <g id=\"line2d_28\">\n      <defs>\n       <path d=\"M 0 0 \nL -3.5 0 \n\" id=\"m06d6ccd02a\" style=\"stroke:#000000;stroke-width:0.8;\"/>\n      </defs>\n      <g>\n       <use style=\"stroke:#000000;stroke-width:0.8;\" x=\"66.053125\" xlink:href=\"#m06d6ccd02a\" y=\"215.858594\"/>\n      </g>\n     </g>\n     <g id=\"text_7\">\n      <!-- 100000 -->\n      <g transform=\"translate(20.878125 219.657813)scale(0.1 -0.1)\">\n       <use xlink:href=\"#DejaVuSans-49\"/>\n       <use x=\"63.623047\" xlink:href=\"#DejaVuSans-48\"/>\n       <use x=\"127.246094\" xlink:href=\"#DejaVuSans-48\"/>\n       <use x=\"190.869141\" xlink:href=\"#DejaVuSans-48\"/>\n       <use x=\"254.492188\" xlink:href=\"#DejaVuSans-48\"/>\n       <use x=\"318.115234\" xlink:href=\"#DejaVuSans-48\"/>\n      </g>\n     </g>\n    </g>\n    <g id=\"ytick_2\">\n     <g id=\"line2d_29\">\n      <g>\n       <use style=\"stroke:#000000;stroke-width:0.8;\" x=\"66.053125\" xlink:href=\"#m06d6ccd02a\" y=\"179.645062\"/>\n      </g>\n     </g>\n     <g id=\"text_8\">\n      <!-- 200000 -->\n      <g transform=\"translate(20.878125 183.444281)scale(0.1 -0.1)\">\n       <use xlink:href=\"#DejaVuSans-50\"/>\n       <use x=\"63.623047\" xlink:href=\"#DejaVuSans-48\"/>\n       <use x=\"127.246094\" xlink:href=\"#DejaVuSans-48\"/>\n       <use x=\"190.869141\" xlink:href=\"#DejaVuSans-48\"/>\n       <use x=\"254.492188\" xlink:href=\"#DejaVuSans-48\"/>\n       <use x=\"318.115234\" xlink:href=\"#DejaVuSans-48\"/>\n      </g>\n     </g>\n    </g>\n    <g id=\"ytick_3\">\n     <g id=\"line2d_30\">\n      <g>\n       <use style=\"stroke:#000000;stroke-width:0.8;\" x=\"66.053125\" xlink:href=\"#m06d6ccd02a\" y=\"143.43153\"/>\n      </g>\n     </g>\n     <g id=\"text_9\">\n      <!-- 300000 -->\n      <g transform=\"translate(20.878125 147.230749)scale(0.1 -0.1)\">\n       <defs>\n        <path d=\"M 40.578125 39.3125 \nQ 47.65625 37.796875 51.625 33 \nQ 55.609375 28.21875 55.609375 21.1875 \nQ 55.609375 10.40625 48.1875 4.484375 \nQ 40.765625 -1.421875 27.09375 -1.421875 \nQ 22.515625 -1.421875 17.65625 -0.515625 \nQ 12.796875 0.390625 7.625 2.203125 \nL 7.625 11.71875 \nQ 11.71875 9.328125 16.59375 8.109375 \nQ 21.484375 6.890625 26.8125 6.890625 \nQ 36.078125 6.890625 40.9375 10.546875 \nQ 45.796875 14.203125 45.796875 21.1875 \nQ 45.796875 27.640625 41.28125 31.265625 \nQ 36.765625 34.90625 28.71875 34.90625 \nL 20.21875 34.90625 \nL 20.21875 43.015625 \nL 29.109375 43.015625 \nQ 36.375 43.015625 40.234375 45.921875 \nQ 44.09375 48.828125 44.09375 54.296875 \nQ 44.09375 59.90625 40.109375 62.90625 \nQ 36.140625 65.921875 28.71875 65.921875 \nQ 24.65625 65.921875 20.015625 65.03125 \nQ 15.375 64.15625 9.8125 62.3125 \nL 9.8125 71.09375 \nQ 15.4375 72.65625 20.34375 73.4375 \nQ 25.25 74.21875 29.59375 74.21875 \nQ 40.828125 74.21875 47.359375 69.109375 \nQ 53.90625 64.015625 53.90625 55.328125 \nQ 53.90625 49.265625 50.4375 45.09375 \nQ 46.96875 40.921875 40.578125 39.3125 \nz\n\" id=\"DejaVuSans-51\"/>\n       </defs>\n       <use xlink:href=\"#DejaVuSans-51\"/>\n       <use x=\"63.623047\" xlink:href=\"#DejaVuSans-48\"/>\n       <use x=\"127.246094\" xlink:href=\"#DejaVuSans-48\"/>\n       <use x=\"190.869141\" xlink:href=\"#DejaVuSans-48\"/>\n       <use x=\"254.492188\" xlink:href=\"#DejaVuSans-48\"/>\n       <use x=\"318.115234\" xlink:href=\"#DejaVuSans-48\"/>\n      </g>\n     </g>\n    </g>\n    <g id=\"ytick_4\">\n     <g id=\"line2d_31\">\n      <g>\n       <use style=\"stroke:#000000;stroke-width:0.8;\" x=\"66.053125\" xlink:href=\"#m06d6ccd02a\" y=\"107.217998\"/>\n      </g>\n     </g>\n     <g id=\"text_10\">\n      <!-- 400000 -->\n      <g transform=\"translate(20.878125 111.017217)scale(0.1 -0.1)\">\n       <use xlink:href=\"#DejaVuSans-52\"/>\n       <use x=\"63.623047\" xlink:href=\"#DejaVuSans-48\"/>\n       <use x=\"127.246094\" xlink:href=\"#DejaVuSans-48\"/>\n       <use x=\"190.869141\" xlink:href=\"#DejaVuSans-48\"/>\n       <use x=\"254.492188\" xlink:href=\"#DejaVuSans-48\"/>\n       <use x=\"318.115234\" xlink:href=\"#DejaVuSans-48\"/>\n      </g>\n     </g>\n    </g>\n    <g id=\"ytick_5\">\n     <g id=\"line2d_32\">\n      <g>\n       <use style=\"stroke:#000000;stroke-width:0.8;\" x=\"66.053125\" xlink:href=\"#m06d6ccd02a\" y=\"71.004466\"/>\n      </g>\n     </g>\n     <g id=\"text_11\">\n      <!-- 500000 -->\n      <g transform=\"translate(20.878125 74.803685)scale(0.1 -0.1)\">\n       <defs>\n        <path d=\"M 10.796875 72.90625 \nL 49.515625 72.90625 \nL 49.515625 64.59375 \nL 19.828125 64.59375 \nL 19.828125 46.734375 \nQ 21.96875 47.46875 24.109375 47.828125 \nQ 26.265625 48.1875 28.421875 48.1875 \nQ 40.625 48.1875 47.75 41.5 \nQ 54.890625 34.8125 54.890625 23.390625 \nQ 54.890625 11.625 47.5625 5.09375 \nQ 40.234375 -1.421875 26.90625 -1.421875 \nQ 22.3125 -1.421875 17.546875 -0.640625 \nQ 12.796875 0.140625 7.71875 1.703125 \nL 7.71875 11.625 \nQ 12.109375 9.234375 16.796875 8.0625 \nQ 21.484375 6.890625 26.703125 6.890625 \nQ 35.15625 6.890625 40.078125 11.328125 \nQ 45.015625 15.765625 45.015625 23.390625 \nQ 45.015625 31 40.078125 35.4375 \nQ 35.15625 39.890625 26.703125 39.890625 \nQ 22.75 39.890625 18.8125 39.015625 \nQ 14.890625 38.140625 10.796875 36.28125 \nz\n\" id=\"DejaVuSans-53\"/>\n       </defs>\n       <use xlink:href=\"#DejaVuSans-53\"/>\n       <use x=\"63.623047\" xlink:href=\"#DejaVuSans-48\"/>\n       <use x=\"127.246094\" xlink:href=\"#DejaVuSans-48\"/>\n       <use x=\"190.869141\" xlink:href=\"#DejaVuSans-48\"/>\n       <use x=\"254.492188\" xlink:href=\"#DejaVuSans-48\"/>\n       <use x=\"318.115234\" xlink:href=\"#DejaVuSans-48\"/>\n      </g>\n     </g>\n    </g>\n    <g id=\"ytick_6\">\n     <g id=\"line2d_33\">\n      <g>\n       <use style=\"stroke:#000000;stroke-width:0.8;\" x=\"66.053125\" xlink:href=\"#m06d6ccd02a\" y=\"34.790934\"/>\n      </g>\n     </g>\n     <g id=\"text_12\">\n      <!-- 600000 -->\n      <g transform=\"translate(20.878125 38.590153)scale(0.1 -0.1)\">\n       <defs>\n        <path d=\"M 33.015625 40.375 \nQ 26.375 40.375 22.484375 35.828125 \nQ 18.609375 31.296875 18.609375 23.390625 \nQ 18.609375 15.53125 22.484375 10.953125 \nQ 26.375 6.390625 33.015625 6.390625 \nQ 39.65625 6.390625 43.53125 10.953125 \nQ 47.40625 15.53125 47.40625 23.390625 \nQ 47.40625 31.296875 43.53125 35.828125 \nQ 39.65625 40.375 33.015625 40.375 \nz\nM 52.59375 71.296875 \nL 52.59375 62.3125 \nQ 48.875 64.0625 45.09375 64.984375 \nQ 41.3125 65.921875 37.59375 65.921875 \nQ 27.828125 65.921875 22.671875 59.328125 \nQ 17.53125 52.734375 16.796875 39.40625 \nQ 19.671875 43.65625 24.015625 45.921875 \nQ 28.375 48.1875 33.59375 48.1875 \nQ 44.578125 48.1875 50.953125 41.515625 \nQ 57.328125 34.859375 57.328125 23.390625 \nQ 57.328125 12.15625 50.6875 5.359375 \nQ 44.046875 -1.421875 33.015625 -1.421875 \nQ 20.359375 -1.421875 13.671875 8.265625 \nQ 6.984375 17.96875 6.984375 36.375 \nQ 6.984375 53.65625 15.1875 63.9375 \nQ 23.390625 74.21875 37.203125 74.21875 \nQ 40.921875 74.21875 44.703125 73.484375 \nQ 48.484375 72.75 52.59375 71.296875 \nz\n\" id=\"DejaVuSans-54\"/>\n       </defs>\n       <use xlink:href=\"#DejaVuSans-54\"/>\n       <use x=\"63.623047\" xlink:href=\"#DejaVuSans-48\"/>\n       <use x=\"127.246094\" xlink:href=\"#DejaVuSans-48\"/>\n       <use x=\"190.869141\" xlink:href=\"#DejaVuSans-48\"/>\n       <use x=\"254.492188\" xlink:href=\"#DejaVuSans-48\"/>\n       <use x=\"318.115234\" xlink:href=\"#DejaVuSans-48\"/>\n      </g>\n     </g>\n    </g>\n    <g id=\"text_13\">\n     <!-- Avg price in pounds -->\n     <g transform=\"translate(14.798438 180.417812)rotate(-90)scale(0.1 -0.1)\">\n      <defs>\n       <path d=\"M 34.1875 63.1875 \nL 20.796875 26.90625 \nL 47.609375 26.90625 \nz\nM 28.609375 72.90625 \nL 39.796875 72.90625 \nL 67.578125 0 \nL 57.328125 0 \nL 50.6875 18.703125 \nL 17.828125 18.703125 \nL 11.1875 0 \nL 0.78125 0 \nz\n\" id=\"DejaVuSans-65\"/>\n       <path d=\"M 2.984375 54.6875 \nL 12.5 54.6875 \nL 29.59375 8.796875 \nL 46.6875 54.6875 \nL 56.203125 54.6875 \nL 35.6875 0 \nL 23.484375 0 \nz\n\" id=\"DejaVuSans-118\"/>\n       <path d=\"M 45.40625 27.984375 \nQ 45.40625 37.75 41.375 43.109375 \nQ 37.359375 48.484375 30.078125 48.484375 \nQ 22.859375 48.484375 18.828125 43.109375 \nQ 14.796875 37.75 14.796875 27.984375 \nQ 14.796875 18.265625 18.828125 12.890625 \nQ 22.859375 7.515625 30.078125 7.515625 \nQ 37.359375 7.515625 41.375 12.890625 \nQ 45.40625 18.265625 45.40625 27.984375 \nz\nM 54.390625 6.78125 \nQ 54.390625 -7.171875 48.1875 -13.984375 \nQ 42 -20.796875 29.203125 -20.796875 \nQ 24.46875 -20.796875 20.265625 -20.09375 \nQ 16.0625 -19.390625 12.109375 -17.921875 \nL 12.109375 -9.1875 \nQ 16.0625 -11.328125 19.921875 -12.34375 \nQ 23.78125 -13.375 27.78125 -13.375 \nQ 36.625 -13.375 41.015625 -8.765625 \nQ 45.40625 -4.15625 45.40625 5.171875 \nL 45.40625 9.625 \nQ 42.625 4.78125 38.28125 2.390625 \nQ 33.9375 0 27.875 0 \nQ 17.828125 0 11.671875 7.65625 \nQ 5.515625 15.328125 5.515625 27.984375 \nQ 5.515625 40.671875 11.671875 48.328125 \nQ 17.828125 56 27.875 56 \nQ 33.9375 56 38.28125 53.609375 \nQ 42.625 51.21875 45.40625 46.390625 \nL 45.40625 54.6875 \nL 54.390625 54.6875 \nz\n\" id=\"DejaVuSans-103\"/>\n       <path id=\"DejaVuSans-32\"/>\n       <path d=\"M 18.109375 8.203125 \nL 18.109375 -20.796875 \nL 9.078125 -20.796875 \nL 9.078125 54.6875 \nL 18.109375 54.6875 \nL 18.109375 46.390625 \nQ 20.953125 51.265625 25.265625 53.625 \nQ 29.59375 56 35.59375 56 \nQ 45.5625 56 51.78125 48.09375 \nQ 58.015625 40.1875 58.015625 27.296875 \nQ 58.015625 14.40625 51.78125 6.484375 \nQ 45.5625 -1.421875 35.59375 -1.421875 \nQ 29.59375 -1.421875 25.265625 0.953125 \nQ 20.953125 3.328125 18.109375 8.203125 \nz\nM 48.6875 27.296875 \nQ 48.6875 37.203125 44.609375 42.84375 \nQ 40.53125 48.484375 33.40625 48.484375 \nQ 26.265625 48.484375 22.1875 42.84375 \nQ 18.109375 37.203125 18.109375 27.296875 \nQ 18.109375 17.390625 22.1875 11.75 \nQ 26.265625 6.109375 33.40625 6.109375 \nQ 40.53125 6.109375 44.609375 11.75 \nQ 48.6875 17.390625 48.6875 27.296875 \nz\n\" id=\"DejaVuSans-112\"/>\n       <path d=\"M 41.109375 46.296875 \nQ 39.59375 47.171875 37.8125 47.578125 \nQ 36.03125 48 33.890625 48 \nQ 26.265625 48 22.1875 43.046875 \nQ 18.109375 38.09375 18.109375 28.8125 \nL 18.109375 0 \nL 9.078125 0 \nL 9.078125 54.6875 \nL 18.109375 54.6875 \nL 18.109375 46.1875 \nQ 20.953125 51.171875 25.484375 53.578125 \nQ 30.03125 56 36.53125 56 \nQ 37.453125 56 38.578125 55.875 \nQ 39.703125 55.765625 41.0625 55.515625 \nz\n\" id=\"DejaVuSans-114\"/>\n       <path d=\"M 9.421875 54.6875 \nL 18.40625 54.6875 \nL 18.40625 0 \nL 9.421875 0 \nz\nM 9.421875 75.984375 \nL 18.40625 75.984375 \nL 18.40625 64.59375 \nL 9.421875 64.59375 \nz\n\" id=\"DejaVuSans-105\"/>\n       <path d=\"M 48.78125 52.59375 \nL 48.78125 44.1875 \nQ 44.96875 46.296875 41.140625 47.34375 \nQ 37.3125 48.390625 33.40625 48.390625 \nQ 24.65625 48.390625 19.8125 42.84375 \nQ 14.984375 37.3125 14.984375 27.296875 \nQ 14.984375 17.28125 19.8125 11.734375 \nQ 24.65625 6.203125 33.40625 6.203125 \nQ 37.3125 6.203125 41.140625 7.25 \nQ 44.96875 8.296875 48.78125 10.40625 \nL 48.78125 2.09375 \nQ 45.015625 0.34375 40.984375 -0.53125 \nQ 36.96875 -1.421875 32.421875 -1.421875 \nQ 20.0625 -1.421875 12.78125 6.34375 \nQ 5.515625 14.109375 5.515625 27.296875 \nQ 5.515625 40.671875 12.859375 48.328125 \nQ 20.21875 56 33.015625 56 \nQ 37.15625 56 41.109375 55.140625 \nQ 45.0625 54.296875 48.78125 52.59375 \nz\n\" id=\"DejaVuSans-99\"/>\n       <path d=\"M 54.890625 33.015625 \nL 54.890625 0 \nL 45.90625 0 \nL 45.90625 32.71875 \nQ 45.90625 40.484375 42.875 44.328125 \nQ 39.84375 48.1875 33.796875 48.1875 \nQ 26.515625 48.1875 22.3125 43.546875 \nQ 18.109375 38.921875 18.109375 30.90625 \nL 18.109375 0 \nL 9.078125 0 \nL 9.078125 54.6875 \nL 18.109375 54.6875 \nL 18.109375 46.1875 \nQ 21.34375 51.125 25.703125 53.5625 \nQ 30.078125 56 35.796875 56 \nQ 45.21875 56 50.046875 50.171875 \nQ 54.890625 44.34375 54.890625 33.015625 \nz\n\" id=\"DejaVuSans-110\"/>\n       <path d=\"M 30.609375 48.390625 \nQ 23.390625 48.390625 19.1875 42.75 \nQ 14.984375 37.109375 14.984375 27.296875 \nQ 14.984375 17.484375 19.15625 11.84375 \nQ 23.34375 6.203125 30.609375 6.203125 \nQ 37.796875 6.203125 41.984375 11.859375 \nQ 46.1875 17.53125 46.1875 27.296875 \nQ 46.1875 37.015625 41.984375 42.703125 \nQ 37.796875 48.390625 30.609375 48.390625 \nz\nM 30.609375 56 \nQ 42.328125 56 49.015625 48.375 \nQ 55.71875 40.765625 55.71875 27.296875 \nQ 55.71875 13.875 49.015625 6.21875 \nQ 42.328125 -1.421875 30.609375 -1.421875 \nQ 18.84375 -1.421875 12.171875 6.21875 \nQ 5.515625 13.875 5.515625 27.296875 \nQ 5.515625 40.765625 12.171875 48.375 \nQ 18.84375 56 30.609375 56 \nz\n\" id=\"DejaVuSans-111\"/>\n       <path d=\"M 8.5 21.578125 \nL 8.5 54.6875 \nL 17.484375 54.6875 \nL 17.484375 21.921875 \nQ 17.484375 14.15625 20.5 10.265625 \nQ 23.53125 6.390625 29.59375 6.390625 \nQ 36.859375 6.390625 41.078125 11.03125 \nQ 45.3125 15.671875 45.3125 23.6875 \nL 45.3125 54.6875 \nL 54.296875 54.6875 \nL 54.296875 0 \nL 45.3125 0 \nL 45.3125 8.40625 \nQ 42.046875 3.421875 37.71875 1 \nQ 33.40625 -1.421875 27.6875 -1.421875 \nQ 18.265625 -1.421875 13.375 4.4375 \nQ 8.5 10.296875 8.5 21.578125 \nz\nM 31.109375 56 \nz\n\" id=\"DejaVuSans-117\"/>\n       <path d=\"M 45.40625 46.390625 \nL 45.40625 75.984375 \nL 54.390625 75.984375 \nL 54.390625 0 \nL 45.40625 0 \nL 45.40625 8.203125 \nQ 42.578125 3.328125 38.25 0.953125 \nQ 33.9375 -1.421875 27.875 -1.421875 \nQ 17.96875 -1.421875 11.734375 6.484375 \nQ 5.515625 14.40625 5.515625 27.296875 \nQ 5.515625 40.1875 11.734375 48.09375 \nQ 17.96875 56 27.875 56 \nQ 33.9375 56 38.25 53.625 \nQ 42.578125 51.265625 45.40625 46.390625 \nz\nM 14.796875 27.296875 \nQ 14.796875 17.390625 18.875 11.75 \nQ 22.953125 6.109375 30.078125 6.109375 \nQ 37.203125 6.109375 41.296875 11.75 \nQ 45.40625 17.390625 45.40625 27.296875 \nQ 45.40625 37.203125 41.296875 42.84375 \nQ 37.203125 48.484375 30.078125 48.484375 \nQ 22.953125 48.484375 18.875 42.84375 \nQ 14.796875 37.203125 14.796875 27.296875 \nz\n\" id=\"DejaVuSans-100\"/>\n       <path d=\"M 44.28125 53.078125 \nL 44.28125 44.578125 \nQ 40.484375 46.53125 36.375 47.5 \nQ 32.28125 48.484375 27.875 48.484375 \nQ 21.1875 48.484375 17.84375 46.4375 \nQ 14.5 44.390625 14.5 40.28125 \nQ 14.5 37.15625 16.890625 35.375 \nQ 19.28125 33.59375 26.515625 31.984375 \nL 29.59375 31.296875 \nQ 39.15625 29.25 43.1875 25.515625 \nQ 47.21875 21.78125 47.21875 15.09375 \nQ 47.21875 7.46875 41.1875 3.015625 \nQ 35.15625 -1.421875 24.609375 -1.421875 \nQ 20.21875 -1.421875 15.453125 -0.5625 \nQ 10.6875 0.296875 5.421875 2 \nL 5.421875 11.28125 \nQ 10.40625 8.6875 15.234375 7.390625 \nQ 20.0625 6.109375 24.8125 6.109375 \nQ 31.15625 6.109375 34.5625 8.28125 \nQ 37.984375 10.453125 37.984375 14.40625 \nQ 37.984375 18.0625 35.515625 20.015625 \nQ 33.0625 21.96875 24.703125 23.78125 \nL 21.578125 24.515625 \nQ 13.234375 26.265625 9.515625 29.90625 \nQ 5.8125 33.546875 5.8125 39.890625 \nQ 5.8125 47.609375 11.28125 51.796875 \nQ 16.75 56 26.8125 56 \nQ 31.78125 56 36.171875 55.265625 \nQ 40.578125 54.546875 44.28125 53.078125 \nz\n\" id=\"DejaVuSans-115\"/>\n      </defs>\n      <use xlink:href=\"#DejaVuSans-65\"/>\n      <use x=\"62.533203\" xlink:href=\"#DejaVuSans-118\"/>\n      <use x=\"121.712891\" xlink:href=\"#DejaVuSans-103\"/>\n      <use x=\"185.189453\" xlink:href=\"#DejaVuSans-32\"/>\n      <use x=\"216.976562\" xlink:href=\"#DejaVuSans-112\"/>\n      <use x=\"280.453125\" xlink:href=\"#DejaVuSans-114\"/>\n      <use x=\"321.566406\" xlink:href=\"#DejaVuSans-105\"/>\n      <use x=\"349.349609\" xlink:href=\"#DejaVuSans-99\"/>\n      <use x=\"404.330078\" xlink:href=\"#DejaVuSans-101\"/>\n      <use x=\"465.853516\" xlink:href=\"#DejaVuSans-32\"/>\n      <use x=\"497.640625\" xlink:href=\"#DejaVuSans-105\"/>\n      <use x=\"525.423828\" xlink:href=\"#DejaVuSans-110\"/>\n      <use x=\"588.802734\" xlink:href=\"#DejaVuSans-32\"/>\n      <use x=\"620.589844\" xlink:href=\"#DejaVuSans-112\"/>\n      <use x=\"684.066406\" xlink:href=\"#DejaVuSans-111\"/>\n      <use x=\"745.248047\" xlink:href=\"#DejaVuSans-117\"/>\n      <use x=\"808.626953\" xlink:href=\"#DejaVuSans-110\"/>\n      <use x=\"872.005859\" xlink:href=\"#DejaVuSans-100\"/>\n      <use x=\"935.482422\" xlink:href=\"#DejaVuSans-115\"/>\n     </g>\n    </g>\n   </g>\n   <g id=\"line2d_34\">\n    <path clip-path=\"url(#p78759a1bea)\" d=\"M 66.053125 229.874489 \nL 67.109276 229.189851 \nL 68.165428 229.042746 \nL 69.221579 228.48276 \nL 70.277731 228.100943 \nL 71.333882 227.837606 \nL 72.390034 227.305419 \nL 73.446185 227.411872 \nL 74.502336 227.174416 \nL 75.558488 227.584662 \nL 76.614639 227.723006 \nL 77.670791 228.220201 \nL 79.783093 227.813315 \nL 80.839245 227.553077 \nL 81.895396 227.786684 \nL 82.951548 227.81404 \nL 84.007699 227.039999 \nL 85.063851 226.4384 \nL 86.120002 226.074733 \nL 87.176153 226.06451 \nL 88.232305 226.303187 \nL 89.288456 226.327815 \nL 90.344608 226.67283 \nL 91.400759 226.763835 \nL 92.45691 226.53959 \nL 93.513062 225.922425 \nL 95.625365 223.281239 \nL 96.681516 222.971215 \nL 97.737668 222.891241 \nL 98.793819 223.000087 \nL 99.84997 222.270032 \nL 100.906122 222.331347 \nL 101.962273 221.96605 \nL 103.018425 222.655658 \nL 104.074576 221.828189 \nL 105.130728 222.225982 \nL 106.186879 221.578828 \nL 107.24303 221.951243 \nL 108.299182 220.720961 \nL 109.355333 220.502592 \nL 110.411485 218.918586 \nL 111.467636 219.628284 \nL 112.523787 218.702836 \nL 113.579939 219.978741 \nL 114.63609 218.894684 \nL 115.692242 218.086635 \nL 116.748393 216.04371 \nL 118.860696 216.404772 \nL 119.916847 216.430625 \nL 120.972999 215.845589 \nL 122.02915 214.880536 \nL 123.085302 214.29522 \nL 124.141453 212.761719 \nL 126.253756 211.366981 \nL 127.309907 210.509066 \nL 129.42221 208.204784 \nL 130.478362 207.789719 \nL 131.534513 208.124652 \nL 132.590664 207.468802 \nL 133.646816 205.750588 \nL 134.702967 203.115478 \nL 136.81527 200.537186 \nL 137.871422 200.424308 \nL 138.927573 200.969106 \nL 139.983724 201.729097 \nL 141.039876 202.199715 \nL 142.096027 201.698479 \nL 143.152179 200.806225 \nL 144.20833 198.743696 \nL 146.320633 196.560031 \nL 147.376784 195.984804 \nL 148.432936 195.669757 \nL 149.489087 195.023161 \nL 150.545239 195.097866 \nL 151.60139 194.033702 \nL 152.657541 193.874608 \nL 154.769844 192.317336 \nL 155.825996 192.438193 \nL 156.882147 191.455233 \nL 157.938299 192.272451 \nL 158.99445 190.252396 \nL 160.050601 188.721916 \nL 161.106753 184.958256 \nL 163.219056 181.788421 \nL 164.275207 181.672575 \nL 165.331358 180.805003 \nL 166.38751 181.34772 \nL 167.443661 180.572629 \nL 168.499813 179.525046 \nL 169.555964 179.600815 \nL 170.612116 180.539884 \nL 171.668267 179.812346 \nL 172.724418 179.399056 \nL 173.78057 177.278895 \nL 174.836721 178.834118 \nL 175.892873 178.771588 \nL 176.949024 179.546796 \nL 178.005175 178.566612 \nL 179.061327 178.63669 \nL 180.117478 176.753437 \nL 181.17363 177.177301 \nL 182.229781 173.986501 \nL 183.285933 174.723272 \nL 184.342084 174.370633 \nL 185.398235 175.704337 \nL 186.454387 175.067029 \nL 187.510538 172.758735 \nL 188.56669 171.634788 \nL 189.622841 169.871559 \nL 190.678993 168.539912 \nL 191.735144 168.335307 \nL 192.791295 168.581631 \nL 193.847447 169.081714 \nL 194.903598 169.256038 \nL 195.95975 170.020114 \nL 197.015901 171.787427 \nL 198.072052 172.404534 \nL 199.128204 171.192227 \nL 200.184355 169.521558 \nL 201.240507 167.116649 \nL 202.296658 168.691525 \nL 203.35281 168.787638 \nL 204.408961 167.896207 \nL 205.465112 165.794757 \nL 206.521264 165.065505 \nL 207.577415 165.513533 \nL 209.689718 163.49245 \nL 210.745869 160.621472 \nL 211.802021 159.546732 \nL 212.858172 157.264602 \nL 213.914324 156.271469 \nL 214.970475 155.077446 \nL 216.026627 155.17105 \nL 217.082778 156.04507 \nL 218.138929 155.300912 \nL 219.195081 153.944496 \nL 220.251232 152.106757 \nL 221.307384 151.968962 \nL 222.363535 150.146522 \nL 223.419687 149.889178 \nL 225.531989 142.857599 \nL 226.588141 138.389177 \nL 227.644292 139.038279 \nL 228.700444 139.839213 \nL 229.756595 143.023555 \nL 230.812746 140.460974 \nL 231.868898 140.969368 \nL 232.925049 138.598978 \nL 233.981201 137.571164 \nL 236.093504 131.810293 \nL 237.149655 134.354792 \nL 238.205806 136.576994 \nL 239.261958 142.237061 \nL 240.318109 143.583898 \nL 241.374261 143.684038 \nL 242.430412 145.564984 \nL 243.486563 144.363104 \nL 244.542715 149.076807 \nL 245.598866 146.147833 \nL 246.655018 155.132226 \nL 247.711169 156.345168 \nL 248.767321 160.95723 \nL 249.823472 153.884535 \nL 250.879623 151.624305 \nL 251.935775 146.692598 \nL 252.991926 145.525778 \nL 254.048078 143.275468 \nL 255.104229 145.328317 \nL 256.160381 144.943865 \nL 257.216532 143.991788 \nL 258.272683 144.415583 \nL 259.328835 144.125542 \nL 260.384986 145.448179 \nL 261.441138 141.436512 \nL 262.497289 141.793184 \nL 263.55344 140.529281 \nL 264.609592 140.771383 \nL 265.665743 141.774119 \nL 266.721895 144.592916 \nL 267.778046 145.222779 \nL 268.834198 145.522903 \nL 269.890349 143.229472 \nL 270.9465 145.450269 \nL 272.002652 141.892398 \nL 273.058803 142.511901 \nL 274.114955 141.63865 \nL 276.227257 138.945822 \nL 277.283409 135.061521 \nL 278.33956 137.23329 \nL 279.395712 134.926964 \nL 280.451863 136.699343 \nL 281.508015 134.682836 \nL 282.564166 139.544802 \nL 283.620317 139.941797 \nL 284.676469 139.341381 \nL 285.73262 137.376311 \nL 286.788772 135.762901 \nL 287.844923 134.589663 \nL 288.901075 131.480387 \nL 289.957226 129.855492 \nL 291.013377 131.027436 \nL 292.069529 128.797196 \nL 293.12568 127.997412 \nL 294.181832 124.975295 \nL 297.350286 122.755185 \nL 298.406437 122.372732 \nL 299.462589 120.920985 \nL 300.51874 118.758108 \nL 301.574892 114.638958 \nL 302.631043 109.096478 \nL 303.687194 109.838105 \nL 305.799497 106.218028 \nL 306.855649 101.766867 \nL 307.9118 98.780822 \nL 308.967951 95.085275 \nL 310.024103 92.459255 \nL 311.080254 88.277011 \nL 312.136406 85.397593 \nL 313.192557 82.031598 \nL 314.248709 78.196092 \nL 315.30486 77.752656 \nL 316.361011 77.120796 \nL 317.417163 83.060605 \nL 318.473314 81.644441 \nL 319.529466 82.089242 \nL 320.585617 78.186408 \nL 321.641769 79.270128 \nL 322.69792 73.161154 \nL 323.754071 68.774783 \nL 324.810223 65.415632 \nL 325.866374 63.954145 \nL 326.922526 61.939452 \nL 329.034828 62.996539 \nL 330.09098 63.743027 \nL 331.147131 60.553807 \nL 332.203283 54.164532 \nL 334.315586 46.936611 \nL 335.371737 58.220028 \nL 336.427888 65.323563 \nL 337.48404 70.848655 \nL 338.540191 65.335593 \nL 339.596343 61.677848 \nL 340.652494 57.329793 \nL 341.708646 54.21287 \nL 342.764797 50.144867 \nL 343.820948 53.347319 \nL 344.8771 48.752885 \nL 345.933251 52.325417 \nL 346.989403 58.192118 \nL 348.045554 65.964844 \nL 349.101705 69.391196 \nL 350.157857 58.991306 \nL 351.214008 53.913191 \nL 352.27016 44.786718 \nL 353.326311 43.647353 \nL 354.382463 44.052593 \nL 355.438614 48.722485 \nL 356.494765 50.353739 \nL 357.550917 52.275203 \nL 358.607068 51.56432 \nL 359.66322 58.870497 \nL 360.719371 60.194741 \nL 362.831674 51.952141 \nL 363.887825 51.509511 \nL 364.943977 54.716093 \nL 366.000128 57.384035 \nL 367.05628 54.521384 \nL 368.112431 55.263433 \nL 369.168582 53.573121 \nL 370.224734 61.019142 \nL 371.280885 59.266915 \nL 372.337037 51.195131 \nL 373.393188 45.489884 \nL 374.44934 49.082944 \nL 375.505491 54.221811 \nL 376.561642 50.805092 \nL 377.617794 46.643815 \nL 378.673945 44.470937 \nL 379.730097 46.748945 \nL 380.786248 51.073869 \nL 381.842399 53.31572 \nL 382.898551 50.835008 \nL 383.954702 45.37479 \nL 385.010854 42.710747 \nL 386.067005 42.292555 \nL 387.123157 43.13311 \nL 388.179308 45.124689 \nL 389.235459 40.538632 \nL 390.291611 40.294089 \nL 391.347762 32.201761 \nL 392.403914 37.584017 \nL 393.460065 35.663209 \nL 394.516216 38.676022 \nL 395.572368 36.597459 \nL 396.628519 35.349766 \nL 397.684671 36.619592 \nL 398.740822 40.997163 \nL 399.796974 45.938575 \nL 400.853125 45.688568 \nL 400.853125 45.688568 \n\" style=\"fill:none;stroke:#1f77b4;stroke-linecap:square;stroke-width:1.5;\"/>\n   </g>\n   <g id=\"patch_3\">\n    <path d=\"M 66.053125 239.758125 \nL 66.053125 22.318125 \n\" style=\"fill:none;stroke:#000000;stroke-linecap:square;stroke-linejoin:miter;stroke-width:0.8;\"/>\n   </g>\n   <g id=\"patch_4\">\n    <path d=\"M 400.853125 239.758125 \nL 400.853125 22.318125 \n\" style=\"fill:none;stroke:#000000;stroke-linecap:square;stroke-linejoin:miter;stroke-width:0.8;\"/>\n   </g>\n   <g id=\"patch_5\">\n    <path d=\"M 66.053125 239.758125 \nL 400.853125 239.758125 \n\" style=\"fill:none;stroke:#000000;stroke-linecap:square;stroke-linejoin:miter;stroke-width:0.8;\"/>\n   </g>\n   <g id=\"patch_6\">\n    <path d=\"M 66.053125 22.318125 \nL 400.853125 22.318125 \n\" style=\"fill:none;stroke:#000000;stroke-linecap:square;stroke-linejoin:miter;stroke-width:0.8;\"/>\n   </g>\n   <g id=\"text_14\">\n    <!-- Avg Housing Price by Month: Borough = Hackney -->\n    <g transform=\"translate(85.538125 16.318125)scale(0.12 -0.12)\">\n     <defs>\n      <path d=\"M 9.8125 72.90625 \nL 19.671875 72.90625 \nL 19.671875 43.015625 \nL 55.515625 43.015625 \nL 55.515625 72.90625 \nL 65.375 72.90625 \nL 65.375 0 \nL 55.515625 0 \nL 55.515625 34.71875 \nL 19.671875 34.71875 \nL 19.671875 0 \nL 9.8125 0 \nz\n\" id=\"DejaVuSans-72\"/>\n      <path d=\"M 19.671875 64.796875 \nL 19.671875 37.40625 \nL 32.078125 37.40625 \nQ 38.96875 37.40625 42.71875 40.96875 \nQ 46.484375 44.53125 46.484375 51.125 \nQ 46.484375 57.671875 42.71875 61.234375 \nQ 38.96875 64.796875 32.078125 64.796875 \nz\nM 9.8125 72.90625 \nL 32.078125 72.90625 \nQ 44.34375 72.90625 50.609375 67.359375 \nQ 56.890625 61.8125 56.890625 51.125 \nQ 56.890625 40.328125 50.609375 34.8125 \nQ 44.34375 29.296875 32.078125 29.296875 \nL 19.671875 29.296875 \nL 19.671875 0 \nL 9.8125 0 \nz\n\" id=\"DejaVuSans-80\"/>\n      <path d=\"M 48.6875 27.296875 \nQ 48.6875 37.203125 44.609375 42.84375 \nQ 40.53125 48.484375 33.40625 48.484375 \nQ 26.265625 48.484375 22.1875 42.84375 \nQ 18.109375 37.203125 18.109375 27.296875 \nQ 18.109375 17.390625 22.1875 11.75 \nQ 26.265625 6.109375 33.40625 6.109375 \nQ 40.53125 6.109375 44.609375 11.75 \nQ 48.6875 17.390625 48.6875 27.296875 \nz\nM 18.109375 46.390625 \nQ 20.953125 51.265625 25.265625 53.625 \nQ 29.59375 56 35.59375 56 \nQ 45.5625 56 51.78125 48.09375 \nQ 58.015625 40.1875 58.015625 27.296875 \nQ 58.015625 14.40625 51.78125 6.484375 \nQ 45.5625 -1.421875 35.59375 -1.421875 \nQ 29.59375 -1.421875 25.265625 0.953125 \nQ 20.953125 3.328125 18.109375 8.203125 \nL 18.109375 0 \nL 9.078125 0 \nL 9.078125 75.984375 \nL 18.109375 75.984375 \nz\n\" id=\"DejaVuSans-98\"/>\n      <path d=\"M 32.171875 -5.078125 \nQ 28.375 -14.84375 24.75 -17.8125 \nQ 21.140625 -20.796875 15.09375 -20.796875 \nL 7.90625 -20.796875 \nL 7.90625 -13.28125 \nL 13.1875 -13.28125 \nQ 16.890625 -13.28125 18.9375 -11.515625 \nQ 21 -9.765625 23.484375 -3.21875 \nL 25.09375 0.875 \nL 2.984375 54.6875 \nL 12.5 54.6875 \nL 29.59375 11.921875 \nL 46.6875 54.6875 \nL 56.203125 54.6875 \nz\n\" id=\"DejaVuSans-121\"/>\n      <path d=\"M 9.8125 72.90625 \nL 24.515625 72.90625 \nL 43.109375 23.296875 \nL 61.8125 72.90625 \nL 76.515625 72.90625 \nL 76.515625 0 \nL 66.890625 0 \nL 66.890625 64.015625 \nL 48.09375 14.015625 \nL 38.1875 14.015625 \nL 19.390625 64.015625 \nL 19.390625 0 \nL 9.8125 0 \nz\n\" id=\"DejaVuSans-77\"/>\n      <path d=\"M 54.890625 33.015625 \nL 54.890625 0 \nL 45.90625 0 \nL 45.90625 32.71875 \nQ 45.90625 40.484375 42.875 44.328125 \nQ 39.84375 48.1875 33.796875 48.1875 \nQ 26.515625 48.1875 22.3125 43.546875 \nQ 18.109375 38.921875 18.109375 30.90625 \nL 18.109375 0 \nL 9.078125 0 \nL 9.078125 75.984375 \nL 18.109375 75.984375 \nL 18.109375 46.1875 \nQ 21.34375 51.125 25.703125 53.5625 \nQ 30.078125 56 35.796875 56 \nQ 45.21875 56 50.046875 50.171875 \nQ 54.890625 44.34375 54.890625 33.015625 \nz\n\" id=\"DejaVuSans-104\"/>\n      <path d=\"M 11.71875 12.40625 \nL 22.015625 12.40625 \nL 22.015625 0 \nL 11.71875 0 \nz\nM 11.71875 51.703125 \nL 22.015625 51.703125 \nL 22.015625 39.3125 \nL 11.71875 39.3125 \nz\n\" id=\"DejaVuSans-58\"/>\n      <path d=\"M 19.671875 34.8125 \nL 19.671875 8.109375 \nL 35.5 8.109375 \nQ 43.453125 8.109375 47.28125 11.40625 \nQ 51.125 14.703125 51.125 21.484375 \nQ 51.125 28.328125 47.28125 31.5625 \nQ 43.453125 34.8125 35.5 34.8125 \nz\nM 19.671875 64.796875 \nL 19.671875 42.828125 \nL 34.28125 42.828125 \nQ 41.5 42.828125 45.03125 45.53125 \nQ 48.578125 48.25 48.578125 53.8125 \nQ 48.578125 59.328125 45.03125 62.0625 \nQ 41.5 64.796875 34.28125 64.796875 \nz\nM 9.8125 72.90625 \nL 35.015625 72.90625 \nQ 46.296875 72.90625 52.390625 68.21875 \nQ 58.5 63.53125 58.5 54.890625 \nQ 58.5 48.1875 55.375 44.234375 \nQ 52.25 40.28125 46.1875 39.3125 \nQ 53.46875 37.75 57.5 32.78125 \nQ 61.53125 27.828125 61.53125 20.40625 \nQ 61.53125 10.640625 54.890625 5.3125 \nQ 48.25 0 35.984375 0 \nL 9.8125 0 \nz\n\" id=\"DejaVuSans-66\"/>\n      <path d=\"M 10.59375 45.40625 \nL 73.1875 45.40625 \nL 73.1875 37.203125 \nL 10.59375 37.203125 \nz\nM 10.59375 25.484375 \nL 73.1875 25.484375 \nL 73.1875 17.1875 \nL 10.59375 17.1875 \nz\n\" id=\"DejaVuSans-61\"/>\n      <path d=\"M 9.078125 75.984375 \nL 18.109375 75.984375 \nL 18.109375 31.109375 \nL 44.921875 54.6875 \nL 56.390625 54.6875 \nL 27.390625 29.109375 \nL 57.625 0 \nL 45.90625 0 \nL 18.109375 26.703125 \nL 18.109375 0 \nL 9.078125 0 \nz\n\" id=\"DejaVuSans-107\"/>\n     </defs>\n     <use xlink:href=\"#DejaVuSans-65\"/>\n     <use x=\"62.533203\" xlink:href=\"#DejaVuSans-118\"/>\n     <use x=\"121.712891\" xlink:href=\"#DejaVuSans-103\"/>\n     <use x=\"185.189453\" xlink:href=\"#DejaVuSans-32\"/>\n     <use x=\"216.976562\" xlink:href=\"#DejaVuSans-72\"/>\n     <use x=\"292.171875\" xlink:href=\"#DejaVuSans-111\"/>\n     <use x=\"353.353516\" xlink:href=\"#DejaVuSans-117\"/>\n     <use x=\"416.732422\" xlink:href=\"#DejaVuSans-115\"/>\n     <use x=\"468.832031\" xlink:href=\"#DejaVuSans-105\"/>\n     <use x=\"496.615234\" xlink:href=\"#DejaVuSans-110\"/>\n     <use x=\"559.994141\" xlink:href=\"#DejaVuSans-103\"/>\n     <use x=\"623.470703\" xlink:href=\"#DejaVuSans-32\"/>\n     <use x=\"655.257812\" xlink:href=\"#DejaVuSans-80\"/>\n     <use x=\"713.810547\" xlink:href=\"#DejaVuSans-114\"/>\n     <use x=\"754.923828\" xlink:href=\"#DejaVuSans-105\"/>\n     <use x=\"782.707031\" xlink:href=\"#DejaVuSans-99\"/>\n     <use x=\"837.6875\" xlink:href=\"#DejaVuSans-101\"/>\n     <use x=\"899.210938\" xlink:href=\"#DejaVuSans-32\"/>\n     <use x=\"930.998047\" xlink:href=\"#DejaVuSans-98\"/>\n     <use x=\"994.474609\" xlink:href=\"#DejaVuSans-121\"/>\n     <use x=\"1053.654297\" xlink:href=\"#DejaVuSans-32\"/>\n     <use x=\"1085.441406\" xlink:href=\"#DejaVuSans-77\"/>\n     <use x=\"1171.720703\" xlink:href=\"#DejaVuSans-111\"/>\n     <use x=\"1232.902344\" xlink:href=\"#DejaVuSans-110\"/>\n     <use x=\"1296.28125\" xlink:href=\"#DejaVuSans-116\"/>\n     <use x=\"1335.490234\" xlink:href=\"#DejaVuSans-104\"/>\n     <use x=\"1398.869141\" xlink:href=\"#DejaVuSans-58\"/>\n     <use x=\"1432.560547\" xlink:href=\"#DejaVuSans-32\"/>\n     <use x=\"1464.347656\" xlink:href=\"#DejaVuSans-66\"/>\n     <use x=\"1532.951172\" xlink:href=\"#DejaVuSans-111\"/>\n     <use x=\"1594.132812\" xlink:href=\"#DejaVuSans-114\"/>\n     <use x=\"1632.996094\" xlink:href=\"#DejaVuSans-111\"/>\n     <use x=\"1694.177734\" xlink:href=\"#DejaVuSans-117\"/>\n     <use x=\"1757.556641\" xlink:href=\"#DejaVuSans-103\"/>\n     <use x=\"1821.033203\" xlink:href=\"#DejaVuSans-104\"/>\n     <use x=\"1884.412109\" xlink:href=\"#DejaVuSans-32\"/>\n     <use x=\"1916.199219\" xlink:href=\"#DejaVuSans-61\"/>\n     <use x=\"1999.988281\" xlink:href=\"#DejaVuSans-32\"/>\n     <use x=\"2031.775391\" xlink:href=\"#DejaVuSans-72\"/>\n     <use x=\"2106.970703\" xlink:href=\"#DejaVuSans-97\"/>\n     <use x=\"2168.25\" xlink:href=\"#DejaVuSans-99\"/>\n     <use x=\"2223.230469\" xlink:href=\"#DejaVuSans-107\"/>\n     <use x=\"2281.140625\" xlink:href=\"#DejaVuSans-110\"/>\n     <use x=\"2344.519531\" xlink:href=\"#DejaVuSans-101\"/>\n     <use x=\"2406.042969\" xlink:href=\"#DejaVuSans-121\"/>\n    </g>\n   </g>\n   <g id=\"legend_1\">\n    <g id=\"patch_7\">\n     <path d=\"M 73.053125 44.99625 \nL 129.942187 44.99625 \nQ 131.942187 44.99625 131.942187 42.99625 \nL 131.942187 29.318125 \nQ 131.942187 27.318125 129.942187 27.318125 \nL 73.053125 27.318125 \nQ 71.053125 27.318125 71.053125 29.318125 \nL 71.053125 42.99625 \nQ 71.053125 44.99625 73.053125 44.99625 \nz\n\" style=\"fill:#ffffff;opacity:0.8;stroke:#cccccc;stroke-linejoin:miter;\"/>\n    </g>\n    <g id=\"line2d_35\">\n     <path d=\"M 75.053125 35.416562 \nL 95.053125 35.416562 \n\" style=\"fill:none;stroke:#1f77b4;stroke-linecap:square;stroke-width:1.5;\"/>\n    </g>\n    <g id=\"line2d_36\"/>\n    <g id=\"text_15\">\n     <!-- price -->\n     <g transform=\"translate(103.053125 38.916562)scale(0.1 -0.1)\">\n      <use xlink:href=\"#DejaVuSans-112\"/>\n      <use x=\"63.476562\" xlink:href=\"#DejaVuSans-114\"/>\n      <use x=\"104.589844\" xlink:href=\"#DejaVuSans-105\"/>\n      <use x=\"132.373047\" xlink:href=\"#DejaVuSans-99\"/>\n      <use x=\"187.353516\" xlink:href=\"#DejaVuSans-101\"/>\n     </g>\n    </g>\n   </g>\n  </g>\n </g>\n <defs>\n  <clipPath id=\"p78759a1bea\">\n   <rect height=\"217.44\" width=\"334.8\" x=\"66.053125\" y=\"22.318125\"/>\n  </clipPath>\n </defs>\n</svg>\n",
      "text/plain": [
       "<Figure size 432x288 with 1 Axes>"
      ]
     },
     "metadata": {
      "needs_background": "light"
     }
    }
   ],
   "metadata": {
    "colab": {},
    "colab_type": "code",
    "id": "nAg5pT9cqHAR"
   }
  },
  {
   "cell_type": "markdown",
   "source": [
    "To limit the number of data points you have, you might want to extract the year from every month value your *Month* column. \n",
    "\n",
    "To this end, you *could* apply a ***lambda function***. Your logic could work as follows:\n",
    "1. look through the `Month` column\n",
    "2. extract the year from each individual value in that column \n",
    "3. store that corresponding year as separate column. \n",
    "\n",
    "Whether you go ahead with this is up to you. Just so long as you answer our initial brief: which boroughs of London have seen the greatest house price increase, on average, over the past two decades? "
   ],
   "metadata": {
    "colab_type": "text",
    "id": "aWTPqSJeqHnC"
   }
  },
  {
   "cell_type": "code",
   "execution_count": 90,
   "source": [
    "# I've been practicing the method chaining approach, don't mind me!\n",
    "(p_df\n",
    "    .assign(year=lambda x: x['date'].dt.year)\n",
    "    .drop_duplicates(subset=['borough', 'year'])\n",
    "    .loc[p_df['borough'] == plot_borough, :]\n",
    "    .plot(x='year', y='price')\n",
    ")\n",
    "plt.title(f\"Avg Housing Price by Year: Borough = {plot_borough}\")\n",
    "plt.xlabel(\"Year\")\n",
    "plt.ylabel(\"Avg price in pounds\")"
   ],
   "outputs": [
    {
     "output_type": "execute_result",
     "data": {
      "text/plain": [
       "Text(0, 0.5, 'Avg price in pounds')"
      ]
     },
     "metadata": {},
     "execution_count": 90
    },
    {
     "output_type": "display_data",
     "data": {
      "image/png": "[encoded data removed]",
      "image/svg+xml": "<?xml version=\"1.0\" encoding=\"utf-8\" standalone=\"no\"?>\n<!DOCTYPE svg PUBLIC \"-//W3C//DTD SVG 1.1//EN\"\n  \"http://www.w3.org/Graphics/SVG/1.1/DTD/svg11.dtd\">\n<!-- Created with matplotlib (https://matplotlib.org/) -->\n<svg height=\"277.314375pt\" version=\"1.1\" viewBox=\"0 0 408.053125 277.314375\" width=\"408.053125pt\" xmlns=\"http://www.w3.org/2000/svg\" xmlns:xlink=\"http://www.w3.org/1999/xlink\">\n <metadata>\n  <rdf:RDF xmlns:cc=\"http://creativecommons.org/ns#\" xmlns:dc=\"http://purl.org/dc/elements/1.1/\" xmlns:rdf=\"http://www.w3.org/1999/02/22-rdf-syntax-ns#\">\n   <cc:Work>\n    <dc:type rdf:resource=\"http://purl.org/dc/dcmitype/StillImage\"/>\n    <dc:date>2021-09-03T13:06:50.032708</dc:date>\n    <dc:format>image/svg+xml</dc:format>\n    <dc:creator>\n     <cc:Agent>\n      <dc:title>Matplotlib v3.3.4, https://matplotlib.org/</dc:title>\n     </cc:Agent>\n    </dc:creator>\n   </cc:Work>\n  </rdf:RDF>\n </metadata>\n <defs>\n  <style type=\"text/css\">*{stroke-linecap:butt;stroke-linejoin:round;}</style>\n </defs>\n <g id=\"figure_1\">\n  <g id=\"patch_1\">\n   <path d=\"M 0 277.314375 \nL 408.053125 277.314375 \nL 408.053125 0 \nL 0 0 \nz\n\" style=\"fill:none;\"/>\n  </g>\n  <g id=\"axes_1\">\n   <g id=\"patch_2\">\n    <path d=\"M 66.053125 239.758125 \nL 400.853125 239.758125 \nL 400.853125 22.318125 \nL 66.053125 22.318125 \nz\n\" style=\"fill:#ffffff;\"/>\n   </g>\n   <g id=\"matplotlib.axis_1\">\n    <g id=\"xtick_1\">\n     <g id=\"line2d_1\">\n      <defs>\n       <path d=\"M 0 0 \nL 0 3.5 \n\" id=\"macb9f04dbe\" style=\"stroke:#000000;stroke-width:0.8;\"/>\n      </defs>\n      <g>\n       <use style=\"stroke:#000000;stroke-width:0.8;\" x=\"81.271307\" xlink:href=\"#macb9f04dbe\" y=\"239.758125\"/>\n      </g>\n     </g>\n     <g id=\"text_1\">\n      <!-- 1995 -->\n      <g transform=\"translate(68.546307 254.356562)scale(0.1 -0.1)\">\n       <defs>\n        <path d=\"M 12.40625 8.296875 \nL 28.515625 8.296875 \nL 28.515625 63.921875 \nL 10.984375 60.40625 \nL 10.984375 69.390625 \nL 28.421875 72.90625 \nL 38.28125 72.90625 \nL 38.28125 8.296875 \nL 54.390625 8.296875 \nL 54.390625 0 \nL 12.40625 0 \nz\n\" id=\"DejaVuSans-49\"/>\n        <path d=\"M 10.984375 1.515625 \nL 10.984375 10.5 \nQ 14.703125 8.734375 18.5 7.8125 \nQ 22.3125 6.890625 25.984375 6.890625 \nQ 35.75 6.890625 40.890625 13.453125 \nQ 46.046875 20.015625 46.78125 33.40625 \nQ 43.953125 29.203125 39.59375 26.953125 \nQ 35.25 24.703125 29.984375 24.703125 \nQ 19.046875 24.703125 12.671875 31.3125 \nQ 6.296875 37.9375 6.296875 49.421875 \nQ 6.296875 60.640625 12.9375 67.421875 \nQ 19.578125 74.21875 30.609375 74.21875 \nQ 43.265625 74.21875 49.921875 64.515625 \nQ 56.59375 54.828125 56.59375 36.375 \nQ 56.59375 19.140625 48.40625 8.859375 \nQ 40.234375 -1.421875 26.421875 -1.421875 \nQ 22.703125 -1.421875 18.890625 -0.6875 \nQ 15.09375 0.046875 10.984375 1.515625 \nz\nM 30.609375 32.421875 \nQ 37.25 32.421875 41.125 36.953125 \nQ 45.015625 41.5 45.015625 49.421875 \nQ 45.015625 57.28125 41.125 61.84375 \nQ 37.25 66.40625 30.609375 66.40625 \nQ 23.96875 66.40625 20.09375 61.84375 \nQ 16.21875 57.28125 16.21875 49.421875 \nQ 16.21875 41.5 20.09375 36.953125 \nQ 23.96875 32.421875 30.609375 32.421875 \nz\n\" id=\"DejaVuSans-57\"/>\n        <path d=\"M 10.796875 72.90625 \nL 49.515625 72.90625 \nL 49.515625 64.59375 \nL 19.828125 64.59375 \nL 19.828125 46.734375 \nQ 21.96875 47.46875 24.109375 47.828125 \nQ 26.265625 48.1875 28.421875 48.1875 \nQ 40.625 48.1875 47.75 41.5 \nQ 54.890625 34.8125 54.890625 23.390625 \nQ 54.890625 11.625 47.5625 5.09375 \nQ 40.234375 -1.421875 26.90625 -1.421875 \nQ 22.3125 -1.421875 17.546875 -0.640625 \nQ 12.796875 0.140625 7.71875 1.703125 \nL 7.71875 11.625 \nQ 12.109375 9.234375 16.796875 8.0625 \nQ 21.484375 6.890625 26.703125 6.890625 \nQ 35.15625 6.890625 40.078125 11.328125 \nQ 45.015625 15.765625 45.015625 23.390625 \nQ 45.015625 31 40.078125 35.4375 \nQ 35.15625 39.890625 26.703125 39.890625 \nQ 22.75 39.890625 18.8125 39.015625 \nQ 14.890625 38.140625 10.796875 36.28125 \nz\n\" id=\"DejaVuSans-53\"/>\n       </defs>\n       <use xlink:href=\"#DejaVuSans-49\"/>\n       <use x=\"63.623047\" xlink:href=\"#DejaVuSans-57\"/>\n       <use x=\"127.246094\" xlink:href=\"#DejaVuSans-57\"/>\n       <use x=\"190.869141\" xlink:href=\"#DejaVuSans-53\"/>\n      </g>\n     </g>\n    </g>\n    <g id=\"xtick_2\">\n     <g id=\"line2d_2\">\n      <g>\n       <use style=\"stroke:#000000;stroke-width:0.8;\" x=\"139.802775\" xlink:href=\"#macb9f04dbe\" y=\"239.758125\"/>\n      </g>\n     </g>\n     <g id=\"text_2\">\n      <!-- 2000 -->\n      <g transform=\"translate(127.077775 254.356562)scale(0.1 -0.1)\">\n       <defs>\n        <path d=\"M 19.1875 8.296875 \nL 53.609375 8.296875 \nL 53.609375 0 \nL 7.328125 0 \nL 7.328125 8.296875 \nQ 12.9375 14.109375 22.625 23.890625 \nQ 32.328125 33.6875 34.8125 36.53125 \nQ 39.546875 41.84375 41.421875 45.53125 \nQ 43.3125 49.21875 43.3125 52.78125 \nQ 43.3125 58.59375 39.234375 62.25 \nQ 35.15625 65.921875 28.609375 65.921875 \nQ 23.96875 65.921875 18.8125 64.3125 \nQ 13.671875 62.703125 7.8125 59.421875 \nL 7.8125 69.390625 \nQ 13.765625 71.78125 18.9375 73 \nQ 24.125 74.21875 28.421875 74.21875 \nQ 39.75 74.21875 46.484375 68.546875 \nQ 53.21875 62.890625 53.21875 53.421875 \nQ 53.21875 48.921875 51.53125 44.890625 \nQ 49.859375 40.875 45.40625 35.40625 \nQ 44.1875 33.984375 37.640625 27.21875 \nQ 31.109375 20.453125 19.1875 8.296875 \nz\n\" id=\"DejaVuSans-50\"/>\n        <path d=\"M 31.78125 66.40625 \nQ 24.171875 66.40625 20.328125 58.90625 \nQ 16.5 51.421875 16.5 36.375 \nQ 16.5 21.390625 20.328125 13.890625 \nQ 24.171875 6.390625 31.78125 6.390625 \nQ 39.453125 6.390625 43.28125 13.890625 \nQ 47.125 21.390625 47.125 36.375 \nQ 47.125 51.421875 43.28125 58.90625 \nQ 39.453125 66.40625 31.78125 66.40625 \nz\nM 31.78125 74.21875 \nQ 44.046875 74.21875 50.515625 64.515625 \nQ 56.984375 54.828125 56.984375 36.375 \nQ 56.984375 17.96875 50.515625 8.265625 \nQ 44.046875 -1.421875 31.78125 -1.421875 \nQ 19.53125 -1.421875 13.0625 8.265625 \nQ 6.59375 17.96875 6.59375 36.375 \nQ 6.59375 54.828125 13.0625 64.515625 \nQ 19.53125 74.21875 31.78125 74.21875 \nz\n\" id=\"DejaVuSans-48\"/>\n       </defs>\n       <use xlink:href=\"#DejaVuSans-50\"/>\n       <use x=\"63.623047\" xlink:href=\"#DejaVuSans-48\"/>\n       <use x=\"127.246094\" xlink:href=\"#DejaVuSans-48\"/>\n       <use x=\"190.869141\" xlink:href=\"#DejaVuSans-48\"/>\n      </g>\n     </g>\n    </g>\n    <g id=\"xtick_3\">\n     <g id=\"line2d_3\">\n      <g>\n       <use style=\"stroke:#000000;stroke-width:0.8;\" x=\"198.334244\" xlink:href=\"#macb9f04dbe\" y=\"239.758125\"/>\n      </g>\n     </g>\n     <g id=\"text_3\">\n      <!-- 2005 -->\n      <g transform=\"translate(185.609244 254.356562)scale(0.1 -0.1)\">\n       <use xlink:href=\"#DejaVuSans-50\"/>\n       <use x=\"63.623047\" xlink:href=\"#DejaVuSans-48\"/>\n       <use x=\"127.246094\" xlink:href=\"#DejaVuSans-48\"/>\n       <use x=\"190.869141\" xlink:href=\"#DejaVuSans-53\"/>\n      </g>\n     </g>\n    </g>\n    <g id=\"xtick_4\">\n     <g id=\"line2d_4\">\n      <g>\n       <use style=\"stroke:#000000;stroke-width:0.8;\" x=\"256.865712\" xlink:href=\"#macb9f04dbe\" y=\"239.758125\"/>\n      </g>\n     </g>\n     <g id=\"text_4\">\n      <!-- 2010 -->\n      <g transform=\"translate(244.140712 254.356562)scale(0.1 -0.1)\">\n       <use xlink:href=\"#DejaVuSans-50\"/>\n       <use x=\"63.623047\" xlink:href=\"#DejaVuSans-48\"/>\n       <use x=\"127.246094\" xlink:href=\"#DejaVuSans-49\"/>\n       <use x=\"190.869141\" xlink:href=\"#DejaVuSans-48\"/>\n      </g>\n     </g>\n    </g>\n    <g id=\"xtick_5\">\n     <g id=\"line2d_5\">\n      <g>\n       <use style=\"stroke:#000000;stroke-width:0.8;\" x=\"315.397181\" xlink:href=\"#macb9f04dbe\" y=\"239.758125\"/>\n      </g>\n     </g>\n     <g id=\"text_5\">\n      <!-- 2015 -->\n      <g transform=\"translate(302.672181 254.356562)scale(0.1 -0.1)\">\n       <use xlink:href=\"#DejaVuSans-50\"/>\n       <use x=\"63.623047\" xlink:href=\"#DejaVuSans-48\"/>\n       <use x=\"127.246094\" xlink:href=\"#DejaVuSans-49\"/>\n       <use x=\"190.869141\" xlink:href=\"#DejaVuSans-53\"/>\n      </g>\n     </g>\n    </g>\n    <g id=\"xtick_6\">\n     <g id=\"line2d_6\">\n      <g>\n       <use style=\"stroke:#000000;stroke-width:0.8;\" x=\"373.928649\" xlink:href=\"#macb9f04dbe\" y=\"239.758125\"/>\n      </g>\n     </g>\n     <g id=\"text_6\">\n      <!-- 2020 -->\n      <g transform=\"translate(361.203649 254.356562)scale(0.1 -0.1)\">\n       <use xlink:href=\"#DejaVuSans-50\"/>\n       <use x=\"63.623047\" xlink:href=\"#DejaVuSans-48\"/>\n       <use x=\"127.246094\" xlink:href=\"#DejaVuSans-50\"/>\n       <use x=\"190.869141\" xlink:href=\"#DejaVuSans-48\"/>\n      </g>\n     </g>\n    </g>\n    <g id=\"text_7\">\n     <!-- Year -->\n     <g transform=\"translate(222.865625 268.034687)scale(0.1 -0.1)\">\n      <defs>\n       <path d=\"M -0.203125 72.90625 \nL 10.40625 72.90625 \nL 30.609375 42.921875 \nL 50.6875 72.90625 \nL 61.28125 72.90625 \nL 35.5 34.71875 \nL 35.5 0 \nL 25.59375 0 \nL 25.59375 34.71875 \nz\n\" id=\"DejaVuSans-89\"/>\n       <path d=\"M 56.203125 29.59375 \nL 56.203125 25.203125 \nL 14.890625 25.203125 \nQ 15.484375 15.921875 20.484375 11.0625 \nQ 25.484375 6.203125 34.421875 6.203125 \nQ 39.59375 6.203125 44.453125 7.46875 \nQ 49.3125 8.734375 54.109375 11.28125 \nL 54.109375 2.78125 \nQ 49.265625 0.734375 44.1875 -0.34375 \nQ 39.109375 -1.421875 33.890625 -1.421875 \nQ 20.796875 -1.421875 13.15625 6.1875 \nQ 5.515625 13.8125 5.515625 26.8125 \nQ 5.515625 40.234375 12.765625 48.109375 \nQ 20.015625 56 32.328125 56 \nQ 43.359375 56 49.78125 48.890625 \nQ 56.203125 41.796875 56.203125 29.59375 \nz\nM 47.21875 32.234375 \nQ 47.125 39.59375 43.09375 43.984375 \nQ 39.0625 48.390625 32.421875 48.390625 \nQ 24.90625 48.390625 20.390625 44.140625 \nQ 15.875 39.890625 15.1875 32.171875 \nz\n\" id=\"DejaVuSans-101\"/>\n       <path d=\"M 34.28125 27.484375 \nQ 23.390625 27.484375 19.1875 25 \nQ 14.984375 22.515625 14.984375 16.5 \nQ 14.984375 11.71875 18.140625 8.90625 \nQ 21.296875 6.109375 26.703125 6.109375 \nQ 34.1875 6.109375 38.703125 11.40625 \nQ 43.21875 16.703125 43.21875 25.484375 \nL 43.21875 27.484375 \nz\nM 52.203125 31.203125 \nL 52.203125 0 \nL 43.21875 0 \nL 43.21875 8.296875 \nQ 40.140625 3.328125 35.546875 0.953125 \nQ 30.953125 -1.421875 24.3125 -1.421875 \nQ 15.921875 -1.421875 10.953125 3.296875 \nQ 6 8.015625 6 15.921875 \nQ 6 25.140625 12.171875 29.828125 \nQ 18.359375 34.515625 30.609375 34.515625 \nL 43.21875 34.515625 \nL 43.21875 35.40625 \nQ 43.21875 41.609375 39.140625 45 \nQ 35.0625 48.390625 27.6875 48.390625 \nQ 23 48.390625 18.546875 47.265625 \nQ 14.109375 46.140625 10.015625 43.890625 \nL 10.015625 52.203125 \nQ 14.9375 54.109375 19.578125 55.046875 \nQ 24.21875 56 28.609375 56 \nQ 40.484375 56 46.34375 49.84375 \nQ 52.203125 43.703125 52.203125 31.203125 \nz\n\" id=\"DejaVuSans-97\"/>\n       <path d=\"M 41.109375 46.296875 \nQ 39.59375 47.171875 37.8125 47.578125 \nQ 36.03125 48 33.890625 48 \nQ 26.265625 48 22.1875 43.046875 \nQ 18.109375 38.09375 18.109375 28.8125 \nL 18.109375 0 \nL 9.078125 0 \nL 9.078125 54.6875 \nL 18.109375 54.6875 \nL 18.109375 46.1875 \nQ 20.953125 51.171875 25.484375 53.578125 \nQ 30.03125 56 36.53125 56 \nQ 37.453125 56 38.578125 55.875 \nQ 39.703125 55.765625 41.0625 55.515625 \nz\n\" id=\"DejaVuSans-114\"/>\n      </defs>\n      <use xlink:href=\"#DejaVuSans-89\"/>\n      <use x=\"47.833984\" xlink:href=\"#DejaVuSans-101\"/>\n      <use x=\"109.357422\" xlink:href=\"#DejaVuSans-97\"/>\n      <use x=\"170.636719\" xlink:href=\"#DejaVuSans-114\"/>\n     </g>\n    </g>\n   </g>\n   <g id=\"matplotlib.axis_2\">\n    <g id=\"ytick_1\">\n     <g id=\"line2d_7\">\n      <defs>\n       <path d=\"M 0 0 \nL -3.5 0 \n\" id=\"m72523e2636\" style=\"stroke:#000000;stroke-width:0.8;\"/>\n      </defs>\n      <g>\n       <use style=\"stroke:#000000;stroke-width:0.8;\" x=\"66.053125\" xlink:href=\"#m72523e2636\" y=\"215.53983\"/>\n      </g>\n     </g>\n     <g id=\"text_8\">\n      <!-- 100000 -->\n      <g transform=\"translate(20.878125 219.339049)scale(0.1 -0.1)\">\n       <use xlink:href=\"#DejaVuSans-49\"/>\n       <use x=\"63.623047\" xlink:href=\"#DejaVuSans-48\"/>\n       <use x=\"127.246094\" xlink:href=\"#DejaVuSans-48\"/>\n       <use x=\"190.869141\" xlink:href=\"#DejaVuSans-48\"/>\n       <use x=\"254.492188\" xlink:href=\"#DejaVuSans-48\"/>\n       <use x=\"318.115234\" xlink:href=\"#DejaVuSans-48\"/>\n      </g>\n     </g>\n    </g>\n    <g id=\"ytick_2\">\n     <g id=\"line2d_8\">\n      <g>\n       <use style=\"stroke:#000000;stroke-width:0.8;\" x=\"66.053125\" xlink:href=\"#m72523e2636\" y=\"178.502695\"/>\n      </g>\n     </g>\n     <g id=\"text_9\">\n      <!-- 200000 -->\n      <g transform=\"translate(20.878125 182.301913)scale(0.1 -0.1)\">\n       <use xlink:href=\"#DejaVuSans-50\"/>\n       <use x=\"63.623047\" xlink:href=\"#DejaVuSans-48\"/>\n       <use x=\"127.246094\" xlink:href=\"#DejaVuSans-48\"/>\n       <use x=\"190.869141\" xlink:href=\"#DejaVuSans-48\"/>\n       <use x=\"254.492188\" xlink:href=\"#DejaVuSans-48\"/>\n       <use x=\"318.115234\" xlink:href=\"#DejaVuSans-48\"/>\n      </g>\n     </g>\n    </g>\n    <g id=\"ytick_3\">\n     <g id=\"line2d_9\">\n      <g>\n       <use style=\"stroke:#000000;stroke-width:0.8;\" x=\"66.053125\" xlink:href=\"#m72523e2636\" y=\"141.465559\"/>\n      </g>\n     </g>\n     <g id=\"text_10\">\n      <!-- 300000 -->\n      <g transform=\"translate(20.878125 145.264777)scale(0.1 -0.1)\">\n       <defs>\n        <path d=\"M 40.578125 39.3125 \nQ 47.65625 37.796875 51.625 33 \nQ 55.609375 28.21875 55.609375 21.1875 \nQ 55.609375 10.40625 48.1875 4.484375 \nQ 40.765625 -1.421875 27.09375 -1.421875 \nQ 22.515625 -1.421875 17.65625 -0.515625 \nQ 12.796875 0.390625 7.625 2.203125 \nL 7.625 11.71875 \nQ 11.71875 9.328125 16.59375 8.109375 \nQ 21.484375 6.890625 26.8125 6.890625 \nQ 36.078125 6.890625 40.9375 10.546875 \nQ 45.796875 14.203125 45.796875 21.1875 \nQ 45.796875 27.640625 41.28125 31.265625 \nQ 36.765625 34.90625 28.71875 34.90625 \nL 20.21875 34.90625 \nL 20.21875 43.015625 \nL 29.109375 43.015625 \nQ 36.375 43.015625 40.234375 45.921875 \nQ 44.09375 48.828125 44.09375 54.296875 \nQ 44.09375 59.90625 40.109375 62.90625 \nQ 36.140625 65.921875 28.71875 65.921875 \nQ 24.65625 65.921875 20.015625 65.03125 \nQ 15.375 64.15625 9.8125 62.3125 \nL 9.8125 71.09375 \nQ 15.4375 72.65625 20.34375 73.4375 \nQ 25.25 74.21875 29.59375 74.21875 \nQ 40.828125 74.21875 47.359375 69.109375 \nQ 53.90625 64.015625 53.90625 55.328125 \nQ 53.90625 49.265625 50.4375 45.09375 \nQ 46.96875 40.921875 40.578125 39.3125 \nz\n\" id=\"DejaVuSans-51\"/>\n       </defs>\n       <use xlink:href=\"#DejaVuSans-51\"/>\n       <use x=\"63.623047\" xlink:href=\"#DejaVuSans-48\"/>\n       <use x=\"127.246094\" xlink:href=\"#DejaVuSans-48\"/>\n       <use x=\"190.869141\" xlink:href=\"#DejaVuSans-48\"/>\n       <use x=\"254.492188\" xlink:href=\"#DejaVuSans-48\"/>\n       <use x=\"318.115234\" xlink:href=\"#DejaVuSans-48\"/>\n      </g>\n     </g>\n    </g>\n    <g id=\"ytick_4\">\n     <g id=\"line2d_10\">\n      <g>\n       <use style=\"stroke:#000000;stroke-width:0.8;\" x=\"66.053125\" xlink:href=\"#m72523e2636\" y=\"104.428423\"/>\n      </g>\n     </g>\n     <g id=\"text_11\">\n      <!-- 400000 -->\n      <g transform=\"translate(20.878125 108.227641)scale(0.1 -0.1)\">\n       <defs>\n        <path d=\"M 37.796875 64.3125 \nL 12.890625 25.390625 \nL 37.796875 25.390625 \nz\nM 35.203125 72.90625 \nL 47.609375 72.90625 \nL 47.609375 25.390625 \nL 58.015625 25.390625 \nL 58.015625 17.1875 \nL 47.609375 17.1875 \nL 47.609375 0 \nL 37.796875 0 \nL 37.796875 17.1875 \nL 4.890625 17.1875 \nL 4.890625 26.703125 \nz\n\" id=\"DejaVuSans-52\"/>\n       </defs>\n       <use xlink:href=\"#DejaVuSans-52\"/>\n       <use x=\"63.623047\" xlink:href=\"#DejaVuSans-48\"/>\n       <use x=\"127.246094\" xlink:href=\"#DejaVuSans-48\"/>\n       <use x=\"190.869141\" xlink:href=\"#DejaVuSans-48\"/>\n       <use x=\"254.492188\" xlink:href=\"#DejaVuSans-48\"/>\n       <use x=\"318.115234\" xlink:href=\"#DejaVuSans-48\"/>\n      </g>\n     </g>\n    </g>\n    <g id=\"ytick_5\">\n     <g id=\"line2d_11\">\n      <g>\n       <use style=\"stroke:#000000;stroke-width:0.8;\" x=\"66.053125\" xlink:href=\"#m72523e2636\" y=\"67.391287\"/>\n      </g>\n     </g>\n     <g id=\"text_12\">\n      <!-- 500000 -->\n      <g transform=\"translate(20.878125 71.190505)scale(0.1 -0.1)\">\n       <use xlink:href=\"#DejaVuSans-53\"/>\n       <use x=\"63.623047\" xlink:href=\"#DejaVuSans-48\"/>\n       <use x=\"127.246094\" xlink:href=\"#DejaVuSans-48\"/>\n       <use x=\"190.869141\" xlink:href=\"#DejaVuSans-48\"/>\n       <use x=\"254.492188\" xlink:href=\"#DejaVuSans-48\"/>\n       <use x=\"318.115234\" xlink:href=\"#DejaVuSans-48\"/>\n      </g>\n     </g>\n    </g>\n    <g id=\"ytick_6\">\n     <g id=\"line2d_12\">\n      <g>\n       <use style=\"stroke:#000000;stroke-width:0.8;\" x=\"66.053125\" xlink:href=\"#m72523e2636\" y=\"30.354151\"/>\n      </g>\n     </g>\n     <g id=\"text_13\">\n      <!-- 600000 -->\n      <g transform=\"translate(20.878125 34.153369)scale(0.1 -0.1)\">\n       <defs>\n        <path d=\"M 33.015625 40.375 \nQ 26.375 40.375 22.484375 35.828125 \nQ 18.609375 31.296875 18.609375 23.390625 \nQ 18.609375 15.53125 22.484375 10.953125 \nQ 26.375 6.390625 33.015625 6.390625 \nQ 39.65625 6.390625 43.53125 10.953125 \nQ 47.40625 15.53125 47.40625 23.390625 \nQ 47.40625 31.296875 43.53125 35.828125 \nQ 39.65625 40.375 33.015625 40.375 \nz\nM 52.59375 71.296875 \nL 52.59375 62.3125 \nQ 48.875 64.0625 45.09375 64.984375 \nQ 41.3125 65.921875 37.59375 65.921875 \nQ 27.828125 65.921875 22.671875 59.328125 \nQ 17.53125 52.734375 16.796875 39.40625 \nQ 19.671875 43.65625 24.015625 45.921875 \nQ 28.375 48.1875 33.59375 48.1875 \nQ 44.578125 48.1875 50.953125 41.515625 \nQ 57.328125 34.859375 57.328125 23.390625 \nQ 57.328125 12.15625 50.6875 5.359375 \nQ 44.046875 -1.421875 33.015625 -1.421875 \nQ 20.359375 -1.421875 13.671875 8.265625 \nQ 6.984375 17.96875 6.984375 36.375 \nQ 6.984375 53.65625 15.1875 63.9375 \nQ 23.390625 74.21875 37.203125 74.21875 \nQ 40.921875 74.21875 44.703125 73.484375 \nQ 48.484375 72.75 52.59375 71.296875 \nz\n\" id=\"DejaVuSans-54\"/>\n       </defs>\n       <use xlink:href=\"#DejaVuSans-54\"/>\n       <use x=\"63.623047\" xlink:href=\"#DejaVuSans-48\"/>\n       <use x=\"127.246094\" xlink:href=\"#DejaVuSans-48\"/>\n       <use x=\"190.869141\" xlink:href=\"#DejaVuSans-48\"/>\n       <use x=\"254.492188\" xlink:href=\"#DejaVuSans-48\"/>\n       <use x=\"318.115234\" xlink:href=\"#DejaVuSans-48\"/>\n      </g>\n     </g>\n    </g>\n    <g id=\"text_14\">\n     <!-- Avg price in pounds -->\n     <g transform=\"translate(14.798438 180.417812)rotate(-90)scale(0.1 -0.1)\">\n      <defs>\n       <path d=\"M 34.1875 63.1875 \nL 20.796875 26.90625 \nL 47.609375 26.90625 \nz\nM 28.609375 72.90625 \nL 39.796875 72.90625 \nL 67.578125 0 \nL 57.328125 0 \nL 50.6875 18.703125 \nL 17.828125 18.703125 \nL 11.1875 0 \nL 0.78125 0 \nz\n\" id=\"DejaVuSans-65\"/>\n       <path d=\"M 2.984375 54.6875 \nL 12.5 54.6875 \nL 29.59375 8.796875 \nL 46.6875 54.6875 \nL 56.203125 54.6875 \nL 35.6875 0 \nL 23.484375 0 \nz\n\" id=\"DejaVuSans-118\"/>\n       <path d=\"M 45.40625 27.984375 \nQ 45.40625 37.75 41.375 43.109375 \nQ 37.359375 48.484375 30.078125 48.484375 \nQ 22.859375 48.484375 18.828125 43.109375 \nQ 14.796875 37.75 14.796875 27.984375 \nQ 14.796875 18.265625 18.828125 12.890625 \nQ 22.859375 7.515625 30.078125 7.515625 \nQ 37.359375 7.515625 41.375 12.890625 \nQ 45.40625 18.265625 45.40625 27.984375 \nz\nM 54.390625 6.78125 \nQ 54.390625 -7.171875 48.1875 -13.984375 \nQ 42 -20.796875 29.203125 -20.796875 \nQ 24.46875 -20.796875 20.265625 -20.09375 \nQ 16.0625 -19.390625 12.109375 -17.921875 \nL 12.109375 -9.1875 \nQ 16.0625 -11.328125 19.921875 -12.34375 \nQ 23.78125 -13.375 27.78125 -13.375 \nQ 36.625 -13.375 41.015625 -8.765625 \nQ 45.40625 -4.15625 45.40625 5.171875 \nL 45.40625 9.625 \nQ 42.625 4.78125 38.28125 2.390625 \nQ 33.9375 0 27.875 0 \nQ 17.828125 0 11.671875 7.65625 \nQ 5.515625 15.328125 5.515625 27.984375 \nQ 5.515625 40.671875 11.671875 48.328125 \nQ 17.828125 56 27.875 56 \nQ 33.9375 56 38.28125 53.609375 \nQ 42.625 51.21875 45.40625 46.390625 \nL 45.40625 54.6875 \nL 54.390625 54.6875 \nz\n\" id=\"DejaVuSans-103\"/>\n       <path id=\"DejaVuSans-32\"/>\n       <path d=\"M 18.109375 8.203125 \nL 18.109375 -20.796875 \nL 9.078125 -20.796875 \nL 9.078125 54.6875 \nL 18.109375 54.6875 \nL 18.109375 46.390625 \nQ 20.953125 51.265625 25.265625 53.625 \nQ 29.59375 56 35.59375 56 \nQ 45.5625 56 51.78125 48.09375 \nQ 58.015625 40.1875 58.015625 27.296875 \nQ 58.015625 14.40625 51.78125 6.484375 \nQ 45.5625 -1.421875 35.59375 -1.421875 \nQ 29.59375 -1.421875 25.265625 0.953125 \nQ 20.953125 3.328125 18.109375 8.203125 \nz\nM 48.6875 27.296875 \nQ 48.6875 37.203125 44.609375 42.84375 \nQ 40.53125 48.484375 33.40625 48.484375 \nQ 26.265625 48.484375 22.1875 42.84375 \nQ 18.109375 37.203125 18.109375 27.296875 \nQ 18.109375 17.390625 22.1875 11.75 \nQ 26.265625 6.109375 33.40625 6.109375 \nQ 40.53125 6.109375 44.609375 11.75 \nQ 48.6875 17.390625 48.6875 27.296875 \nz\n\" id=\"DejaVuSans-112\"/>\n       <path d=\"M 9.421875 54.6875 \nL 18.40625 54.6875 \nL 18.40625 0 \nL 9.421875 0 \nz\nM 9.421875 75.984375 \nL 18.40625 75.984375 \nL 18.40625 64.59375 \nL 9.421875 64.59375 \nz\n\" id=\"DejaVuSans-105\"/>\n       <path d=\"M 48.78125 52.59375 \nL 48.78125 44.1875 \nQ 44.96875 46.296875 41.140625 47.34375 \nQ 37.3125 48.390625 33.40625 48.390625 \nQ 24.65625 48.390625 19.8125 42.84375 \nQ 14.984375 37.3125 14.984375 27.296875 \nQ 14.984375 17.28125 19.8125 11.734375 \nQ 24.65625 6.203125 33.40625 6.203125 \nQ 37.3125 6.203125 41.140625 7.25 \nQ 44.96875 8.296875 48.78125 10.40625 \nL 48.78125 2.09375 \nQ 45.015625 0.34375 40.984375 -0.53125 \nQ 36.96875 -1.421875 32.421875 -1.421875 \nQ 20.0625 -1.421875 12.78125 6.34375 \nQ 5.515625 14.109375 5.515625 27.296875 \nQ 5.515625 40.671875 12.859375 48.328125 \nQ 20.21875 56 33.015625 56 \nQ 37.15625 56 41.109375 55.140625 \nQ 45.0625 54.296875 48.78125 52.59375 \nz\n\" id=\"DejaVuSans-99\"/>\n       <path d=\"M 54.890625 33.015625 \nL 54.890625 0 \nL 45.90625 0 \nL 45.90625 32.71875 \nQ 45.90625 40.484375 42.875 44.328125 \nQ 39.84375 48.1875 33.796875 48.1875 \nQ 26.515625 48.1875 22.3125 43.546875 \nQ 18.109375 38.921875 18.109375 30.90625 \nL 18.109375 0 \nL 9.078125 0 \nL 9.078125 54.6875 \nL 18.109375 54.6875 \nL 18.109375 46.1875 \nQ 21.34375 51.125 25.703125 53.5625 \nQ 30.078125 56 35.796875 56 \nQ 45.21875 56 50.046875 50.171875 \nQ 54.890625 44.34375 54.890625 33.015625 \nz\n\" id=\"DejaVuSans-110\"/>\n       <path d=\"M 30.609375 48.390625 \nQ 23.390625 48.390625 19.1875 42.75 \nQ 14.984375 37.109375 14.984375 27.296875 \nQ 14.984375 17.484375 19.15625 11.84375 \nQ 23.34375 6.203125 30.609375 6.203125 \nQ 37.796875 6.203125 41.984375 11.859375 \nQ 46.1875 17.53125 46.1875 27.296875 \nQ 46.1875 37.015625 41.984375 42.703125 \nQ 37.796875 48.390625 30.609375 48.390625 \nz\nM 30.609375 56 \nQ 42.328125 56 49.015625 48.375 \nQ 55.71875 40.765625 55.71875 27.296875 \nQ 55.71875 13.875 49.015625 6.21875 \nQ 42.328125 -1.421875 30.609375 -1.421875 \nQ 18.84375 -1.421875 12.171875 6.21875 \nQ 5.515625 13.875 5.515625 27.296875 \nQ 5.515625 40.765625 12.171875 48.375 \nQ 18.84375 56 30.609375 56 \nz\n\" id=\"DejaVuSans-111\"/>\n       <path d=\"M 8.5 21.578125 \nL 8.5 54.6875 \nL 17.484375 54.6875 \nL 17.484375 21.921875 \nQ 17.484375 14.15625 20.5 10.265625 \nQ 23.53125 6.390625 29.59375 6.390625 \nQ 36.859375 6.390625 41.078125 11.03125 \nQ 45.3125 15.671875 45.3125 23.6875 \nL 45.3125 54.6875 \nL 54.296875 54.6875 \nL 54.296875 0 \nL 45.3125 0 \nL 45.3125 8.40625 \nQ 42.046875 3.421875 37.71875 1 \nQ 33.40625 -1.421875 27.6875 -1.421875 \nQ 18.265625 -1.421875 13.375 4.4375 \nQ 8.5 10.296875 8.5 21.578125 \nz\nM 31.109375 56 \nz\n\" id=\"DejaVuSans-117\"/>\n       <path d=\"M 45.40625 46.390625 \nL 45.40625 75.984375 \nL 54.390625 75.984375 \nL 54.390625 0 \nL 45.40625 0 \nL 45.40625 8.203125 \nQ 42.578125 3.328125 38.25 0.953125 \nQ 33.9375 -1.421875 27.875 -1.421875 \nQ 17.96875 -1.421875 11.734375 6.484375 \nQ 5.515625 14.40625 5.515625 27.296875 \nQ 5.515625 40.1875 11.734375 48.09375 \nQ 17.96875 56 27.875 56 \nQ 33.9375 56 38.25 53.625 \nQ 42.578125 51.265625 45.40625 46.390625 \nz\nM 14.796875 27.296875 \nQ 14.796875 17.390625 18.875 11.75 \nQ 22.953125 6.109375 30.078125 6.109375 \nQ 37.203125 6.109375 41.296875 11.75 \nQ 45.40625 17.390625 45.40625 27.296875 \nQ 45.40625 37.203125 41.296875 42.84375 \nQ 37.203125 48.484375 30.078125 48.484375 \nQ 22.953125 48.484375 18.875 42.84375 \nQ 14.796875 37.203125 14.796875 27.296875 \nz\n\" id=\"DejaVuSans-100\"/>\n       <path d=\"M 44.28125 53.078125 \nL 44.28125 44.578125 \nQ 40.484375 46.53125 36.375 47.5 \nQ 32.28125 48.484375 27.875 48.484375 \nQ 21.1875 48.484375 17.84375 46.4375 \nQ 14.5 44.390625 14.5 40.28125 \nQ 14.5 37.15625 16.890625 35.375 \nQ 19.28125 33.59375 26.515625 31.984375 \nL 29.59375 31.296875 \nQ 39.15625 29.25 43.1875 25.515625 \nQ 47.21875 21.78125 47.21875 15.09375 \nQ 47.21875 7.46875 41.1875 3.015625 \nQ 35.15625 -1.421875 24.609375 -1.421875 \nQ 20.21875 -1.421875 15.453125 -0.5625 \nQ 10.6875 0.296875 5.421875 2 \nL 5.421875 11.28125 \nQ 10.40625 8.6875 15.234375 7.390625 \nQ 20.0625 6.109375 24.8125 6.109375 \nQ 31.15625 6.109375 34.5625 8.28125 \nQ 37.984375 10.453125 37.984375 14.40625 \nQ 37.984375 18.0625 35.515625 20.015625 \nQ 33.0625 21.96875 24.703125 23.78125 \nL 21.578125 24.515625 \nQ 13.234375 26.265625 9.515625 29.90625 \nQ 5.8125 33.546875 5.8125 39.890625 \nQ 5.8125 47.609375 11.28125 51.796875 \nQ 16.75 56 26.8125 56 \nQ 31.78125 56 36.171875 55.265625 \nQ 40.578125 54.546875 44.28125 53.078125 \nz\n\" id=\"DejaVuSans-115\"/>\n      </defs>\n      <use xlink:href=\"#DejaVuSans-65\"/>\n      <use x=\"62.533203\" xlink:href=\"#DejaVuSans-118\"/>\n      <use x=\"121.712891\" xlink:href=\"#DejaVuSans-103\"/>\n      <use x=\"185.189453\" xlink:href=\"#DejaVuSans-32\"/>\n      <use x=\"216.976562\" xlink:href=\"#DejaVuSans-112\"/>\n      <use x=\"280.453125\" xlink:href=\"#DejaVuSans-114\"/>\n      <use x=\"321.566406\" xlink:href=\"#DejaVuSans-105\"/>\n      <use x=\"349.349609\" xlink:href=\"#DejaVuSans-99\"/>\n      <use x=\"404.330078\" xlink:href=\"#DejaVuSans-101\"/>\n      <use x=\"465.853516\" xlink:href=\"#DejaVuSans-32\"/>\n      <use x=\"497.640625\" xlink:href=\"#DejaVuSans-105\"/>\n      <use x=\"525.423828\" xlink:href=\"#DejaVuSans-110\"/>\n      <use x=\"588.802734\" xlink:href=\"#DejaVuSans-32\"/>\n      <use x=\"620.589844\" xlink:href=\"#DejaVuSans-112\"/>\n      <use x=\"684.066406\" xlink:href=\"#DejaVuSans-111\"/>\n      <use x=\"745.248047\" xlink:href=\"#DejaVuSans-117\"/>\n      <use x=\"808.626953\" xlink:href=\"#DejaVuSans-110\"/>\n      <use x=\"872.005859\" xlink:href=\"#DejaVuSans-100\"/>\n      <use x=\"935.482422\" xlink:href=\"#DejaVuSans-115\"/>\n     </g>\n    </g>\n   </g>\n   <g id=\"line2d_13\">\n    <path clip-path=\"url(#p90f17b7376)\" d=\"M 81.271307 229.874489 \nL 92.977601 228.011237 \nL 104.683894 226.69309 \nL 116.390188 221.645192 \nL 128.096482 215.729157 \nL 139.802775 207.71195 \nL 151.509069 201.057673 \nL 163.215363 191.463174 \nL 174.921656 179.451357 \nL 186.62795 175.545306 \nL 198.334244 167.187648 \nL 210.040538 164.337393 \nL 221.746831 153.604886 \nL 233.453125 138.427443 \nL 245.159419 142.418319 \nL 256.865712 143.012289 \nL 268.572006 143.604496 \nL 280.2783 132.517894 \nL 291.984594 122.589574 \nL 303.690887 98.853317 \nL 315.397181 78.728163 \nL 327.103475 50.168363 \nL 338.809768 44.633638 \nL 350.516062 48.236065 \nL 362.222356 57.178866 \nL 373.928649 46.763115 \nL 385.634943 32.201761 \n\" style=\"fill:none;stroke:#1f77b4;stroke-linecap:square;stroke-width:1.5;\"/>\n   </g>\n   <g id=\"patch_3\">\n    <path d=\"M 66.053125 239.758125 \nL 66.053125 22.318125 \n\" style=\"fill:none;stroke:#000000;stroke-linecap:square;stroke-linejoin:miter;stroke-width:0.8;\"/>\n   </g>\n   <g id=\"patch_4\">\n    <path d=\"M 400.853125 239.758125 \nL 400.853125 22.318125 \n\" style=\"fill:none;stroke:#000000;stroke-linecap:square;stroke-linejoin:miter;stroke-width:0.8;\"/>\n   </g>\n   <g id=\"patch_5\">\n    <path d=\"M 66.053125 239.758125 \nL 400.853125 239.758125 \n\" style=\"fill:none;stroke:#000000;stroke-linecap:square;stroke-linejoin:miter;stroke-width:0.8;\"/>\n   </g>\n   <g id=\"patch_6\">\n    <path d=\"M 66.053125 22.318125 \nL 400.853125 22.318125 \n\" style=\"fill:none;stroke:#000000;stroke-linecap:square;stroke-linejoin:miter;stroke-width:0.8;\"/>\n   </g>\n   <g id=\"text_15\">\n    <!-- Avg Housing Price by Year: Borough = Hackney -->\n    <g transform=\"translate(91.743437 16.318125)scale(0.12 -0.12)\">\n     <defs>\n      <path d=\"M 9.8125 72.90625 \nL 19.671875 72.90625 \nL 19.671875 43.015625 \nL 55.515625 43.015625 \nL 55.515625 72.90625 \nL 65.375 72.90625 \nL 65.375 0 \nL 55.515625 0 \nL 55.515625 34.71875 \nL 19.671875 34.71875 \nL 19.671875 0 \nL 9.8125 0 \nz\n\" id=\"DejaVuSans-72\"/>\n      <path d=\"M 19.671875 64.796875 \nL 19.671875 37.40625 \nL 32.078125 37.40625 \nQ 38.96875 37.40625 42.71875 40.96875 \nQ 46.484375 44.53125 46.484375 51.125 \nQ 46.484375 57.671875 42.71875 61.234375 \nQ 38.96875 64.796875 32.078125 64.796875 \nz\nM 9.8125 72.90625 \nL 32.078125 72.90625 \nQ 44.34375 72.90625 50.609375 67.359375 \nQ 56.890625 61.8125 56.890625 51.125 \nQ 56.890625 40.328125 50.609375 34.8125 \nQ 44.34375 29.296875 32.078125 29.296875 \nL 19.671875 29.296875 \nL 19.671875 0 \nL 9.8125 0 \nz\n\" id=\"DejaVuSans-80\"/>\n      <path d=\"M 48.6875 27.296875 \nQ 48.6875 37.203125 44.609375 42.84375 \nQ 40.53125 48.484375 33.40625 48.484375 \nQ 26.265625 48.484375 22.1875 42.84375 \nQ 18.109375 37.203125 18.109375 27.296875 \nQ 18.109375 17.390625 22.1875 11.75 \nQ 26.265625 6.109375 33.40625 6.109375 \nQ 40.53125 6.109375 44.609375 11.75 \nQ 48.6875 17.390625 48.6875 27.296875 \nz\nM 18.109375 46.390625 \nQ 20.953125 51.265625 25.265625 53.625 \nQ 29.59375 56 35.59375 56 \nQ 45.5625 56 51.78125 48.09375 \nQ 58.015625 40.1875 58.015625 27.296875 \nQ 58.015625 14.40625 51.78125 6.484375 \nQ 45.5625 -1.421875 35.59375 -1.421875 \nQ 29.59375 -1.421875 25.265625 0.953125 \nQ 20.953125 3.328125 18.109375 8.203125 \nL 18.109375 0 \nL 9.078125 0 \nL 9.078125 75.984375 \nL 18.109375 75.984375 \nz\n\" id=\"DejaVuSans-98\"/>\n      <path d=\"M 32.171875 -5.078125 \nQ 28.375 -14.84375 24.75 -17.8125 \nQ 21.140625 -20.796875 15.09375 -20.796875 \nL 7.90625 -20.796875 \nL 7.90625 -13.28125 \nL 13.1875 -13.28125 \nQ 16.890625 -13.28125 18.9375 -11.515625 \nQ 21 -9.765625 23.484375 -3.21875 \nL 25.09375 0.875 \nL 2.984375 54.6875 \nL 12.5 54.6875 \nL 29.59375 11.921875 \nL 46.6875 54.6875 \nL 56.203125 54.6875 \nz\n\" id=\"DejaVuSans-121\"/>\n      <path d=\"M 11.71875 12.40625 \nL 22.015625 12.40625 \nL 22.015625 0 \nL 11.71875 0 \nz\nM 11.71875 51.703125 \nL 22.015625 51.703125 \nL 22.015625 39.3125 \nL 11.71875 39.3125 \nz\n\" id=\"DejaVuSans-58\"/>\n      <path d=\"M 19.671875 34.8125 \nL 19.671875 8.109375 \nL 35.5 8.109375 \nQ 43.453125 8.109375 47.28125 11.40625 \nQ 51.125 14.703125 51.125 21.484375 \nQ 51.125 28.328125 47.28125 31.5625 \nQ 43.453125 34.8125 35.5 34.8125 \nz\nM 19.671875 64.796875 \nL 19.671875 42.828125 \nL 34.28125 42.828125 \nQ 41.5 42.828125 45.03125 45.53125 \nQ 48.578125 48.25 48.578125 53.8125 \nQ 48.578125 59.328125 45.03125 62.0625 \nQ 41.5 64.796875 34.28125 64.796875 \nz\nM 9.8125 72.90625 \nL 35.015625 72.90625 \nQ 46.296875 72.90625 52.390625 68.21875 \nQ 58.5 63.53125 58.5 54.890625 \nQ 58.5 48.1875 55.375 44.234375 \nQ 52.25 40.28125 46.1875 39.3125 \nQ 53.46875 37.75 57.5 32.78125 \nQ 61.53125 27.828125 61.53125 20.40625 \nQ 61.53125 10.640625 54.890625 5.3125 \nQ 48.25 0 35.984375 0 \nL 9.8125 0 \nz\n\" id=\"DejaVuSans-66\"/>\n      <path d=\"M 54.890625 33.015625 \nL 54.890625 0 \nL 45.90625 0 \nL 45.90625 32.71875 \nQ 45.90625 40.484375 42.875 44.328125 \nQ 39.84375 48.1875 33.796875 48.1875 \nQ 26.515625 48.1875 22.3125 43.546875 \nQ 18.109375 38.921875 18.109375 30.90625 \nL 18.109375 0 \nL 9.078125 0 \nL 9.078125 75.984375 \nL 18.109375 75.984375 \nL 18.109375 46.1875 \nQ 21.34375 51.125 25.703125 53.5625 \nQ 30.078125 56 35.796875 56 \nQ 45.21875 56 50.046875 50.171875 \nQ 54.890625 44.34375 54.890625 33.015625 \nz\n\" id=\"DejaVuSans-104\"/>\n      <path d=\"M 10.59375 45.40625 \nL 73.1875 45.40625 \nL 73.1875 37.203125 \nL 10.59375 37.203125 \nz\nM 10.59375 25.484375 \nL 73.1875 25.484375 \nL 73.1875 17.1875 \nL 10.59375 17.1875 \nz\n\" id=\"DejaVuSans-61\"/>\n      <path d=\"M 9.078125 75.984375 \nL 18.109375 75.984375 \nL 18.109375 31.109375 \nL 44.921875 54.6875 \nL 56.390625 54.6875 \nL 27.390625 29.109375 \nL 57.625 0 \nL 45.90625 0 \nL 18.109375 26.703125 \nL 18.109375 0 \nL 9.078125 0 \nz\n\" id=\"DejaVuSans-107\"/>\n     </defs>\n     <use xlink:href=\"#DejaVuSans-65\"/>\n     <use x=\"62.533203\" xlink:href=\"#DejaVuSans-118\"/>\n     <use x=\"121.712891\" xlink:href=\"#DejaVuSans-103\"/>\n     <use x=\"185.189453\" xlink:href=\"#DejaVuSans-32\"/>\n     <use x=\"216.976562\" xlink:href=\"#DejaVuSans-72\"/>\n     <use x=\"292.171875\" xlink:href=\"#DejaVuSans-111\"/>\n     <use x=\"353.353516\" xlink:href=\"#DejaVuSans-117\"/>\n     <use x=\"416.732422\" xlink:href=\"#DejaVuSans-115\"/>\n     <use x=\"468.832031\" xlink:href=\"#DejaVuSans-105\"/>\n     <use x=\"496.615234\" xlink:href=\"#DejaVuSans-110\"/>\n     <use x=\"559.994141\" xlink:href=\"#DejaVuSans-103\"/>\n     <use x=\"623.470703\" xlink:href=\"#DejaVuSans-32\"/>\n     <use x=\"655.257812\" xlink:href=\"#DejaVuSans-80\"/>\n     <use x=\"713.810547\" xlink:href=\"#DejaVuSans-114\"/>\n     <use x=\"754.923828\" xlink:href=\"#DejaVuSans-105\"/>\n     <use x=\"782.707031\" xlink:href=\"#DejaVuSans-99\"/>\n     <use x=\"837.6875\" xlink:href=\"#DejaVuSans-101\"/>\n     <use x=\"899.210938\" xlink:href=\"#DejaVuSans-32\"/>\n     <use x=\"930.998047\" xlink:href=\"#DejaVuSans-98\"/>\n     <use x=\"994.474609\" xlink:href=\"#DejaVuSans-121\"/>\n     <use x=\"1053.654297\" xlink:href=\"#DejaVuSans-32\"/>\n     <use x=\"1085.441406\" xlink:href=\"#DejaVuSans-89\"/>\n     <use x=\"1133.275391\" xlink:href=\"#DejaVuSans-101\"/>\n     <use x=\"1194.798828\" xlink:href=\"#DejaVuSans-97\"/>\n     <use x=\"1256.078125\" xlink:href=\"#DejaVuSans-114\"/>\n     <use x=\"1295.441406\" xlink:href=\"#DejaVuSans-58\"/>\n     <use x=\"1329.132812\" xlink:href=\"#DejaVuSans-32\"/>\n     <use x=\"1360.919922\" xlink:href=\"#DejaVuSans-66\"/>\n     <use x=\"1429.523438\" xlink:href=\"#DejaVuSans-111\"/>\n     <use x=\"1490.705078\" xlink:href=\"#DejaVuSans-114\"/>\n     <use x=\"1529.568359\" xlink:href=\"#DejaVuSans-111\"/>\n     <use x=\"1590.75\" xlink:href=\"#DejaVuSans-117\"/>\n     <use x=\"1654.128906\" xlink:href=\"#DejaVuSans-103\"/>\n     <use x=\"1717.605469\" xlink:href=\"#DejaVuSans-104\"/>\n     <use x=\"1780.984375\" xlink:href=\"#DejaVuSans-32\"/>\n     <use x=\"1812.771484\" xlink:href=\"#DejaVuSans-61\"/>\n     <use x=\"1896.560547\" xlink:href=\"#DejaVuSans-32\"/>\n     <use x=\"1928.347656\" xlink:href=\"#DejaVuSans-72\"/>\n     <use x=\"2003.542969\" xlink:href=\"#DejaVuSans-97\"/>\n     <use x=\"2064.822266\" xlink:href=\"#DejaVuSans-99\"/>\n     <use x=\"2119.802734\" xlink:href=\"#DejaVuSans-107\"/>\n     <use x=\"2177.712891\" xlink:href=\"#DejaVuSans-110\"/>\n     <use x=\"2241.091797\" xlink:href=\"#DejaVuSans-101\"/>\n     <use x=\"2302.615234\" xlink:href=\"#DejaVuSans-121\"/>\n    </g>\n   </g>\n   <g id=\"legend_1\">\n    <g id=\"patch_7\">\n     <path d=\"M 73.053125 44.99625 \nL 129.942187 44.99625 \nQ 131.942187 44.99625 131.942187 42.99625 \nL 131.942187 29.318125 \nQ 131.942187 27.318125 129.942187 27.318125 \nL 73.053125 27.318125 \nQ 71.053125 27.318125 71.053125 29.318125 \nL 71.053125 42.99625 \nQ 71.053125 44.99625 73.053125 44.99625 \nz\n\" style=\"fill:#ffffff;opacity:0.8;stroke:#cccccc;stroke-linejoin:miter;\"/>\n    </g>\n    <g id=\"line2d_14\">\n     <path d=\"M 75.053125 35.416562 \nL 95.053125 35.416562 \n\" style=\"fill:none;stroke:#1f77b4;stroke-linecap:square;stroke-width:1.5;\"/>\n    </g>\n    <g id=\"line2d_15\"/>\n    <g id=\"text_16\">\n     <!-- price -->\n     <g transform=\"translate(103.053125 38.916562)scale(0.1 -0.1)\">\n      <use xlink:href=\"#DejaVuSans-112\"/>\n      <use x=\"63.476562\" xlink:href=\"#DejaVuSans-114\"/>\n      <use x=\"104.589844\" xlink:href=\"#DejaVuSans-105\"/>\n      <use x=\"132.373047\" xlink:href=\"#DejaVuSans-99\"/>\n      <use x=\"187.353516\" xlink:href=\"#DejaVuSans-101\"/>\n     </g>\n    </g>\n   </g>\n  </g>\n </g>\n <defs>\n  <clipPath id=\"p90f17b7376\">\n   <rect height=\"217.44\" width=\"334.8\" x=\"66.053125\" y=\"22.318125\"/>\n  </clipPath>\n </defs>\n</svg>\n",
      "text/plain": [
       "<Figure size 432x288 with 1 Axes>"
      ]
     },
     "metadata": {
      "needs_background": "light"
     }
    }
   ],
   "metadata": {
    "colab": {},
    "colab_type": "code",
    "id": "e0DF92cyqnu8"
   }
  },
  {
   "cell_type": "markdown",
   "source": [
    "**3. Modeling**\n",
    "\n",
    "Consider creating a function that will calculate a ratio of house prices, comparing the price of a house in 2018 to the price in 1998.\n",
    "\n",
    "Consider calling this function create_price_ratio.\n",
    "\n",
    "You'd want this function to:\n",
    "1. Take a filter of dfg, specifically where this filter constrains the London_Borough, as an argument. For example, one admissible argument should be: dfg[dfg['London_Borough']=='Camden'].\n",
    "2. Get the Average Price for that Borough, for the years 1998 and 2018.\n",
    "4. Calculate the ratio of the Average Price for 1998 divided by the Average Price for 2018.\n",
    "5. Return that ratio.\n",
    "\n",
    "Once you've written this function, you ultimately want to use it to iterate through all the unique London_Boroughs and work out the ratio capturing the difference of house prices between 1998 and 2018.\n",
    "\n",
    "Bear in mind: you don't have to write a function like this if you don't want to. If you can solve the brief otherwise, then great! \n",
    "\n",
    "***Hint***: This section should test the skills you acquired in:\n",
    "- Python Data Science Toolbox - Part One, all modules"
   ],
   "metadata": {
    "colab_type": "text",
    "id": "2knuTxAEqoJ4"
   }
  },
  {
   "cell_type": "code",
   "execution_count": 91,
   "source": [
    "def create_price_ratio(df, start_year=1998, end_year=2018):\n",
    "    start_val = df.loc[df['year'] == start_year, 'price'].mean()\n",
    "    end_val = df.loc[df['year'] == end_year, 'price'].mean()\n",
    "    return end_val / start_val\n",
    "\n",
    "p_grp = (p_df\n",
    "    .assign(year=lambda x: x['date'].dt.year)\n",
    "    .query('year == 1998 or year == 2018')\n",
    "    .groupby(by='borough')\n",
    "    .apply(create_price_ratio)\n",
    ")\n",
    "display('Boroughs sorted descending by ratio of 2018 avg price vs 1998 avg price')\n",
    "display(p_grp.sort_values(ascending=False))\n",
    "\n",
    "# Chart out the Top 10 borough increases\n",
    "p_pivot = (p_df\n",
    "    .assign(year=lambda x: x['date'].dt.year)\n",
    "    .loc[p_df['borough'].isin(list(p_grp.nlargest(10).index)), :]\n",
    "    .pivot_table(values='price', index='year', columns='borough')\n",
    ")\n",
    "\n",
    "p_pivot.plot()\n",
    "plt.title(f\"Avg Housing Price by Year: Top 10 Pct Increase Boroughs\")\n",
    "plt.xlabel(\"Year\")\n",
    "plt.ylabel(\"Avg price in pounds\")"
   ],
   "outputs": [
    {
     "output_type": "display_data",
     "data": {
      "text/plain": [
       "'Boroughs sorted descending by ratio of 2018 avg price vs 1998 avg price'"
      ]
     },
     "metadata": {}
    },
    {
     "output_type": "display_data",
     "data": {
      "text/plain": [
       "borough\n",
       "Hackney                 6.198286\n",
       "Waltham Forest          5.834756\n",
       "Southwark               5.516485\n",
       "Lewisham                5.449221\n",
       "Westminster             5.353565\n",
       "Newham                  5.305390\n",
       "Haringey                5.134625\n",
       "Kensington & Chelsea    5.082465\n",
       "Lambeth                 4.957751\n",
       "Camden                  4.935353\n",
       "Barking & Dagenham      4.896619\n",
       "Brent                   4.894554\n",
       "Islington               4.844048\n",
       "Greenwich               4.763036\n",
       "Wandsworth              4.757709\n",
       "Merton                  4.741273\n",
       "Tower Hamlets           4.626701\n",
       "Redbridge               4.471182\n",
       "Barnet                  4.358196\n",
       "Havering                4.325230\n",
       "Ealing                  4.311451\n",
       "Kingston upon Thames    4.270550\n",
       "Enfield                 4.263472\n",
       "Bexley                  4.248977\n",
       "Croydon                 4.201100\n",
       "Hillingdon              4.200273\n",
       "Hammersmith & Fulham    4.137798\n",
       "Sutton                  4.118523\n",
       "Bromley                 4.094785\n",
       "Harrow                  4.059196\n",
       "Richmond upon Thames    4.005162\n",
       "Hounslow                3.976409\n",
       "dtype: float64"
      ]
     },
     "metadata": {}
    },
    {
     "output_type": "execute_result",
     "data": {
      "text/plain": [
       "<AxesSubplot:xlabel='year'>"
      ]
     },
     "metadata": {},
     "execution_count": 91
    },
    {
     "output_type": "display_data",
     "data": {
      "image/png": "[encoded data removed]",
      "image/svg+xml": "<?xml version=\"1.0\" encoding=\"utf-8\" standalone=\"no\"?>\n<!DOCTYPE svg PUBLIC \"-//W3C//DTD SVG 1.1//EN\"\n  \"http://www.w3.org/Graphics/SVG/1.1/DTD/svg11.dtd\">\n<!-- Created with matplotlib (https://matplotlib.org/) -->\n<svg height=\"272.794688pt\" version=\"1.1\" viewBox=\"0 0 372.103125 272.794688\" width=\"372.103125pt\" xmlns=\"http://www.w3.org/2000/svg\" xmlns:xlink=\"http://www.w3.org/1999/xlink\">\n <metadata>\n  <rdf:RDF xmlns:cc=\"http://creativecommons.org/ns#\" xmlns:dc=\"http://purl.org/dc/elements/1.1/\" xmlns:rdf=\"http://www.w3.org/1999/02/22-rdf-syntax-ns#\">\n   <cc:Work>\n    <dc:type rdf:resource=\"http://purl.org/dc/dcmitype/StillImage\"/>\n    <dc:date>2021-09-03T13:06:50.504933</dc:date>\n    <dc:format>image/svg+xml</dc:format>\n    <dc:creator>\n     <cc:Agent>\n      <dc:title>Matplotlib v3.3.4, https://matplotlib.org/</dc:title>\n     </cc:Agent>\n    </dc:creator>\n   </cc:Work>\n  </rdf:RDF>\n </metadata>\n <defs>\n  <style type=\"text/css\">*{stroke-linecap:butt;stroke-linejoin:round;}</style>\n </defs>\n <g id=\"figure_1\">\n  <g id=\"patch_1\">\n   <path d=\"M 0 272.794688 \nL 372.103125 272.794688 \nL 372.103125 0 \nL 0 0 \nz\n\" style=\"fill:none;\"/>\n  </g>\n  <g id=\"axes_1\">\n   <g id=\"patch_2\">\n    <path d=\"M 30.103125 235.238438 \nL 364.903125 235.238438 \nL 364.903125 17.798438 \nL 30.103125 17.798438 \nz\n\" style=\"fill:#ffffff;\"/>\n   </g>\n   <g id=\"matplotlib.axis_1\">\n    <g id=\"xtick_1\">\n     <g id=\"line2d_1\">\n      <defs>\n       <path d=\"M 0 0 \nL 0 3.5 \n\" id=\"ma39550eaaf\" style=\"stroke:#000000;stroke-width:0.8;\"/>\n      </defs>\n      <g>\n       <use style=\"stroke:#000000;stroke-width:0.8;\" x=\"45.321307\" xlink:href=\"#ma39550eaaf\" y=\"235.238438\"/>\n      </g>\n     </g>\n     <g id=\"text_1\">\n      <!-- 1995 -->\n      <g transform=\"translate(32.596307 249.836875)scale(0.1 -0.1)\">\n       <defs>\n        <path d=\"M 12.40625 8.296875 \nL 28.515625 8.296875 \nL 28.515625 63.921875 \nL 10.984375 60.40625 \nL 10.984375 69.390625 \nL 28.421875 72.90625 \nL 38.28125 72.90625 \nL 38.28125 8.296875 \nL 54.390625 8.296875 \nL 54.390625 0 \nL 12.40625 0 \nz\n\" id=\"DejaVuSans-49\"/>\n        <path d=\"M 10.984375 1.515625 \nL 10.984375 10.5 \nQ 14.703125 8.734375 18.5 7.8125 \nQ 22.3125 6.890625 25.984375 6.890625 \nQ 35.75 6.890625 40.890625 13.453125 \nQ 46.046875 20.015625 46.78125 33.40625 \nQ 43.953125 29.203125 39.59375 26.953125 \nQ 35.25 24.703125 29.984375 24.703125 \nQ 19.046875 24.703125 12.671875 31.3125 \nQ 6.296875 37.9375 6.296875 49.421875 \nQ 6.296875 60.640625 12.9375 67.421875 \nQ 19.578125 74.21875 30.609375 74.21875 \nQ 43.265625 74.21875 49.921875 64.515625 \nQ 56.59375 54.828125 56.59375 36.375 \nQ 56.59375 19.140625 48.40625 8.859375 \nQ 40.234375 -1.421875 26.421875 -1.421875 \nQ 22.703125 -1.421875 18.890625 -0.6875 \nQ 15.09375 0.046875 10.984375 1.515625 \nz\nM 30.609375 32.421875 \nQ 37.25 32.421875 41.125 36.953125 \nQ 45.015625 41.5 45.015625 49.421875 \nQ 45.015625 57.28125 41.125 61.84375 \nQ 37.25 66.40625 30.609375 66.40625 \nQ 23.96875 66.40625 20.09375 61.84375 \nQ 16.21875 57.28125 16.21875 49.421875 \nQ 16.21875 41.5 20.09375 36.953125 \nQ 23.96875 32.421875 30.609375 32.421875 \nz\n\" id=\"DejaVuSans-57\"/>\n        <path d=\"M 10.796875 72.90625 \nL 49.515625 72.90625 \nL 49.515625 64.59375 \nL 19.828125 64.59375 \nL 19.828125 46.734375 \nQ 21.96875 47.46875 24.109375 47.828125 \nQ 26.265625 48.1875 28.421875 48.1875 \nQ 40.625 48.1875 47.75 41.5 \nQ 54.890625 34.8125 54.890625 23.390625 \nQ 54.890625 11.625 47.5625 5.09375 \nQ 40.234375 -1.421875 26.90625 -1.421875 \nQ 22.3125 -1.421875 17.546875 -0.640625 \nQ 12.796875 0.140625 7.71875 1.703125 \nL 7.71875 11.625 \nQ 12.109375 9.234375 16.796875 8.0625 \nQ 21.484375 6.890625 26.703125 6.890625 \nQ 35.15625 6.890625 40.078125 11.328125 \nQ 45.015625 15.765625 45.015625 23.390625 \nQ 45.015625 31 40.078125 35.4375 \nQ 35.15625 39.890625 26.703125 39.890625 \nQ 22.75 39.890625 18.8125 39.015625 \nQ 14.890625 38.140625 10.796875 36.28125 \nz\n\" id=\"DejaVuSans-53\"/>\n       </defs>\n       <use xlink:href=\"#DejaVuSans-49\"/>\n       <use x=\"63.623047\" xlink:href=\"#DejaVuSans-57\"/>\n       <use x=\"127.246094\" xlink:href=\"#DejaVuSans-57\"/>\n       <use x=\"190.869141\" xlink:href=\"#DejaVuSans-53\"/>\n      </g>\n     </g>\n    </g>\n    <g id=\"xtick_2\">\n     <g id=\"line2d_2\">\n      <g>\n       <use style=\"stroke:#000000;stroke-width:0.8;\" x=\"103.852775\" xlink:href=\"#ma39550eaaf\" y=\"235.238438\"/>\n      </g>\n     </g>\n     <g id=\"text_2\">\n      <!-- 2000 -->\n      <g transform=\"translate(91.127775 249.836875)scale(0.1 -0.1)\">\n       <defs>\n        <path d=\"M 19.1875 8.296875 \nL 53.609375 8.296875 \nL 53.609375 0 \nL 7.328125 0 \nL 7.328125 8.296875 \nQ 12.9375 14.109375 22.625 23.890625 \nQ 32.328125 33.6875 34.8125 36.53125 \nQ 39.546875 41.84375 41.421875 45.53125 \nQ 43.3125 49.21875 43.3125 52.78125 \nQ 43.3125 58.59375 39.234375 62.25 \nQ 35.15625 65.921875 28.609375 65.921875 \nQ 23.96875 65.921875 18.8125 64.3125 \nQ 13.671875 62.703125 7.8125 59.421875 \nL 7.8125 69.390625 \nQ 13.765625 71.78125 18.9375 73 \nQ 24.125 74.21875 28.421875 74.21875 \nQ 39.75 74.21875 46.484375 68.546875 \nQ 53.21875 62.890625 53.21875 53.421875 \nQ 53.21875 48.921875 51.53125 44.890625 \nQ 49.859375 40.875 45.40625 35.40625 \nQ 44.1875 33.984375 37.640625 27.21875 \nQ 31.109375 20.453125 19.1875 8.296875 \nz\n\" id=\"DejaVuSans-50\"/>\n        <path d=\"M 31.78125 66.40625 \nQ 24.171875 66.40625 20.328125 58.90625 \nQ 16.5 51.421875 16.5 36.375 \nQ 16.5 21.390625 20.328125 13.890625 \nQ 24.171875 6.390625 31.78125 6.390625 \nQ 39.453125 6.390625 43.28125 13.890625 \nQ 47.125 21.390625 47.125 36.375 \nQ 47.125 51.421875 43.28125 58.90625 \nQ 39.453125 66.40625 31.78125 66.40625 \nz\nM 31.78125 74.21875 \nQ 44.046875 74.21875 50.515625 64.515625 \nQ 56.984375 54.828125 56.984375 36.375 \nQ 56.984375 17.96875 50.515625 8.265625 \nQ 44.046875 -1.421875 31.78125 -1.421875 \nQ 19.53125 -1.421875 13.0625 8.265625 \nQ 6.59375 17.96875 6.59375 36.375 \nQ 6.59375 54.828125 13.0625 64.515625 \nQ 19.53125 74.21875 31.78125 74.21875 \nz\n\" id=\"DejaVuSans-48\"/>\n       </defs>\n       <use xlink:href=\"#DejaVuSans-50\"/>\n       <use x=\"63.623047\" xlink:href=\"#DejaVuSans-48\"/>\n       <use x=\"127.246094\" xlink:href=\"#DejaVuSans-48\"/>\n       <use x=\"190.869141\" xlink:href=\"#DejaVuSans-48\"/>\n      </g>\n     </g>\n    </g>\n    <g id=\"xtick_3\">\n     <g id=\"line2d_3\">\n      <g>\n       <use style=\"stroke:#000000;stroke-width:0.8;\" x=\"162.384244\" xlink:href=\"#ma39550eaaf\" y=\"235.238438\"/>\n      </g>\n     </g>\n     <g id=\"text_3\">\n      <!-- 2005 -->\n      <g transform=\"translate(149.659244 249.836875)scale(0.1 -0.1)\">\n       <use xlink:href=\"#DejaVuSans-50\"/>\n       <use x=\"63.623047\" xlink:href=\"#DejaVuSans-48\"/>\n       <use x=\"127.246094\" xlink:href=\"#DejaVuSans-48\"/>\n       <use x=\"190.869141\" xlink:href=\"#DejaVuSans-53\"/>\n      </g>\n     </g>\n    </g>\n    <g id=\"xtick_4\">\n     <g id=\"line2d_4\">\n      <g>\n       <use style=\"stroke:#000000;stroke-width:0.8;\" x=\"220.915712\" xlink:href=\"#ma39550eaaf\" y=\"235.238438\"/>\n      </g>\n     </g>\n     <g id=\"text_4\">\n      <!-- 2010 -->\n      <g transform=\"translate(208.190712 249.836875)scale(0.1 -0.1)\">\n       <use xlink:href=\"#DejaVuSans-50\"/>\n       <use x=\"63.623047\" xlink:href=\"#DejaVuSans-48\"/>\n       <use x=\"127.246094\" xlink:href=\"#DejaVuSans-49\"/>\n       <use x=\"190.869141\" xlink:href=\"#DejaVuSans-48\"/>\n      </g>\n     </g>\n    </g>\n    <g id=\"xtick_5\">\n     <g id=\"line2d_5\">\n      <g>\n       <use style=\"stroke:#000000;stroke-width:0.8;\" x=\"279.447181\" xlink:href=\"#ma39550eaaf\" y=\"235.238438\"/>\n      </g>\n     </g>\n     <g id=\"text_5\">\n      <!-- 2015 -->\n      <g transform=\"translate(266.722181 249.836875)scale(0.1 -0.1)\">\n       <use xlink:href=\"#DejaVuSans-50\"/>\n       <use x=\"63.623047\" xlink:href=\"#DejaVuSans-48\"/>\n       <use x=\"127.246094\" xlink:href=\"#DejaVuSans-49\"/>\n       <use x=\"190.869141\" xlink:href=\"#DejaVuSans-53\"/>\n      </g>\n     </g>\n    </g>\n    <g id=\"xtick_6\">\n     <g id=\"line2d_6\">\n      <g>\n       <use style=\"stroke:#000000;stroke-width:0.8;\" x=\"337.978649\" xlink:href=\"#ma39550eaaf\" y=\"235.238438\"/>\n      </g>\n     </g>\n     <g id=\"text_6\">\n      <!-- 2020 -->\n      <g transform=\"translate(325.253649 249.836875)scale(0.1 -0.1)\">\n       <use xlink:href=\"#DejaVuSans-50\"/>\n       <use x=\"63.623047\" xlink:href=\"#DejaVuSans-48\"/>\n       <use x=\"127.246094\" xlink:href=\"#DejaVuSans-50\"/>\n       <use x=\"190.869141\" xlink:href=\"#DejaVuSans-48\"/>\n      </g>\n     </g>\n    </g>\n    <g id=\"text_7\">\n     <!-- year -->\n     <g transform=\"translate(186.347656 263.515)scale(0.1 -0.1)\">\n      <defs>\n       <path d=\"M 32.171875 -5.078125 \nQ 28.375 -14.84375 24.75 -17.8125 \nQ 21.140625 -20.796875 15.09375 -20.796875 \nL 7.90625 -20.796875 \nL 7.90625 -13.28125 \nL 13.1875 -13.28125 \nQ 16.890625 -13.28125 18.9375 -11.515625 \nQ 21 -9.765625 23.484375 -3.21875 \nL 25.09375 0.875 \nL 2.984375 54.6875 \nL 12.5 54.6875 \nL 29.59375 11.921875 \nL 46.6875 54.6875 \nL 56.203125 54.6875 \nz\n\" id=\"DejaVuSans-121\"/>\n       <path d=\"M 56.203125 29.59375 \nL 56.203125 25.203125 \nL 14.890625 25.203125 \nQ 15.484375 15.921875 20.484375 11.0625 \nQ 25.484375 6.203125 34.421875 6.203125 \nQ 39.59375 6.203125 44.453125 7.46875 \nQ 49.3125 8.734375 54.109375 11.28125 \nL 54.109375 2.78125 \nQ 49.265625 0.734375 44.1875 -0.34375 \nQ 39.109375 -1.421875 33.890625 -1.421875 \nQ 20.796875 -1.421875 13.15625 6.1875 \nQ 5.515625 13.8125 5.515625 26.8125 \nQ 5.515625 40.234375 12.765625 48.109375 \nQ 20.015625 56 32.328125 56 \nQ 43.359375 56 49.78125 48.890625 \nQ 56.203125 41.796875 56.203125 29.59375 \nz\nM 47.21875 32.234375 \nQ 47.125 39.59375 43.09375 43.984375 \nQ 39.0625 48.390625 32.421875 48.390625 \nQ 24.90625 48.390625 20.390625 44.140625 \nQ 15.875 39.890625 15.1875 32.171875 \nz\n\" id=\"DejaVuSans-101\"/>\n       <path d=\"M 34.28125 27.484375 \nQ 23.390625 27.484375 19.1875 25 \nQ 14.984375 22.515625 14.984375 16.5 \nQ 14.984375 11.71875 18.140625 8.90625 \nQ 21.296875 6.109375 26.703125 6.109375 \nQ 34.1875 6.109375 38.703125 11.40625 \nQ 43.21875 16.703125 43.21875 25.484375 \nL 43.21875 27.484375 \nz\nM 52.203125 31.203125 \nL 52.203125 0 \nL 43.21875 0 \nL 43.21875 8.296875 \nQ 40.140625 3.328125 35.546875 0.953125 \nQ 30.953125 -1.421875 24.3125 -1.421875 \nQ 15.921875 -1.421875 10.953125 3.296875 \nQ 6 8.015625 6 15.921875 \nQ 6 25.140625 12.171875 29.828125 \nQ 18.359375 34.515625 30.609375 34.515625 \nL 43.21875 34.515625 \nL 43.21875 35.40625 \nQ 43.21875 41.609375 39.140625 45 \nQ 35.0625 48.390625 27.6875 48.390625 \nQ 23 48.390625 18.546875 47.265625 \nQ 14.109375 46.140625 10.015625 43.890625 \nL 10.015625 52.203125 \nQ 14.9375 54.109375 19.578125 55.046875 \nQ 24.21875 56 28.609375 56 \nQ 40.484375 56 46.34375 49.84375 \nQ 52.203125 43.703125 52.203125 31.203125 \nz\n\" id=\"DejaVuSans-97\"/>\n       <path d=\"M 41.109375 46.296875 \nQ 39.59375 47.171875 37.8125 47.578125 \nQ 36.03125 48 33.890625 48 \nQ 26.265625 48 22.1875 43.046875 \nQ 18.109375 38.09375 18.109375 28.8125 \nL 18.109375 0 \nL 9.078125 0 \nL 9.078125 54.6875 \nL 18.109375 54.6875 \nL 18.109375 46.1875 \nQ 20.953125 51.171875 25.484375 53.578125 \nQ 30.03125 56 36.53125 56 \nQ 37.453125 56 38.578125 55.875 \nQ 39.703125 55.765625 41.0625 55.515625 \nz\n\" id=\"DejaVuSans-114\"/>\n      </defs>\n      <use xlink:href=\"#DejaVuSans-121\"/>\n      <use x=\"59.179688\" xlink:href=\"#DejaVuSans-101\"/>\n      <use x=\"120.703125\" xlink:href=\"#DejaVuSans-97\"/>\n      <use x=\"181.982422\" xlink:href=\"#DejaVuSans-114\"/>\n     </g>\n    </g>\n   </g>\n   <g id=\"matplotlib.axis_2\">\n    <g id=\"ytick_1\">\n     <g id=\"line2d_7\">\n      <defs>\n       <path d=\"M 0 0 \nL -3.5 0 \n\" id=\"m182c47983a\" style=\"stroke:#000000;stroke-width:0.8;\"/>\n      </defs>\n      <g>\n       <use style=\"stroke:#000000;stroke-width:0.8;\" x=\"30.103125\" xlink:href=\"#m182c47983a\" y=\"233.594156\"/>\n      </g>\n     </g>\n     <g id=\"text_8\">\n      <!-- 0.0 -->\n      <g transform=\"translate(7.2 237.393375)scale(0.1 -0.1)\">\n       <defs>\n        <path d=\"M 10.6875 12.40625 \nL 21 12.40625 \nL 21 0 \nL 10.6875 0 \nz\n\" id=\"DejaVuSans-46\"/>\n       </defs>\n       <use xlink:href=\"#DejaVuSans-48\"/>\n       <use x=\"63.623047\" xlink:href=\"#DejaVuSans-46\"/>\n       <use x=\"95.410156\" xlink:href=\"#DejaVuSans-48\"/>\n      </g>\n     </g>\n    </g>\n    <g id=\"ytick_2\">\n     <g id=\"line2d_8\">\n      <g>\n       <use style=\"stroke:#000000;stroke-width:0.8;\" x=\"30.103125\" xlink:href=\"#m182c47983a\" y=\"203.399115\"/>\n      </g>\n     </g>\n     <g id=\"text_9\">\n      <!-- 0.2 -->\n      <g transform=\"translate(7.2 207.198334)scale(0.1 -0.1)\">\n       <use xlink:href=\"#DejaVuSans-48\"/>\n       <use x=\"63.623047\" xlink:href=\"#DejaVuSans-46\"/>\n       <use x=\"95.410156\" xlink:href=\"#DejaVuSans-50\"/>\n      </g>\n     </g>\n    </g>\n    <g id=\"ytick_3\">\n     <g id=\"line2d_9\">\n      <g>\n       <use style=\"stroke:#000000;stroke-width:0.8;\" x=\"30.103125\" xlink:href=\"#m182c47983a\" y=\"173.204074\"/>\n      </g>\n     </g>\n     <g id=\"text_10\">\n      <!-- 0.4 -->\n      <g transform=\"translate(7.2 177.003293)scale(0.1 -0.1)\">\n       <defs>\n        <path d=\"M 37.796875 64.3125 \nL 12.890625 25.390625 \nL 37.796875 25.390625 \nz\nM 35.203125 72.90625 \nL 47.609375 72.90625 \nL 47.609375 25.390625 \nL 58.015625 25.390625 \nL 58.015625 17.1875 \nL 47.609375 17.1875 \nL 47.609375 0 \nL 37.796875 0 \nL 37.796875 17.1875 \nL 4.890625 17.1875 \nL 4.890625 26.703125 \nz\n\" id=\"DejaVuSans-52\"/>\n       </defs>\n       <use xlink:href=\"#DejaVuSans-48\"/>\n       <use x=\"63.623047\" xlink:href=\"#DejaVuSans-46\"/>\n       <use x=\"95.410156\" xlink:href=\"#DejaVuSans-52\"/>\n      </g>\n     </g>\n    </g>\n    <g id=\"ytick_4\">\n     <g id=\"line2d_10\">\n      <g>\n       <use style=\"stroke:#000000;stroke-width:0.8;\" x=\"30.103125\" xlink:href=\"#m182c47983a\" y=\"143.009033\"/>\n      </g>\n     </g>\n     <g id=\"text_11\">\n      <!-- 0.6 -->\n      <g transform=\"translate(7.2 146.808251)scale(0.1 -0.1)\">\n       <defs>\n        <path d=\"M 33.015625 40.375 \nQ 26.375 40.375 22.484375 35.828125 \nQ 18.609375 31.296875 18.609375 23.390625 \nQ 18.609375 15.53125 22.484375 10.953125 \nQ 26.375 6.390625 33.015625 6.390625 \nQ 39.65625 6.390625 43.53125 10.953125 \nQ 47.40625 15.53125 47.40625 23.390625 \nQ 47.40625 31.296875 43.53125 35.828125 \nQ 39.65625 40.375 33.015625 40.375 \nz\nM 52.59375 71.296875 \nL 52.59375 62.3125 \nQ 48.875 64.0625 45.09375 64.984375 \nQ 41.3125 65.921875 37.59375 65.921875 \nQ 27.828125 65.921875 22.671875 59.328125 \nQ 17.53125 52.734375 16.796875 39.40625 \nQ 19.671875 43.65625 24.015625 45.921875 \nQ 28.375 48.1875 33.59375 48.1875 \nQ 44.578125 48.1875 50.953125 41.515625 \nQ 57.328125 34.859375 57.328125 23.390625 \nQ 57.328125 12.15625 50.6875 5.359375 \nQ 44.046875 -1.421875 33.015625 -1.421875 \nQ 20.359375 -1.421875 13.671875 8.265625 \nQ 6.984375 17.96875 6.984375 36.375 \nQ 6.984375 53.65625 15.1875 63.9375 \nQ 23.390625 74.21875 37.203125 74.21875 \nQ 40.921875 74.21875 44.703125 73.484375 \nQ 48.484375 72.75 52.59375 71.296875 \nz\n\" id=\"DejaVuSans-54\"/>\n       </defs>\n       <use xlink:href=\"#DejaVuSans-48\"/>\n       <use x=\"63.623047\" xlink:href=\"#DejaVuSans-46\"/>\n       <use x=\"95.410156\" xlink:href=\"#DejaVuSans-54\"/>\n      </g>\n     </g>\n    </g>\n    <g id=\"ytick_5\">\n     <g id=\"line2d_11\">\n      <g>\n       <use style=\"stroke:#000000;stroke-width:0.8;\" x=\"30.103125\" xlink:href=\"#m182c47983a\" y=\"112.813991\"/>\n      </g>\n     </g>\n     <g id=\"text_12\">\n      <!-- 0.8 -->\n      <g transform=\"translate(7.2 116.61321)scale(0.1 -0.1)\">\n       <defs>\n        <path d=\"M 31.78125 34.625 \nQ 24.75 34.625 20.71875 30.859375 \nQ 16.703125 27.09375 16.703125 20.515625 \nQ 16.703125 13.921875 20.71875 10.15625 \nQ 24.75 6.390625 31.78125 6.390625 \nQ 38.8125 6.390625 42.859375 10.171875 \nQ 46.921875 13.96875 46.921875 20.515625 \nQ 46.921875 27.09375 42.890625 30.859375 \nQ 38.875 34.625 31.78125 34.625 \nz\nM 21.921875 38.8125 \nQ 15.578125 40.375 12.03125 44.71875 \nQ 8.5 49.078125 8.5 55.328125 \nQ 8.5 64.0625 14.71875 69.140625 \nQ 20.953125 74.21875 31.78125 74.21875 \nQ 42.671875 74.21875 48.875 69.140625 \nQ 55.078125 64.0625 55.078125 55.328125 \nQ 55.078125 49.078125 51.53125 44.71875 \nQ 48 40.375 41.703125 38.8125 \nQ 48.828125 37.15625 52.796875 32.3125 \nQ 56.78125 27.484375 56.78125 20.515625 \nQ 56.78125 9.90625 50.3125 4.234375 \nQ 43.84375 -1.421875 31.78125 -1.421875 \nQ 19.734375 -1.421875 13.25 4.234375 \nQ 6.78125 9.90625 6.78125 20.515625 \nQ 6.78125 27.484375 10.78125 32.3125 \nQ 14.796875 37.15625 21.921875 38.8125 \nz\nM 18.3125 54.390625 \nQ 18.3125 48.734375 21.84375 45.5625 \nQ 25.390625 42.390625 31.78125 42.390625 \nQ 38.140625 42.390625 41.71875 45.5625 \nQ 45.3125 48.734375 45.3125 54.390625 \nQ 45.3125 60.0625 41.71875 63.234375 \nQ 38.140625 66.40625 31.78125 66.40625 \nQ 25.390625 66.40625 21.84375 63.234375 \nQ 18.3125 60.0625 18.3125 54.390625 \nz\n\" id=\"DejaVuSans-56\"/>\n       </defs>\n       <use xlink:href=\"#DejaVuSans-48\"/>\n       <use x=\"63.623047\" xlink:href=\"#DejaVuSans-46\"/>\n       <use x=\"95.410156\" xlink:href=\"#DejaVuSans-56\"/>\n      </g>\n     </g>\n    </g>\n    <g id=\"ytick_6\">\n     <g id=\"line2d_12\">\n      <g>\n       <use style=\"stroke:#000000;stroke-width:0.8;\" x=\"30.103125\" xlink:href=\"#m182c47983a\" y=\"82.61895\"/>\n      </g>\n     </g>\n     <g id=\"text_13\">\n      <!-- 1.0 -->\n      <g transform=\"translate(7.2 86.418169)scale(0.1 -0.1)\">\n       <use xlink:href=\"#DejaVuSans-49\"/>\n       <use x=\"63.623047\" xlink:href=\"#DejaVuSans-46\"/>\n       <use x=\"95.410156\" xlink:href=\"#DejaVuSans-48\"/>\n      </g>\n     </g>\n    </g>\n    <g id=\"ytick_7\">\n     <g id=\"line2d_13\">\n      <g>\n       <use style=\"stroke:#000000;stroke-width:0.8;\" x=\"30.103125\" xlink:href=\"#m182c47983a\" y=\"52.423909\"/>\n      </g>\n     </g>\n     <g id=\"text_14\">\n      <!-- 1.2 -->\n      <g transform=\"translate(7.2 56.223128)scale(0.1 -0.1)\">\n       <use xlink:href=\"#DejaVuSans-49\"/>\n       <use x=\"63.623047\" xlink:href=\"#DejaVuSans-46\"/>\n       <use x=\"95.410156\" xlink:href=\"#DejaVuSans-50\"/>\n      </g>\n     </g>\n    </g>\n    <g id=\"ytick_8\">\n     <g id=\"line2d_14\">\n      <g>\n       <use style=\"stroke:#000000;stroke-width:0.8;\" x=\"30.103125\" xlink:href=\"#m182c47983a\" y=\"22.228868\"/>\n      </g>\n     </g>\n     <g id=\"text_15\">\n      <!-- 1.4 -->\n      <g transform=\"translate(7.2 26.028086)scale(0.1 -0.1)\">\n       <use xlink:href=\"#DejaVuSans-49\"/>\n       <use x=\"63.623047\" xlink:href=\"#DejaVuSans-46\"/>\n       <use x=\"95.410156\" xlink:href=\"#DejaVuSans-52\"/>\n      </g>\n     </g>\n    </g>\n    <g id=\"text_16\">\n     <!-- 1e6 -->\n     <g transform=\"translate(30.103125 14.798437)scale(0.1 -0.1)\">\n      <use xlink:href=\"#DejaVuSans-49\"/>\n      <use x=\"63.623047\" xlink:href=\"#DejaVuSans-101\"/>\n      <use x=\"125.146484\" xlink:href=\"#DejaVuSans-54\"/>\n     </g>\n    </g>\n   </g>\n   <g id=\"line2d_15\">\n    <path clip-path=\"url(#p1a4969cc63)\" d=\"M 45.321307 215.421658 \nL 57.027601 213.39209 \nL 68.733894 210.926301 \nL 80.440188 207.824353 \nL 92.146482 204.744199 \nL 103.852775 196.285973 \nL 115.559069 191.533363 \nL 127.265363 186.16084 \nL 138.971656 184.821035 \nL 150.67795 180.473862 \nL 162.384244 177.983181 \nL 174.090538 173.986221 \nL 185.796831 163.16639 \nL 197.503125 157.921875 \nL 209.209419 164.956589 \nL 220.915712 156.11049 \nL 232.622006 149.894564 \nL 244.3283 145.097633 \nL 256.034594 132.826123 \nL 267.740887 119.383455 \nL 279.447181 114.710099 \nL 291.153475 111.739205 \nL 302.859768 106.873498 \nL 314.566062 106.411071 \nL 326.272356 106.311952 \nL 337.978649 108.305383 \nL 349.684943 108.471945 \n\" style=\"fill:none;stroke:#1f77b4;stroke-linecap:square;stroke-width:1.5;\"/>\n   </g>\n   <g id=\"line2d_16\">\n    <path clip-path=\"url(#p1a4969cc63)\" d=\"M 45.321307 223.626097 \nL 57.027601 223.139478 \nL 68.733894 221.791398 \nL 80.440188 220.328035 \nL 92.146482 217.661294 \nL 103.852775 213.555594 \nL 115.559069 210.433605 \nL 127.265363 206.377938 \nL 138.971656 203.237347 \nL 150.67795 200.730315 \nL 162.384244 199.181328 \nL 174.090538 195.359021 \nL 185.796831 189.751453 \nL 197.503125 186.524537 \nL 209.209419 190.9828 \nL 220.915712 188.227482 \nL 232.622006 186.988346 \nL 244.3283 184.452861 \nL 256.034594 177.330392 \nL 267.740887 164.690817 \nL 279.447181 157.080074 \nL 291.153475 152.407791 \nL 302.859768 150.707928 \nL 314.566062 151.366948 \nL 326.272356 149.812989 \nL 337.978649 145.681984 \nL 349.684943 145.26347 \n\" style=\"fill:none;stroke:#ff7f0e;stroke-linecap:square;stroke-width:1.5;\"/>\n   </g>\n   <g id=\"line2d_17\">\n    <path clip-path=\"url(#p1a4969cc63)\" d=\"M 45.321307 221.50429 \nL 57.027601 220.836563 \nL 68.733894 219.186615 \nL 80.440188 217.376422 \nL 92.146482 215.464531 \nL 103.852775 211.552216 \nL 115.559069 208.664067 \nL 127.265363 204.033021 \nL 138.971656 200.331288 \nL 150.67795 197.923978 \nL 162.384244 196.481332 \nL 174.090538 193.748638 \nL 185.796831 187.469795 \nL 197.503125 187.78887 \nL 209.209419 191.892682 \nL 220.915712 186.115497 \nL 232.622006 184.305531 \nL 244.3283 182.310006 \nL 256.034594 177.396116 \nL 267.740887 167.797993 \nL 279.447181 161.030025 \nL 291.153475 153.928071 \nL 302.859768 149.454634 \nL 314.566062 150.322174 \nL 326.272356 151.142008 \nL 337.978649 149.100443 \nL 349.684943 147.215005 \n\" style=\"fill:none;stroke:#2ca02c;stroke-linecap:square;stroke-width:1.5;\"/>\n   </g>\n   <g id=\"line2d_18\">\n    <path clip-path=\"url(#p1a4969cc63)\" d=\"M 45.321307 204.477492 \nL 57.027601 202.318632 \nL 68.733894 196.355276 \nL 80.440188 193.079941 \nL 92.146482 186.572118 \nL 103.852775 176.706359 \nL 115.559069 170.165023 \nL 127.265363 164.087821 \nL 138.971656 164.071489 \nL 150.67795 156.266668 \nL 162.384244 155.055915 \nL 174.090538 143.309847 \nL 185.796831 120.864115 \nL 197.503125 115.103582 \nL 209.209419 127.128323 \nL 220.915712 107.180359 \nL 232.622006 96.423354 \nL 244.3283 81.253387 \nL 256.034594 63.509611 \nL 267.740887 39.076845 \nL 279.447181 37.008929 \nL 291.153475 40.914298 \nL 302.859768 30.601993 \nL 314.566062 27.682074 \nL 326.272356 46.170097 \nL 337.978649 33.346229 \nL 349.684943 45.666058 \n\" style=\"fill:none;stroke:#d62728;stroke-linecap:square;stroke-width:1.5;\"/>\n   </g>\n   <g id=\"line2d_19\">\n    <path clip-path=\"url(#p1a4969cc63)\" d=\"M 45.321307 223.311885 \nL 57.027601 222.656876 \nL 68.733894 220.62476 \nL 80.440188 218.016667 \nL 92.146482 215.987988 \nL 103.852775 211.243971 \nL 115.559069 208.730844 \nL 127.265363 204.840773 \nL 138.971656 202.889239 \nL 150.67795 200.094429 \nL 162.384244 199.043044 \nL 174.090538 195.828832 \nL 185.796831 188.568036 \nL 197.503125 188.984619 \nL 209.209419 193.232859 \nL 220.915712 188.729179 \nL 232.622006 187.693186 \nL 244.3283 184.15492 \nL 256.034594 178.795332 \nL 267.740887 168.127546 \nL 279.447181 162.392132 \nL 291.153475 155.908003 \nL 302.859768 155.312978 \nL 314.566062 156.364843 \nL 326.272356 156.876289 \nL 337.978649 153.842836 \nL 349.684943 151.957188 \n\" style=\"fill:none;stroke:#9467bd;stroke-linecap:square;stroke-width:1.5;\"/>\n   </g>\n   <g id=\"line2d_20\">\n    <path clip-path=\"url(#p1a4969cc63)\" d=\"M 45.321307 224.704469 \nL 57.027601 224.552762 \nL 68.733894 223.607041 \nL 80.440188 222.189632 \nL 92.146482 220.807289 \nL 103.852775 217.427327 \nL 115.559069 215.275855 \nL 127.265363 211.889352 \nL 138.971656 207.794646 \nL 150.67795 205.805883 \nL 162.384244 204.777843 \nL 174.090538 203.042496 \nL 185.796831 198.921895 \nL 197.503125 198.676059 \nL 209.209419 201.69195 \nL 220.915712 199.536823 \nL 232.622006 199.169181 \nL 244.3283 197.273753 \nL 256.034594 194.217548 \nL 267.740887 185.914285 \nL 279.447181 179.990416 \nL 291.153475 172.804187 \nL 302.859768 171.535945 \nL 314.566062 171.448385 \nL 326.272356 171.842664 \nL 337.978649 169.745861 \nL 349.684943 166.650891 \n\" style=\"fill:none;stroke:#8c564b;stroke-linecap:square;stroke-width:1.5;\"/>\n   </g>\n   <g id=\"line2d_21\">\n    <path clip-path=\"url(#p1a4969cc63)\" d=\"M 45.321307 225.354801 \nL 57.027601 225.17774 \nL 68.733894 224.38899 \nL 80.440188 223.377472 \nL 92.146482 222.342643 \nL 103.852775 219.570473 \nL 115.559069 217.173631 \nL 127.265363 212.841763 \nL 138.971656 208.164267 \nL 150.67795 205.561028 \nL 162.384244 204.372115 \nL 174.090538 202.903185 \nL 185.796831 199.41509 \nL 197.503125 200.112626 \nL 209.209419 205.178014 \nL 220.915712 202.72471 \nL 232.622006 202.242098 \nL 244.3283 201.462902 \nL 256.034594 199.959258 \nL 267.740887 194.595409 \nL 279.447181 188.670254 \nL 291.153475 181.061294 \nL 302.859768 178.921272 \nL 314.566062 179.390658 \nL 326.272356 178.640242 \nL 337.978649 177.517018 \nL 349.684943 175.020902 \n\" style=\"fill:none;stroke:#e377c2;stroke-linecap:square;stroke-width:1.5;\"/>\n   </g>\n   <g id=\"line2d_22\">\n    <path clip-path=\"url(#p1a4969cc63)\" d=\"M 45.321307 223.892481 \nL 57.027601 223.008181 \nL 68.733894 221.55753 \nL 80.440188 219.794239 \nL 92.146482 216.946491 \nL 103.852775 212.115407 \nL 115.559069 208.760811 \nL 127.265363 205.71142 \nL 138.971656 203.461945 \nL 150.67795 200.847042 \nL 162.384244 199.768135 \nL 174.090538 196.94345 \nL 185.796831 189.861449 \nL 197.503125 189.628159 \nL 209.209419 194.166824 \nL 220.915712 189.220591 \nL 232.622006 186.408442 \nL 244.3283 183.602605 \nL 256.034594 179.129875 \nL 267.740887 169.011883 \nL 279.447181 162.957761 \nL 291.153475 156.546789 \nL 302.859768 155.708564 \nL 314.566062 157.467117 \nL 326.272356 158.201614 \nL 337.978649 156.465498 \nL 349.684943 155.092699 \n\" style=\"fill:none;stroke:#7f7f7f;stroke-linecap:square;stroke-width:1.5;\"/>\n   </g>\n   <g id=\"line2d_23\">\n    <path clip-path=\"url(#p1a4969cc63)\" d=\"M 45.321307 224.342399 \nL 57.027601 224.206935 \nL 68.733894 223.293301 \nL 80.440188 222.186851 \nL 92.146482 220.939175 \nL 103.852775 218.039079 \nL 115.559069 215.65174 \nL 127.265363 211.229069 \nL 138.971656 207.162041 \nL 150.67795 204.700856 \nL 162.384244 203.81574 \nL 174.090538 201.933484 \nL 185.796831 197.810425 \nL 197.503125 198.434073 \nL 209.209419 202.654041 \nL 220.915712 200.062218 \nL 232.622006 200.242912 \nL 244.3283 198.760174 \nL 256.034594 195.206405 \nL 267.740887 186.046871 \nL 279.447181 179.618502 \nL 291.153475 171.21886 \nL 302.859768 167.751377 \nL 314.566062 167.035316 \nL 326.272356 168.548763 \nL 337.978649 165.653442 \nL 349.684943 160.754058 \n\" style=\"fill:none;stroke:#bcbd22;stroke-linecap:square;stroke-width:1.5;\"/>\n   </g>\n   <g id=\"line2d_24\">\n    <path clip-path=\"url(#p1a4969cc63)\" d=\"M 45.321307 213.410397 \nL 57.027601 212.580104 \nL 68.733894 208.615672 \nL 80.440188 204.828556 \nL 92.146482 201.279015 \nL 103.852775 194.266285 \nL 115.559069 188.889568 \nL 127.265363 182.319596 \nL 138.971656 178.719797 \nL 150.67795 176.314865 \nL 162.384244 173.296924 \nL 174.090538 167.638391 \nL 185.796831 155.928482 \nL 197.503125 152.037857 \nL 209.209419 153.260706 \nL 220.915712 141.997764 \nL 232.622006 138.100285 \nL 244.3283 128.375604 \nL 256.034594 114.327899 \nL 267.740887 94.288996 \nL 279.447181 87.95697 \nL 291.153475 83.291792 \nL 302.859768 72.840045 \nL 314.566062 79.595633 \nL 326.272356 89.262069 \nL 337.978649 88.587118 \nL 349.684943 91.675383 \n\" style=\"fill:none;stroke:#17becf;stroke-linecap:square;stroke-width:1.5;\"/>\n   </g>\n   <g id=\"patch_3\">\n    <path d=\"M 30.103125 235.238438 \nL 30.103125 17.798438 \n\" style=\"fill:none;stroke:#000000;stroke-linecap:square;stroke-linejoin:miter;stroke-width:0.8;\"/>\n   </g>\n   <g id=\"patch_4\">\n    <path d=\"M 364.903125 235.238438 \nL 364.903125 17.798438 \n\" style=\"fill:none;stroke:#000000;stroke-linecap:square;stroke-linejoin:miter;stroke-width:0.8;\"/>\n   </g>\n   <g id=\"patch_5\">\n    <path d=\"M 30.103125 235.238438 \nL 364.903125 235.238438 \n\" style=\"fill:none;stroke:#000000;stroke-linecap:square;stroke-linejoin:miter;stroke-width:0.8;\"/>\n   </g>\n   <g id=\"patch_6\">\n    <path d=\"M 30.103125 17.798438 \nL 364.903125 17.798438 \n\" style=\"fill:none;stroke:#000000;stroke-linecap:square;stroke-linejoin:miter;stroke-width:0.8;\"/>\n   </g>\n   <g id=\"legend_1\">\n    <g id=\"patch_7\">\n     <path d=\"M 37.103125 187.257812 \nL 178.598438 187.257812 \nQ 180.598438 187.257812 180.598438 185.257812 \nL 180.598438 24.798438 \nQ 180.598438 22.798438 178.598438 22.798438 \nL 37.103125 22.798438 \nQ 35.103125 22.798438 35.103125 24.798438 \nL 35.103125 185.257812 \nQ 35.103125 187.257812 37.103125 187.257812 \nz\n\" style=\"fill:#ffffff;opacity:0.8;stroke:#cccccc;stroke-linejoin:miter;\"/>\n    </g>\n    <g id=\"text_17\">\n     <!-- borough -->\n     <g transform=\"translate(87.103125 34.396875)scale(0.1 -0.1)\">\n      <defs>\n       <path d=\"M 48.6875 27.296875 \nQ 48.6875 37.203125 44.609375 42.84375 \nQ 40.53125 48.484375 33.40625 48.484375 \nQ 26.265625 48.484375 22.1875 42.84375 \nQ 18.109375 37.203125 18.109375 27.296875 \nQ 18.109375 17.390625 22.1875 11.75 \nQ 26.265625 6.109375 33.40625 6.109375 \nQ 40.53125 6.109375 44.609375 11.75 \nQ 48.6875 17.390625 48.6875 27.296875 \nz\nM 18.109375 46.390625 \nQ 20.953125 51.265625 25.265625 53.625 \nQ 29.59375 56 35.59375 56 \nQ 45.5625 56 51.78125 48.09375 \nQ 58.015625 40.1875 58.015625 27.296875 \nQ 58.015625 14.40625 51.78125 6.484375 \nQ 45.5625 -1.421875 35.59375 -1.421875 \nQ 29.59375 -1.421875 25.265625 0.953125 \nQ 20.953125 3.328125 18.109375 8.203125 \nL 18.109375 0 \nL 9.078125 0 \nL 9.078125 75.984375 \nL 18.109375 75.984375 \nz\n\" id=\"DejaVuSans-98\"/>\n       <path d=\"M 30.609375 48.390625 \nQ 23.390625 48.390625 19.1875 42.75 \nQ 14.984375 37.109375 14.984375 27.296875 \nQ 14.984375 17.484375 19.15625 11.84375 \nQ 23.34375 6.203125 30.609375 6.203125 \nQ 37.796875 6.203125 41.984375 11.859375 \nQ 46.1875 17.53125 46.1875 27.296875 \nQ 46.1875 37.015625 41.984375 42.703125 \nQ 37.796875 48.390625 30.609375 48.390625 \nz\nM 30.609375 56 \nQ 42.328125 56 49.015625 48.375 \nQ 55.71875 40.765625 55.71875 27.296875 \nQ 55.71875 13.875 49.015625 6.21875 \nQ 42.328125 -1.421875 30.609375 -1.421875 \nQ 18.84375 -1.421875 12.171875 6.21875 \nQ 5.515625 13.875 5.515625 27.296875 \nQ 5.515625 40.765625 12.171875 48.375 \nQ 18.84375 56 30.609375 56 \nz\n\" id=\"DejaVuSans-111\"/>\n       <path d=\"M 8.5 21.578125 \nL 8.5 54.6875 \nL 17.484375 54.6875 \nL 17.484375 21.921875 \nQ 17.484375 14.15625 20.5 10.265625 \nQ 23.53125 6.390625 29.59375 6.390625 \nQ 36.859375 6.390625 41.078125 11.03125 \nQ 45.3125 15.671875 45.3125 23.6875 \nL 45.3125 54.6875 \nL 54.296875 54.6875 \nL 54.296875 0 \nL 45.3125 0 \nL 45.3125 8.40625 \nQ 42.046875 3.421875 37.71875 1 \nQ 33.40625 -1.421875 27.6875 -1.421875 \nQ 18.265625 -1.421875 13.375 4.4375 \nQ 8.5 10.296875 8.5 21.578125 \nz\nM 31.109375 56 \nz\n\" id=\"DejaVuSans-117\"/>\n       <path d=\"M 45.40625 27.984375 \nQ 45.40625 37.75 41.375 43.109375 \nQ 37.359375 48.484375 30.078125 48.484375 \nQ 22.859375 48.484375 18.828125 43.109375 \nQ 14.796875 37.75 14.796875 27.984375 \nQ 14.796875 18.265625 18.828125 12.890625 \nQ 22.859375 7.515625 30.078125 7.515625 \nQ 37.359375 7.515625 41.375 12.890625 \nQ 45.40625 18.265625 45.40625 27.984375 \nz\nM 54.390625 6.78125 \nQ 54.390625 -7.171875 48.1875 -13.984375 \nQ 42 -20.796875 29.203125 -20.796875 \nQ 24.46875 -20.796875 20.265625 -20.09375 \nQ 16.0625 -19.390625 12.109375 -17.921875 \nL 12.109375 -9.1875 \nQ 16.0625 -11.328125 19.921875 -12.34375 \nQ 23.78125 -13.375 27.78125 -13.375 \nQ 36.625 -13.375 41.015625 -8.765625 \nQ 45.40625 -4.15625 45.40625 5.171875 \nL 45.40625 9.625 \nQ 42.625 4.78125 38.28125 2.390625 \nQ 33.9375 0 27.875 0 \nQ 17.828125 0 11.671875 7.65625 \nQ 5.515625 15.328125 5.515625 27.984375 \nQ 5.515625 40.671875 11.671875 48.328125 \nQ 17.828125 56 27.875 56 \nQ 33.9375 56 38.28125 53.609375 \nQ 42.625 51.21875 45.40625 46.390625 \nL 45.40625 54.6875 \nL 54.390625 54.6875 \nz\n\" id=\"DejaVuSans-103\"/>\n       <path d=\"M 54.890625 33.015625 \nL 54.890625 0 \nL 45.90625 0 \nL 45.90625 32.71875 \nQ 45.90625 40.484375 42.875 44.328125 \nQ 39.84375 48.1875 33.796875 48.1875 \nQ 26.515625 48.1875 22.3125 43.546875 \nQ 18.109375 38.921875 18.109375 30.90625 \nL 18.109375 0 \nL 9.078125 0 \nL 9.078125 75.984375 \nL 18.109375 75.984375 \nL 18.109375 46.1875 \nQ 21.34375 51.125 25.703125 53.5625 \nQ 30.078125 56 35.796875 56 \nQ 45.21875 56 50.046875 50.171875 \nQ 54.890625 44.34375 54.890625 33.015625 \nz\n\" id=\"DejaVuSans-104\"/>\n      </defs>\n      <use xlink:href=\"#DejaVuSans-98\"/>\n      <use x=\"63.476562\" xlink:href=\"#DejaVuSans-111\"/>\n      <use x=\"124.658203\" xlink:href=\"#DejaVuSans-114\"/>\n      <use x=\"163.521484\" xlink:href=\"#DejaVuSans-111\"/>\n      <use x=\"224.703125\" xlink:href=\"#DejaVuSans-117\"/>\n      <use x=\"288.082031\" xlink:href=\"#DejaVuSans-103\"/>\n      <use x=\"351.558594\" xlink:href=\"#DejaVuSans-104\"/>\n     </g>\n    </g>\n    <g id=\"line2d_25\">\n     <path d=\"M 39.103125 45.575 \nL 59.103125 45.575 \n\" style=\"fill:none;stroke:#1f77b4;stroke-linecap:square;stroke-width:1.5;\"/>\n    </g>\n    <g id=\"line2d_26\"/>\n    <g id=\"text_18\">\n     <!-- Camden -->\n     <g transform=\"translate(67.103125 49.075)scale(0.1 -0.1)\">\n      <defs>\n       <path d=\"M 64.40625 67.28125 \nL 64.40625 56.890625 \nQ 59.421875 61.53125 53.78125 63.8125 \nQ 48.140625 66.109375 41.796875 66.109375 \nQ 29.296875 66.109375 22.65625 58.46875 \nQ 16.015625 50.828125 16.015625 36.375 \nQ 16.015625 21.96875 22.65625 14.328125 \nQ 29.296875 6.6875 41.796875 6.6875 \nQ 48.140625 6.6875 53.78125 8.984375 \nQ 59.421875 11.28125 64.40625 15.921875 \nL 64.40625 5.609375 \nQ 59.234375 2.09375 53.4375 0.328125 \nQ 47.65625 -1.421875 41.21875 -1.421875 \nQ 24.65625 -1.421875 15.125 8.703125 \nQ 5.609375 18.84375 5.609375 36.375 \nQ 5.609375 53.953125 15.125 64.078125 \nQ 24.65625 74.21875 41.21875 74.21875 \nQ 47.75 74.21875 53.53125 72.484375 \nQ 59.328125 70.75 64.40625 67.28125 \nz\n\" id=\"DejaVuSans-67\"/>\n       <path d=\"M 52 44.1875 \nQ 55.375 50.25 60.0625 53.125 \nQ 64.75 56 71.09375 56 \nQ 79.640625 56 84.28125 50.015625 \nQ 88.921875 44.046875 88.921875 33.015625 \nL 88.921875 0 \nL 79.890625 0 \nL 79.890625 32.71875 \nQ 79.890625 40.578125 77.09375 44.375 \nQ 74.3125 48.1875 68.609375 48.1875 \nQ 61.625 48.1875 57.5625 43.546875 \nQ 53.515625 38.921875 53.515625 30.90625 \nL 53.515625 0 \nL 44.484375 0 \nL 44.484375 32.71875 \nQ 44.484375 40.625 41.703125 44.40625 \nQ 38.921875 48.1875 33.109375 48.1875 \nQ 26.21875 48.1875 22.15625 43.53125 \nQ 18.109375 38.875 18.109375 30.90625 \nL 18.109375 0 \nL 9.078125 0 \nL 9.078125 54.6875 \nL 18.109375 54.6875 \nL 18.109375 46.1875 \nQ 21.1875 51.21875 25.484375 53.609375 \nQ 29.78125 56 35.6875 56 \nQ 41.65625 56 45.828125 52.96875 \nQ 50 49.953125 52 44.1875 \nz\n\" id=\"DejaVuSans-109\"/>\n       <path d=\"M 45.40625 46.390625 \nL 45.40625 75.984375 \nL 54.390625 75.984375 \nL 54.390625 0 \nL 45.40625 0 \nL 45.40625 8.203125 \nQ 42.578125 3.328125 38.25 0.953125 \nQ 33.9375 -1.421875 27.875 -1.421875 \nQ 17.96875 -1.421875 11.734375 6.484375 \nQ 5.515625 14.40625 5.515625 27.296875 \nQ 5.515625 40.1875 11.734375 48.09375 \nQ 17.96875 56 27.875 56 \nQ 33.9375 56 38.25 53.625 \nQ 42.578125 51.265625 45.40625 46.390625 \nz\nM 14.796875 27.296875 \nQ 14.796875 17.390625 18.875 11.75 \nQ 22.953125 6.109375 30.078125 6.109375 \nQ 37.203125 6.109375 41.296875 11.75 \nQ 45.40625 17.390625 45.40625 27.296875 \nQ 45.40625 37.203125 41.296875 42.84375 \nQ 37.203125 48.484375 30.078125 48.484375 \nQ 22.953125 48.484375 18.875 42.84375 \nQ 14.796875 37.203125 14.796875 27.296875 \nz\n\" id=\"DejaVuSans-100\"/>\n       <path d=\"M 54.890625 33.015625 \nL 54.890625 0 \nL 45.90625 0 \nL 45.90625 32.71875 \nQ 45.90625 40.484375 42.875 44.328125 \nQ 39.84375 48.1875 33.796875 48.1875 \nQ 26.515625 48.1875 22.3125 43.546875 \nQ 18.109375 38.921875 18.109375 30.90625 \nL 18.109375 0 \nL 9.078125 0 \nL 9.078125 54.6875 \nL 18.109375 54.6875 \nL 18.109375 46.1875 \nQ 21.34375 51.125 25.703125 53.5625 \nQ 30.078125 56 35.796875 56 \nQ 45.21875 56 50.046875 50.171875 \nQ 54.890625 44.34375 54.890625 33.015625 \nz\n\" id=\"DejaVuSans-110\"/>\n      </defs>\n      <use xlink:href=\"#DejaVuSans-67\"/>\n      <use x=\"69.824219\" xlink:href=\"#DejaVuSans-97\"/>\n      <use x=\"131.103516\" xlink:href=\"#DejaVuSans-109\"/>\n      <use x=\"228.515625\" xlink:href=\"#DejaVuSans-100\"/>\n      <use x=\"291.992188\" xlink:href=\"#DejaVuSans-101\"/>\n      <use x=\"353.515625\" xlink:href=\"#DejaVuSans-110\"/>\n     </g>\n    </g>\n    <g id=\"line2d_27\">\n     <path d=\"M 39.103125 60.253125 \nL 59.103125 60.253125 \n\" style=\"fill:none;stroke:#ff7f0e;stroke-linecap:square;stroke-width:1.5;\"/>\n    </g>\n    <g id=\"line2d_28\"/>\n    <g id=\"text_19\">\n     <!-- Hackney -->\n     <g transform=\"translate(67.103125 63.753125)scale(0.1 -0.1)\">\n      <defs>\n       <path d=\"M 9.8125 72.90625 \nL 19.671875 72.90625 \nL 19.671875 43.015625 \nL 55.515625 43.015625 \nL 55.515625 72.90625 \nL 65.375 72.90625 \nL 65.375 0 \nL 55.515625 0 \nL 55.515625 34.71875 \nL 19.671875 34.71875 \nL 19.671875 0 \nL 9.8125 0 \nz\n\" id=\"DejaVuSans-72\"/>\n       <path d=\"M 48.78125 52.59375 \nL 48.78125 44.1875 \nQ 44.96875 46.296875 41.140625 47.34375 \nQ 37.3125 48.390625 33.40625 48.390625 \nQ 24.65625 48.390625 19.8125 42.84375 \nQ 14.984375 37.3125 14.984375 27.296875 \nQ 14.984375 17.28125 19.8125 11.734375 \nQ 24.65625 6.203125 33.40625 6.203125 \nQ 37.3125 6.203125 41.140625 7.25 \nQ 44.96875 8.296875 48.78125 10.40625 \nL 48.78125 2.09375 \nQ 45.015625 0.34375 40.984375 -0.53125 \nQ 36.96875 -1.421875 32.421875 -1.421875 \nQ 20.0625 -1.421875 12.78125 6.34375 \nQ 5.515625 14.109375 5.515625 27.296875 \nQ 5.515625 40.671875 12.859375 48.328125 \nQ 20.21875 56 33.015625 56 \nQ 37.15625 56 41.109375 55.140625 \nQ 45.0625 54.296875 48.78125 52.59375 \nz\n\" id=\"DejaVuSans-99\"/>\n       <path d=\"M 9.078125 75.984375 \nL 18.109375 75.984375 \nL 18.109375 31.109375 \nL 44.921875 54.6875 \nL 56.390625 54.6875 \nL 27.390625 29.109375 \nL 57.625 0 \nL 45.90625 0 \nL 18.109375 26.703125 \nL 18.109375 0 \nL 9.078125 0 \nz\n\" id=\"DejaVuSans-107\"/>\n      </defs>\n      <use xlink:href=\"#DejaVuSans-72\"/>\n      <use x=\"75.195312\" xlink:href=\"#DejaVuSans-97\"/>\n      <use x=\"136.474609\" xlink:href=\"#DejaVuSans-99\"/>\n      <use x=\"191.455078\" xlink:href=\"#DejaVuSans-107\"/>\n      <use x=\"249.365234\" xlink:href=\"#DejaVuSans-110\"/>\n      <use x=\"312.744141\" xlink:href=\"#DejaVuSans-101\"/>\n      <use x=\"374.267578\" xlink:href=\"#DejaVuSans-121\"/>\n     </g>\n    </g>\n    <g id=\"line2d_29\">\n     <path d=\"M 39.103125 74.93125 \nL 59.103125 74.93125 \n\" style=\"fill:none;stroke:#2ca02c;stroke-linecap:square;stroke-width:1.5;\"/>\n    </g>\n    <g id=\"line2d_30\"/>\n    <g id=\"text_20\">\n     <!-- Haringey -->\n     <g transform=\"translate(67.103125 78.43125)scale(0.1 -0.1)\">\n      <defs>\n       <path d=\"M 9.421875 54.6875 \nL 18.40625 54.6875 \nL 18.40625 0 \nL 9.421875 0 \nz\nM 9.421875 75.984375 \nL 18.40625 75.984375 \nL 18.40625 64.59375 \nL 9.421875 64.59375 \nz\n\" id=\"DejaVuSans-105\"/>\n      </defs>\n      <use xlink:href=\"#DejaVuSans-72\"/>\n      <use x=\"75.195312\" xlink:href=\"#DejaVuSans-97\"/>\n      <use x=\"136.474609\" xlink:href=\"#DejaVuSans-114\"/>\n      <use x=\"177.587891\" xlink:href=\"#DejaVuSans-105\"/>\n      <use x=\"205.371094\" xlink:href=\"#DejaVuSans-110\"/>\n      <use x=\"268.75\" xlink:href=\"#DejaVuSans-103\"/>\n      <use x=\"332.226562\" xlink:href=\"#DejaVuSans-101\"/>\n      <use x=\"393.75\" xlink:href=\"#DejaVuSans-121\"/>\n     </g>\n    </g>\n    <g id=\"line2d_31\">\n     <path d=\"M 39.103125 89.609375 \nL 59.103125 89.609375 \n\" style=\"fill:none;stroke:#d62728;stroke-linecap:square;stroke-width:1.5;\"/>\n    </g>\n    <g id=\"line2d_32\"/>\n    <g id=\"text_21\">\n     <!-- Kensington &amp; Chelsea -->\n     <g transform=\"translate(67.103125 93.109375)scale(0.1 -0.1)\">\n      <defs>\n       <path d=\"M 9.8125 72.90625 \nL 19.671875 72.90625 \nL 19.671875 42.09375 \nL 52.390625 72.90625 \nL 65.09375 72.90625 \nL 28.90625 38.921875 \nL 67.671875 0 \nL 54.6875 0 \nL 19.671875 35.109375 \nL 19.671875 0 \nL 9.8125 0 \nz\n\" id=\"DejaVuSans-75\"/>\n       <path d=\"M 44.28125 53.078125 \nL 44.28125 44.578125 \nQ 40.484375 46.53125 36.375 47.5 \nQ 32.28125 48.484375 27.875 48.484375 \nQ 21.1875 48.484375 17.84375 46.4375 \nQ 14.5 44.390625 14.5 40.28125 \nQ 14.5 37.15625 16.890625 35.375 \nQ 19.28125 33.59375 26.515625 31.984375 \nL 29.59375 31.296875 \nQ 39.15625 29.25 43.1875 25.515625 \nQ 47.21875 21.78125 47.21875 15.09375 \nQ 47.21875 7.46875 41.1875 3.015625 \nQ 35.15625 -1.421875 24.609375 -1.421875 \nQ 20.21875 -1.421875 15.453125 -0.5625 \nQ 10.6875 0.296875 5.421875 2 \nL 5.421875 11.28125 \nQ 10.40625 8.6875 15.234375 7.390625 \nQ 20.0625 6.109375 24.8125 6.109375 \nQ 31.15625 6.109375 34.5625 8.28125 \nQ 37.984375 10.453125 37.984375 14.40625 \nQ 37.984375 18.0625 35.515625 20.015625 \nQ 33.0625 21.96875 24.703125 23.78125 \nL 21.578125 24.515625 \nQ 13.234375 26.265625 9.515625 29.90625 \nQ 5.8125 33.546875 5.8125 39.890625 \nQ 5.8125 47.609375 11.28125 51.796875 \nQ 16.75 56 26.8125 56 \nQ 31.78125 56 36.171875 55.265625 \nQ 40.578125 54.546875 44.28125 53.078125 \nz\n\" id=\"DejaVuSans-115\"/>\n       <path d=\"M 18.3125 70.21875 \nL 18.3125 54.6875 \nL 36.8125 54.6875 \nL 36.8125 47.703125 \nL 18.3125 47.703125 \nL 18.3125 18.015625 \nQ 18.3125 11.328125 20.140625 9.421875 \nQ 21.96875 7.515625 27.59375 7.515625 \nL 36.8125 7.515625 \nL 36.8125 0 \nL 27.59375 0 \nQ 17.1875 0 13.234375 3.875 \nQ 9.28125 7.765625 9.28125 18.015625 \nL 9.28125 47.703125 \nL 2.6875 47.703125 \nL 2.6875 54.6875 \nL 9.28125 54.6875 \nL 9.28125 70.21875 \nz\n\" id=\"DejaVuSans-116\"/>\n       <path id=\"DejaVuSans-32\"/>\n       <path d=\"M 24.3125 39.203125 \nQ 19.875 35.25 17.796875 31.3125 \nQ 15.71875 27.390625 15.71875 23.09375 \nQ 15.71875 15.96875 20.890625 11.234375 \nQ 26.078125 6.5 33.890625 6.5 \nQ 38.53125 6.5 42.578125 8.03125 \nQ 46.625 9.578125 50.203125 12.703125 \nz\nM 31.203125 44.671875 \nL 56 19.28125 \nQ 58.890625 23.640625 60.5 28.59375 \nQ 62.109375 33.546875 62.40625 39.109375 \nL 71.484375 39.109375 \nQ 70.90625 32.671875 68.359375 26.359375 \nQ 65.828125 20.0625 61.28125 13.921875 \nL 74.90625 0 \nL 62.59375 0 \nL 55.609375 7.171875 \nQ 50.53125 2.828125 44.96875 0.703125 \nQ 39.40625 -1.421875 33.015625 -1.421875 \nQ 21.234375 -1.421875 13.765625 5.296875 \nQ 6.296875 12.015625 6.296875 22.515625 \nQ 6.296875 28.765625 9.5625 34.25 \nQ 12.84375 39.75 19.390625 44.578125 \nQ 17.046875 47.65625 15.8125 50.703125 \nQ 14.59375 53.765625 14.59375 56.6875 \nQ 14.59375 64.59375 20.015625 69.40625 \nQ 25.4375 74.21875 34.421875 74.21875 \nQ 38.484375 74.21875 42.5 73.34375 \nQ 46.53125 72.46875 50.6875 70.703125 \nL 50.6875 61.8125 \nQ 46.4375 64.109375 42.578125 65.296875 \nQ 38.71875 66.5 35.40625 66.5 \nQ 30.28125 66.5 27.078125 63.78125 \nQ 23.875 61.078125 23.875 56.78125 \nQ 23.875 54.296875 25.3125 51.78125 \nQ 26.765625 49.265625 31.203125 44.671875 \nz\n\" id=\"DejaVuSans-38\"/>\n       <path d=\"M 9.421875 75.984375 \nL 18.40625 75.984375 \nL 18.40625 0 \nL 9.421875 0 \nz\n\" id=\"DejaVuSans-108\"/>\n      </defs>\n      <use xlink:href=\"#DejaVuSans-75\"/>\n      <use x=\"60.576172\" xlink:href=\"#DejaVuSans-101\"/>\n      <use x=\"122.099609\" xlink:href=\"#DejaVuSans-110\"/>\n      <use x=\"185.478516\" xlink:href=\"#DejaVuSans-115\"/>\n      <use x=\"237.578125\" xlink:href=\"#DejaVuSans-105\"/>\n      <use x=\"265.361328\" xlink:href=\"#DejaVuSans-110\"/>\n      <use x=\"328.740234\" xlink:href=\"#DejaVuSans-103\"/>\n      <use x=\"392.216797\" xlink:href=\"#DejaVuSans-116\"/>\n      <use x=\"431.425781\" xlink:href=\"#DejaVuSans-111\"/>\n      <use x=\"492.607422\" xlink:href=\"#DejaVuSans-110\"/>\n      <use x=\"555.986328\" xlink:href=\"#DejaVuSans-32\"/>\n      <use x=\"587.773438\" xlink:href=\"#DejaVuSans-38\"/>\n      <use x=\"665.751953\" xlink:href=\"#DejaVuSans-32\"/>\n      <use x=\"697.539062\" xlink:href=\"#DejaVuSans-67\"/>\n      <use x=\"767.363281\" xlink:href=\"#DejaVuSans-104\"/>\n      <use x=\"830.742188\" xlink:href=\"#DejaVuSans-101\"/>\n      <use x=\"892.265625\" xlink:href=\"#DejaVuSans-108\"/>\n      <use x=\"920.048828\" xlink:href=\"#DejaVuSans-115\"/>\n      <use x=\"972.148438\" xlink:href=\"#DejaVuSans-101\"/>\n      <use x=\"1033.671875\" xlink:href=\"#DejaVuSans-97\"/>\n     </g>\n    </g>\n    <g id=\"line2d_33\">\n     <path d=\"M 39.103125 104.2875 \nL 59.103125 104.2875 \n\" style=\"fill:none;stroke:#9467bd;stroke-linecap:square;stroke-width:1.5;\"/>\n    </g>\n    <g id=\"line2d_34\"/>\n    <g id=\"text_22\">\n     <!-- Lambeth -->\n     <g transform=\"translate(67.103125 107.7875)scale(0.1 -0.1)\">\n      <defs>\n       <path d=\"M 9.8125 72.90625 \nL 19.671875 72.90625 \nL 19.671875 8.296875 \nL 55.171875 8.296875 \nL 55.171875 0 \nL 9.8125 0 \nz\n\" id=\"DejaVuSans-76\"/>\n      </defs>\n      <use xlink:href=\"#DejaVuSans-76\"/>\n      <use x=\"55.712891\" xlink:href=\"#DejaVuSans-97\"/>\n      <use x=\"116.992188\" xlink:href=\"#DejaVuSans-109\"/>\n      <use x=\"214.404297\" xlink:href=\"#DejaVuSans-98\"/>\n      <use x=\"277.880859\" xlink:href=\"#DejaVuSans-101\"/>\n      <use x=\"339.404297\" xlink:href=\"#DejaVuSans-116\"/>\n      <use x=\"378.613281\" xlink:href=\"#DejaVuSans-104\"/>\n     </g>\n    </g>\n    <g id=\"line2d_35\">\n     <path d=\"M 39.103125 118.965625 \nL 59.103125 118.965625 \n\" style=\"fill:none;stroke:#8c564b;stroke-linecap:square;stroke-width:1.5;\"/>\n    </g>\n    <g id=\"line2d_36\"/>\n    <g id=\"text_23\">\n     <!-- Lewisham -->\n     <g transform=\"translate(67.103125 122.465625)scale(0.1 -0.1)\">\n      <defs>\n       <path d=\"M 4.203125 54.6875 \nL 13.1875 54.6875 \nL 24.421875 12.015625 \nL 35.59375 54.6875 \nL 46.1875 54.6875 \nL 57.421875 12.015625 \nL 68.609375 54.6875 \nL 77.59375 54.6875 \nL 63.28125 0 \nL 52.6875 0 \nL 40.921875 44.828125 \nL 29.109375 0 \nL 18.5 0 \nz\n\" id=\"DejaVuSans-119\"/>\n      </defs>\n      <use xlink:href=\"#DejaVuSans-76\"/>\n      <use x=\"53.962891\" xlink:href=\"#DejaVuSans-101\"/>\n      <use x=\"115.486328\" xlink:href=\"#DejaVuSans-119\"/>\n      <use x=\"197.273438\" xlink:href=\"#DejaVuSans-105\"/>\n      <use x=\"225.056641\" xlink:href=\"#DejaVuSans-115\"/>\n      <use x=\"277.15625\" xlink:href=\"#DejaVuSans-104\"/>\n      <use x=\"340.535156\" xlink:href=\"#DejaVuSans-97\"/>\n      <use x=\"401.814453\" xlink:href=\"#DejaVuSans-109\"/>\n     </g>\n    </g>\n    <g id=\"line2d_37\">\n     <path d=\"M 39.103125 133.64375 \nL 59.103125 133.64375 \n\" style=\"fill:none;stroke:#e377c2;stroke-linecap:square;stroke-width:1.5;\"/>\n    </g>\n    <g id=\"line2d_38\"/>\n    <g id=\"text_24\">\n     <!-- Newham -->\n     <g transform=\"translate(67.103125 137.14375)scale(0.1 -0.1)\">\n      <defs>\n       <path d=\"M 9.8125 72.90625 \nL 23.09375 72.90625 \nL 55.421875 11.921875 \nL 55.421875 72.90625 \nL 64.984375 72.90625 \nL 64.984375 0 \nL 51.703125 0 \nL 19.390625 60.984375 \nL 19.390625 0 \nL 9.8125 0 \nz\n\" id=\"DejaVuSans-78\"/>\n      </defs>\n      <use xlink:href=\"#DejaVuSans-78\"/>\n      <use x=\"74.804688\" xlink:href=\"#DejaVuSans-101\"/>\n      <use x=\"136.328125\" xlink:href=\"#DejaVuSans-119\"/>\n      <use x=\"218.115234\" xlink:href=\"#DejaVuSans-104\"/>\n      <use x=\"281.494141\" xlink:href=\"#DejaVuSans-97\"/>\n      <use x=\"342.773438\" xlink:href=\"#DejaVuSans-109\"/>\n     </g>\n    </g>\n    <g id=\"line2d_39\">\n     <path d=\"M 39.103125 148.321875 \nL 59.103125 148.321875 \n\" style=\"fill:none;stroke:#7f7f7f;stroke-linecap:square;stroke-width:1.5;\"/>\n    </g>\n    <g id=\"line2d_40\"/>\n    <g id=\"text_25\">\n     <!-- Southwark -->\n     <g transform=\"translate(67.103125 151.821875)scale(0.1 -0.1)\">\n      <defs>\n       <path d=\"M 53.515625 70.515625 \nL 53.515625 60.890625 \nQ 47.90625 63.578125 42.921875 64.890625 \nQ 37.9375 66.21875 33.296875 66.21875 \nQ 25.25 66.21875 20.875 63.09375 \nQ 16.5 59.96875 16.5 54.203125 \nQ 16.5 49.359375 19.40625 46.890625 \nQ 22.3125 44.4375 30.421875 42.921875 \nL 36.375 41.703125 \nQ 47.40625 39.59375 52.65625 34.296875 \nQ 57.90625 29 57.90625 20.125 \nQ 57.90625 9.515625 50.796875 4.046875 \nQ 43.703125 -1.421875 29.984375 -1.421875 \nQ 24.8125 -1.421875 18.96875 -0.25 \nQ 13.140625 0.921875 6.890625 3.21875 \nL 6.890625 13.375 \nQ 12.890625 10.015625 18.65625 8.296875 \nQ 24.421875 6.59375 29.984375 6.59375 \nQ 38.421875 6.59375 43.015625 9.90625 \nQ 47.609375 13.234375 47.609375 19.390625 \nQ 47.609375 24.75 44.3125 27.78125 \nQ 41.015625 30.8125 33.5 32.328125 \nL 27.484375 33.5 \nQ 16.453125 35.6875 11.515625 40.375 \nQ 6.59375 45.0625 6.59375 53.421875 \nQ 6.59375 63.09375 13.40625 68.65625 \nQ 20.21875 74.21875 32.171875 74.21875 \nQ 37.3125 74.21875 42.625 73.28125 \nQ 47.953125 72.359375 53.515625 70.515625 \nz\n\" id=\"DejaVuSans-83\"/>\n      </defs>\n      <use xlink:href=\"#DejaVuSans-83\"/>\n      <use x=\"63.476562\" xlink:href=\"#DejaVuSans-111\"/>\n      <use x=\"124.658203\" xlink:href=\"#DejaVuSans-117\"/>\n      <use x=\"188.037109\" xlink:href=\"#DejaVuSans-116\"/>\n      <use x=\"227.246094\" xlink:href=\"#DejaVuSans-104\"/>\n      <use x=\"290.625\" xlink:href=\"#DejaVuSans-119\"/>\n      <use x=\"372.412109\" xlink:href=\"#DejaVuSans-97\"/>\n      <use x=\"433.691406\" xlink:href=\"#DejaVuSans-114\"/>\n      <use x=\"474.804688\" xlink:href=\"#DejaVuSans-107\"/>\n     </g>\n    </g>\n    <g id=\"line2d_41\">\n     <path d=\"M 39.103125 163 \nL 59.103125 163 \n\" style=\"fill:none;stroke:#bcbd22;stroke-linecap:square;stroke-width:1.5;\"/>\n    </g>\n    <g id=\"line2d_42\"/>\n    <g id=\"text_26\">\n     <!-- Waltham Forest -->\n     <g transform=\"translate(67.103125 166.5)scale(0.1 -0.1)\">\n      <defs>\n       <path d=\"M 3.328125 72.90625 \nL 13.28125 72.90625 \nL 28.609375 11.28125 \nL 43.890625 72.90625 \nL 54.984375 72.90625 \nL 70.3125 11.28125 \nL 85.59375 72.90625 \nL 95.609375 72.90625 \nL 77.296875 0 \nL 64.890625 0 \nL 49.515625 63.28125 \nL 33.984375 0 \nL 21.578125 0 \nz\n\" id=\"DejaVuSans-87\"/>\n       <path d=\"M 9.8125 72.90625 \nL 51.703125 72.90625 \nL 51.703125 64.59375 \nL 19.671875 64.59375 \nL 19.671875 43.109375 \nL 48.578125 43.109375 \nL 48.578125 34.8125 \nL 19.671875 34.8125 \nL 19.671875 0 \nL 9.8125 0 \nz\n\" id=\"DejaVuSans-70\"/>\n      </defs>\n      <use xlink:href=\"#DejaVuSans-87\"/>\n      <use x=\"92.501953\" xlink:href=\"#DejaVuSans-97\"/>\n      <use x=\"153.78125\" xlink:href=\"#DejaVuSans-108\"/>\n      <use x=\"181.564453\" xlink:href=\"#DejaVuSans-116\"/>\n      <use x=\"220.773438\" xlink:href=\"#DejaVuSans-104\"/>\n      <use x=\"284.152344\" xlink:href=\"#DejaVuSans-97\"/>\n      <use x=\"345.431641\" xlink:href=\"#DejaVuSans-109\"/>\n      <use x=\"442.84375\" xlink:href=\"#DejaVuSans-32\"/>\n      <use x=\"474.630859\" xlink:href=\"#DejaVuSans-70\"/>\n      <use x=\"528.525391\" xlink:href=\"#DejaVuSans-111\"/>\n      <use x=\"589.707031\" xlink:href=\"#DejaVuSans-114\"/>\n      <use x=\"628.570312\" xlink:href=\"#DejaVuSans-101\"/>\n      <use x=\"690.09375\" xlink:href=\"#DejaVuSans-115\"/>\n      <use x=\"742.193359\" xlink:href=\"#DejaVuSans-116\"/>\n     </g>\n    </g>\n    <g id=\"line2d_43\">\n     <path d=\"M 39.103125 177.678125 \nL 59.103125 177.678125 \n\" style=\"fill:none;stroke:#17becf;stroke-linecap:square;stroke-width:1.5;\"/>\n    </g>\n    <g id=\"line2d_44\"/>\n    <g id=\"text_27\">\n     <!-- Westminster -->\n     <g transform=\"translate(67.103125 181.178125)scale(0.1 -0.1)\">\n      <use xlink:href=\"#DejaVuSans-87\"/>\n      <use x=\"93.001953\" xlink:href=\"#DejaVuSans-101\"/>\n      <use x=\"154.525391\" xlink:href=\"#DejaVuSans-115\"/>\n      <use x=\"206.625\" xlink:href=\"#DejaVuSans-116\"/>\n      <use x=\"245.833984\" xlink:href=\"#DejaVuSans-109\"/>\n      <use x=\"343.246094\" xlink:href=\"#DejaVuSans-105\"/>\n      <use x=\"371.029297\" xlink:href=\"#DejaVuSans-110\"/>\n      <use x=\"434.408203\" xlink:href=\"#DejaVuSans-115\"/>\n      <use x=\"486.507812\" xlink:href=\"#DejaVuSans-116\"/>\n      <use x=\"525.716797\" xlink:href=\"#DejaVuSans-101\"/>\n      <use x=\"587.240234\" xlink:href=\"#DejaVuSans-114\"/>\n     </g>\n    </g>\n   </g>\n  </g>\n </g>\n <defs>\n  <clipPath id=\"p1a4969cc63\">\n   <rect height=\"217.44\" width=\"334.8\" x=\"30.103125\" y=\"17.798438\"/>\n  </clipPath>\n </defs>\n</svg>\n",
      "text/plain": [
       "<Figure size 432x288 with 1 Axes>"
      ]
     },
     "metadata": {
      "needs_background": "light"
     }
    }
   ],
   "metadata": {
    "colab": {},
    "colab_type": "code",
    "id": "cKTyr437UgDa"
   }
  },
  {
   "cell_type": "markdown",
   "source": [
    "### 4. Conclusion\n",
    "What can you conclude? Type out your conclusion below. \n",
    "\n",
    "Look back at your notebook. Think about how you might summarize what you have done, and prepare a quick presentation on it to your mentor at your next meeting. \n",
    "\n",
    "We hope you enjoyed this practical project. It should have consolidated your data hygiene and pandas skills by looking at a real-world problem involving just the kind of dataset you might encounter as a budding data scientist. Congratulations, and looking forward to seeing you at the next step in the course! "
   ],
   "metadata": {
    "colab_type": "text",
    "id": "NzYUI7FxJpgv"
   }
  }
 ],
 "metadata": {
  "colab": {
   "collapsed_sections": [],
   "name": "Springboard Data Science Career Track Unit 4 Challenge - Tier 3 Complete .ipynb",
   "provenance": []
  },
  "interpreter": {
   "hash": "dd659fe070a3178317b6f9ce10859e575b9ba889aca3e1b47277b5330d025227"
  },
  "kernelspec": {
   "name": "python3",
   "display_name": "Python 3.8.8 64-bit ('base': conda)"
  },
  "language_info": {
   "codemirror_mode": {
    "name": "ipython",
    "version": 3
   },
   "file_extension": ".py",
   "mimetype": "text/x-python",
   "name": "python",
   "nbconvert_exporter": "python",
   "pygments_lexer": "ipython3",
   "version": "3.8.8"
  }
 },
 "nbformat": 4,
 "nbformat_minor": 2
}